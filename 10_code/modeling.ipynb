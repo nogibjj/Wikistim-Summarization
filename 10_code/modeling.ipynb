{
 "cells": [
  {
   "cell_type": "code",
   "execution_count": 22,
   "metadata": {},
   "outputs": [
    {
     "name": "stderr",
     "output_type": "stream",
     "text": [
      "2023-10-10 11:10:35.932807: I tensorflow/core/platform/cpu_feature_guard.cc:182] This TensorFlow binary is optimized to use available CPU instructions in performance-critical operations.\n",
      "To enable the following instructions: AVX2 FMA, in other operations, rebuild TensorFlow with the appropriate compiler flags.\n",
      "2023-10-10 11:10:40.630236: W tensorflow/compiler/tf2tensorrt/utils/py_utils.cc:38] TF-TRT Warning: Could not find TensorRT\n"
     ]
    }
   ],
   "source": [
    "from transformers import (\n",
    "    AutoModelForCausalLM,\n",
    "    AutoTokenizer,\n",
    "    BitsAndBytesConfig,\n",
    "    HfArgumentParser,\n",
    "    TrainingArguments,\n",
    "    pipeline,\n",
    "    logging,\n",
    ")"
   ]
  },
  {
   "cell_type": "code",
   "execution_count": 23,
   "metadata": {},
   "outputs": [],
   "source": [
    "from transformers import LlamaModel, LlamaConfig, LlamaForCausalLM\n",
    "\n",
    "# Initializing a LLaMA llama-7b style configuration\n",
    "configuration = LlamaConfig()\n",
    "\n",
    "# Initializing a model from the llama-7b style configuration\n",
    "model = LlamaForCausalLM(configuration)\n",
    "\n",
    "# Accessing the model configuration\n",
    "configuration = model.config"
   ]
  },
  {
   "cell_type": "code",
   "execution_count": 24,
   "metadata": {},
   "outputs": [],
   "source": [
    "import pandas as pd \n",
    "test_data = pd.read_csv('/workspaces/Wikistim-Summarization/00_source_data/uncleaned_text.csv')"
   ]
  },
  {
   "cell_type": "code",
   "execution_count": 25,
   "metadata": {},
   "outputs": [],
   "source": [
    "my_test = test_data['full_article_text'][1]"
   ]
  },
  {
   "cell_type": "code",
   "execution_count": 37,
   "metadata": {},
   "outputs": [
    {
     "data": {
      "text/plain": [
       "'RESEARCH ARTICLE A multicenter real-world review of 10 kHz SCS outcomes for treatment of chronic trunk and/or limb pain Thomas Stauss1, Faycal El Majdoub2 , Dawood Sayed3, Gernot Surges4, William S. Rosenberg5, Leonardo Kapural6, Richard Bundschu7, Abdul Lalkhen8, Nileshkumar Patel1, Bradford Gliner9, Jeyakumar Subbaroyan9, Anand Rotte9, Deborah R. Edgar10, Martin Bettag4 & Mohammad Maarouf2 1Advanced Pain Management, Greenﬁeld, Wisconsin 2Department of Stereotactic and Functional Neurosurgery, Cologne Merheim Medical Center, University of Witten/Herdecke, Cologne, Germany 3Department of Anesthesiology and Pain Medicine, University of Kansas Medical Center, Kansas City, Kansas 4KH Barmherzige Br€uder, Trier, Germany 5Center for the Relief of Pain, Kansas City, Missouri 6Carolinas Pain Institute, Winston-Salem, North Carolina 7Coastal Orthopedics and Pain Medicine, Bradenton, Florida 8The Manchester and Salford Pain Centre, Salford, United Kingdom 9Nevro Corp, Redwood City, California 10Commexus Ltd, Dunblane, United Kingdom Correspondence Anand Rotte, Nevro Corp, Redwood City, CA. Tel: +1-650-433-3202; Fax: +1-650-252- 1403; E-mail: anand.rotte@nevro.com Funding Information Nevro Corp. Received: 12 September 2018; Revised: 20 December 2018; Accepted: 22 December 2018 Annals of Clinical and Translational Neurology 2019; 6(3): 496–507 doi: 10.1002/acn3.720 Abstract Objectives: High-frequency spinal cord stimulation (HF-SCS) at 10 kHz has proven to be efﬁcacious in the treatment of chronic back and leg pain in a randomized, controlled, trial (SENZA-RCT). However, large observational studies have yet to be published. Therefore, we performed a real-world, mul- ticenter, retrospective, review of therapy efﬁcacy in 1660 patients with chronic trunk and/or limb pain. Methods: Data were collected in a real- world environment and retrospectively sourced from a global database. Included patients were trialed and/or permanently implanted with HF-SCS at 10 kHz between April 2014 and January 2018. We evaluated responder rates at 3, 6, and 12 months post-implantation. Response was deﬁned as ≥50% pain relief from baseline. A last visit analysis included responder rate along with overall change in function, sleep, quality of life, and medication intake versus baseline. Results: Eighty-four percent of our HF-SCS-treated patients had both chronic back and leg pain. At least 70% of patients reported response to therapy throughout 12 months of follow-up. This sustained responder rate was corroborated by the last visit value (74.1%). Most patients reported concomitant improvements in function (72.3%), sleep (68.0%), and quality of life (90.3%) at their last visit versus baseline. Thirty- two percent of patients reported decreased medication intake at their last visit. Interpretation: Sustained and effective pain relief was experienced by >70% of our HF-SCS-treated patients, consistent with the ﬁndings of a pre- viously published randomized, controlled, trial. Our review provides comple- mentary evidence to support the treatment of chronic back and leg pain with this therapy. Introduction Chronic pain is a pervasive health issue worldwide.1,2 It places a substantial burden on society, families, and indi- viduals.3 Low back pain is one of the most prevalent chronic pain syndromes. It affects over 500 million peo- ple globally and is the largest single cause of years lived with disability.4 Persistent back and/or radicular leg pain secondary to spinal surgery, also known as failed back surgery syndrome (FBSS), is quite a common condition 496 ª 2019 The Authors. Annals of Clinical and Translational Neurology published by Wiley Periodicals, Inc on behalf of American Neurological Association. This is an open access article under the terms of the Creative Commons Attribution-NonCommercial-NoDerivs License, which permits use and distribution in any medium, provided the original work is properly cited, the use is non-commercial and no modiﬁcations or adaptations are made. in the population with similar levels of prevalence and incidence to rheumatoid arthritis.5,6 Despite the availabil- ity of numerous treatment modalities, satisfactory pain control remains elusive for many patients. Interventional pain management specialists have used traditional low-frequency spinal cord stimulation (LF- SCS) to treat FBSS for several decades. Its effectiveness has been established in patients with predominant leg pain.7,8 It is generally accepted after decades of experience and research in this area that LF-SCS provides around 50% pain relief in approximately half of patients.9 While this is an overall success story for many patients with intractable pain, the therapy has key limitations. Half of patients do not achieve satisfactory pain control, and for many that do initially, long-term studies suggest that therapy effectiveness can diminish after several years.10–15 Achieving good outcomes in patients with predominant axial back pain is especially challenging.16 In addition, the necessary paresthesia which characterizes successful LF- SCS is uncomfortable for some patients, particularly if they experience overstimulation during postural changes.17,18 New stimulation waveforms offer the opportunity to improve clinical outcomes and provide a more comfort- able patient experience. High-frequency spinal cord stim- ulation (HF-SCS) at 10 kHz has proven to do both. In an RCT, the therapy was compared with LF-SCS in subjects with chronic back and leg pain.19 At 24 months after implantation, for both back and leg pain, approximately half of LF-SCS subjects were responders to therapy (at least 50% pain relief from baseline), while around three- quarters were responders to HF-SCS at 10 kHz. Over- and-above the long-term superiority over LF-SCS, sub- jects receiving HF-SCS at 10 kHz did not experience any paresthesia or stimulation-related discomfort.20 Within the clinical evidence hierarchy, randomized, controlled, trials are the gold-standard study design to minimize bias and confounding factors.21 Their goal is to generate, as far as is reasonably possible within the study setting and design, credible evidence of a cause-and-effect relationship between a treatment and an outcome in a target population. The role of RCTs is well-established and central to the practice of evidence-based medicine. However, while the validity of RCTs can be high within their target population, their external validity may be lim- ited by strict patient selection, limited duration, and rig- orous clinical protocols.21–23 A closer reﬂection of everyday clinical practice may be accomplished using pragmatic observational studies. Although such studies cannot infer causal relationships, they can produce com- plementary evidence to validate the outcomes of RCTs.23 In the case of HF-SCS at 10 kHz, results from observa- tional studies in large groups of patients have yet to be published. Therefore, we performed a real-world, multi- center, retrospective, review of the efﬁcacy of this therapy in 1660 patients with chronic trunk and/or limb pain. Methods Study design and setting Data for this international, retrospective, multicenter, review were drawn from a real-world, global, database populated with anonymized records from all included patients who were trialed and/or permanently implanted with a Senza TM system delivering HF-SCS at 10 kHz and maintained by Nevro Corp., Redwood City, CA, USA. Eight sites (both academic and non-academic centers) across three countries participated in this review. Each site had at least 100 implanted patients over a 2-year per- iod. Five sites were located in the USA, 2 in Germany, and 1 in the UK. Due to the retrospective nature of the analyses and use of anonymized data listings, ethical com- mittee approval was not required for this study. Selection criteria We retrospectively extracted and analyzed the database records from all trunk and/or limb pain patients in par- ticipating institutions who were trialed and/or perma- nently implanted with HF-SCS at 10 kHz between April 2014 and January 2018. Follow-up Trial and permanent implantation procedures for the therapy have been described previously.20 Aside from the standard of care clinical follow-ups, pre- and post- implantation patient management included the support of a local clinical specialist under the guidance of a pain physician. The principal role of the clinical specialist was to assess therapy effectiveness at each clinic visit via a ser- ies of structured questions and assist in carrying out ther- apy optimization, as necessary. If patients were not able to attend regular follow-up visits at 3, 6, 12 month and/ or last visit assessment after permanent implant they’ve been contacted by clinical specialist via telephone. Stan- dard programming strategies were followed for HF-SCS at 10 kHz based on patient-reported pain relief and included an electrode bipole search to determine the optimal stim- ulation site within the vertebral column, typically near thoracic vertebral levels 9 and 10. If needed, there were several additional therapy optimization tools available to evaluate more complex electrode combinations, pulse trains, and amplitude settings. Data were entered into the global database after each follow-up. ª 2019 The Authors. Annals of Clinical and Translational Neurology published by Wiley Periodicals, Inc on behalf of American Neurological Association. 497 T. Stauss et al. 10 kHz HF-SCS for Chronic Trunk and/or Limb Pain Variables Patient records were extracted from the database at numerous study time points including baseline, during the trial, and at each scheduled post-implantation follow- up. The last visit assessment was deﬁned as the last clinic or telephone follow-up with the patient at any time after permanent implantation, before the data were pooled for ﬁnal report. Baseline data comprised pain intensity score measured using an 11-point verbal numeric rating scale (VNRS; 0 = no pain to 10 = worst possible pain), pain distribu- tion, and previous LF-SCS experience (if any). Data from the trial included pain intensity score (VNRS) and per- centage pain relief obtained from the therapy (0% = no pain relief to 100% = complete pain relief). The latter variable was also extracted from each post-implantation follow-up. From the last visit, variables were extracted relating to the usage of additional therapy optimization tools (10 kHz preferred program), overall change in medication (increased, decreased, or unchanged), function (improved: yes or no), and sleep (improved: yes or no). In USA, additional variables relating to overall change in quality of life (a great deal better, moderately better, or no change), satisfaction with therapy, device recharge experi- ence, frequency of therapy adjustments, and device usage while sleeping and driving were extracted. All variables were patient-reported except those relating to therapy optimization. Therapy response was evaluated from the percentage pain relief documented during the trial, at each scheduled post-implantation follow-up, and at the last visit. Response to therapy was deﬁned as at least 50% pain relief from baseline. Statistical methods Descriptive analysis of continuous variables included median, 25th (Q1) and 75th (Q3) percentiles. Categorical variables were reported as counts and percentages with 95% conﬁdence intervals (CI) where possible. Pain relief data were analyzed by reporting descriptive statistics. As an additional supportive analysis, last visit data were eval- uated. All data were analyzed as-observed. Outcomes from this cohort relating to overall change in quality of life, satisfaction with therapy, device recharge experience, frequency of therapy adjustments, and device usage while sleeping and driving were also compared to available commercial data from all implanted patients in USA. These anonymized data were collected in the real-world setting and stored in the global database. In addition, selected outcomes were further analyzed in the subgroup of patients with previously unsuccessful LF-SCS. The number of patients with available data is reported for each measure. All analyses were carried out in Microsoft Excel 2013 (Microsoft, Redmond, WA, USA). Results Patient cohort During the 4-year review period, 1660 patients were tri- aled and/or permanently implanted with HF-SCS at 10 kHz at participating institutions (Fig. 1). Of these, 1603 had percentage pain relief trial data available and were analyzed for therapy response. The same data were available for 844, 600, and 326 patients, at 3, 6, and 12 months post-implantation, respectively, and for 1131 patients at the last visit. As the data were collected in a real-world setting, only a fraction of patients had infor- mation at 3, 6, and 12 months, whereas majority had information at last visit assessment. The mean time between implantation and the last visit was 8.9 months (SD �6.7, median 6.9, range 0.1–33.2). Patient characteristics Baseline patient characteristics are presented in Table 1. Pain distribution data were available for 1640 patients. Of these, 43.5% reported back and leg pain, 27.4% predomi- nant back pain, and 12.6% predominant leg pain. Upper back, left arm, and right arm constituted the three main other pain distributions (16.5%). Approximately a quarter of patients (23.9%, N = 1596) had been unsuccessfully treated with LF-SCS in the past. Median pain intensity score for the cohort (N = 1603) was 8.0 (Q1–Q3, 7.0–9.0). Pain distribution was slightly, but signiﬁcantly different (P = 0.002, chi-square test) between patients included from Europe (N = 479) and the USA (N = 1161) (Table 1). Brieﬂy, of the patients with available pain dis- tribution data, 39.7% in Europe and 45.0% in the USA reported back and leg pain, 24.6% and 28.6% predomi- nant back pain, and 14.8% and 11.7% predominant leg pain, respectively, and 20.5% in Europe and 25.2% in the USA had been unsuccessfully treated with LF-SCS in the past. Median pain intensity scores for patients included from Europe and the USA were 9.0 (Q1–Q3, 8.0–9.5) and 8.0 (Q1–Q3, 7.0–9.0), respectively. Outcomes Pain relief and responder rate At the end of trial time point, 86.9% of all patients (1393/1603) responded to therapy (at least 50% pain 498 ª 2019 The Authors. Annals of Clinical and Translational Neurology published by Wiley Periodicals, Inc on behalf of American Neurological Association. 10 kHz HF-SCS for Chronic Trunk and/or Limb Pain T. Stauss et al. relief from baseline). Trial responders reported a signiﬁ- cant (P < 0.00001, Mann–Whitney U test) reduction in pain intensity scores, with median scores reduced from 8.0 (Q1–Q3, 7.0–9.0) to 3.0 (Q1–Q3, 1.0–4.0), a reduc- tion of 62.5%. Furthermore, pain intensity scores (VNRS) were signiﬁcantly lower at all time points (P < 0.00001, Mann–Whitney U test) compared to baseline in the responding patients. Median pain intensity score decreased from 8.0 (Q1–Q3, 7.0–9.0) to 3.0 (Q1–Q3, 2.0– 4.0), 3.0 (Q1–Q3, 2.0–4.0), 3.0 (Q1–Q3, 2.0–4.0), and 3.0 (Q1–Q3, 2.0–4.0) at 3, 6, 12 months and the last visit, respectively. Of the 844 patients with percentage pain relief data available at 3 months post-implantation, 74.6% responded to therapy. This responder rate was sustained throughout 12 months post-implantation (Fig. 2) and was consistent with the last visit value of 74.1% (N = 1131). Responder rate was further analyzed accord- ing to whether patients were included from Europe or the USA. Though the responder rates appeared to be slightly Figure 1. Flowchart detailing the number of patients included in the review and analyzed at each study time point for therapy response and pie chart showing patient demographics by pain type. Due to the collection of data in a real-world setting, only a fraction of patients had information at 3, 6, and 12 months, whereas majority had information at last visit assessment. ª 2019 The Authors. Annals of Clinical and Translational Neurology published by Wiley Periodicals, Inc on behalf of American Neurological Association. 499 T. Stauss et al. 10 kHz HF-SCS for Chronic Trunk and/or Limb Pain higher in patients from Europe at the 3-month follow-up (85.0% vs. 70.2%), the difference dissipated at later fol- low-up times including the last visit (Fig. 2). Safety Among the 1290 patients with safety data available, 48 had their devices explanted (3.7%) (Table 2). Of these, 22 were removed sequela to infection (1.7%), 15 due to loss of efﬁcacy (1.2%), and 11 for other reasons (0.8%). Ease of use While a high percentage of patients responded well to standard 10 kHz target optimization using a simple bipole, additional 10 kHz therapy optimization tools were utilized in 56.7% of all patients (N = 1198) (Fig. 3). These programming options were applied in a standard- ized fashion and customized to each patient’s needs. In total, 38.3% of all patients (N = 1198) had multi-area pain sequencing (MAPS) or bipole interlacing pro- grammed. The former option combined different pro- grams while the latter merged multiple bipole programs into one program. Pulse dosing was programmed in 18.4% of the population (N = 1198) and delivered stimu- lation in on-off cycles. Interestingly, additional 10 kHz therapy optimization tools were utilised in 72.7% of patients from Europe (N = 391) and in 48.9% of patients from the USA (N = 807) (Fig. 3). More speciﬁcally, MAPS or bipole interlacing was programmed in 54.9% and 30.2% of Eur- ope and USA patients, respectively, while pulse dosing was programmed in 17.8% and 18.7%, respectively. Quality of life Functional improvement at the last visit was noted by 72.3% of all patients (N = 1088), 78.8% of Europe patients (N = 311), and 69.8% of USA patients (N = 777) (Fig. 3). Improved sleep was reported by 68.0% of all patients (N = 1020), 68.5% of Europe patients (N = 286), and 67.8% of USA patients (N = 734). Additional responses to questions at the last visit which evaluated overall change in quality of life, satisfaction with therapy, device recharge experience, frequency of therapy adjustments, and device usage while sleeping and driving are detailed in Table 3. Data were available for between 533 and 544 patients for all questions except that which focused on patients with previous LF-SCS experi- ence which had 60 responses. When questioned about overall change in quality of life, 90.3% of patients reported improvement. High levels of satisfaction with therapy were also reported by most patients: 82.4% were likely or very likely to undergo the procedure again for the same result, 89.5% were likely or very likely to recommend the therapy, and 95.0% of patients who had previous LF-SCS experience rated their HF-SCS at 10 kHz as better. Device recharging was found to be convenient in 86.4% of patients with the majority charging their device daily or every other day (94.1%) for about an hour or less (88.7%). Patients rarely adjusted their therapy more often than 2–3 times per week (2.2%). Nearly all patients slept and drove with their devices switched on (98.7% and 98.2%, respectively). The responses to this set of questions were generally in line with the commercial data from all implanted patients in USA (N = 8282; Table 3). Medication change Overall change in medication versus baseline was also analyzed at the last visit. A decrease in medication intake was reported by 32.1% of all patients (N = 1070), 40.0% of Europe patients (N = 310), and 28.9% of USA patients (N = 760) (Fig. 3). Table 1. Patient characteristics at baseline. Data is presented as % (95% conﬁdence lower limit-upper limit). Characteristic Europe (%) USA (%) All (%) Pain distribution N = 479 N = 1161 N = 1640 Back and leg 39.7% (36.9%–42.5%) 45.0% (40.5%–49.5%) 43.5% (41.1%–45.9%) Predominant back 24.6% (22.1%–27.1%) 28.6% (24.6%–32.6%) 27.4% (25.2%–29.6%) Predominant leg 14.8% (12.8%–16.8%) 11.7% (8.8%–14.6%) 12.6% (11.0%–14.2%) Other 20.9% (18.6%–23.2%) 14.6% (11.4%–17.8%) 16.5% (14.7%–18.3%) LF-SCS experience N = 443 N = 1153 N = 1596 Prior experience 20.5% (16.7%–24.3%) 25.2% (22.7%–27.7%) 23.9% (21.8%–26.0%) No prior experience 79.5% (75.7%–83.3%) 74.8% (72.3%–77.3%) 76.1% (74.0%–78.2%) Pain intensity N = 479 N = 1124 N = 1603 Median pain intensity score (VNRS) 9.0 (Q1–Q3, 8.0–9.5) 8.0 (Q1–Q3, 7.0–9.0) 8.0 (Q1–Q3, 7.0–9.0) LF-SCS, Low-frequency spinal cord stimulation; VNRS, 11-point verbal numeric rating scale (0 = no pain to 10 = worst possible pain). 500 ª 2019 The Authors. Annals of Clinical and Translational Neurology published by Wiley Periodicals, Inc on behalf of American Neurological Association. 10 kHz HF-SCS for Chronic Trunk and/or Limb Pain T. Stauss et al. Patients with previous LF-SCS Outcomes were analyzed as they related to the subgroup of patients with previously unsuccessful LF-SCS. The results of HF-SCS in this patient subgroup were compara- ble to the results for the entire cohort. Pain distribution data (N = 382) indicated that 47.6% had back and leg pain, 26.7% predominant back pain, 10.7% predominant leg pain, and 14.9% other pain distributions. Median pain intensity score at baseline was 8.0 (Q–Q3, 7.0–9.0) (N = 337). The mean time between implantation and the last visit was 10.7 months (�7.7, range 0.1–33.2). Success- ful trials were reported in 88.4% of this group (298/337). Pain intensity scores in trial responders reduced signiﬁ- cantly (P < 0.0001, Mann–Whitney U test). Median scores reduced from 8.0 (Q1–Q3, 7.0–9.0) to 3.0 (Q1–Q3, 1.8–4.0) points, a reduction of 62.5%. At 3, 6, and 12 months post-implantation, 75.6% (N = 193), 72.1% (N = 147), and 78.9% (N = 90) of patients responded to therapy, respectively (Fig. 2). Of the 266 patients with percentage pain relief data available at the last visit, 74.1% responded to therapy. At the last visit, 32.5% of patients (N = 40) reported decreased medication intake versus baseline, 82.5% (N = 40) improved function, and 70.0% (N = 30) improved sleep. Responses to questions at the last visit which evaluated overall change in quality of life, satisfaction with therapy, device recharge experi- ence, frequency of therapy adjustments, and device usage while sleeping and driving were very similar to the whole cohort of patients (Table 3). Discussion This publication constitutes the most extensive study to date evaluating the real-world efﬁcacy of HF-SCS 10 kHz therapy for chronic back and/or limb pain. Data were ret- rospectively sourced from eight participating centers across three countries over a 4-year period. A total of 1660 patients were included in the review. The majority of the cohort had both chronic back and leg pain or axial back pain (71%), which are historically difﬁcult-to-treat pain syndromes. Our review found that >70% of our HF- SCS treated patients experienced at least 50% pain relief throughout 12 months of post-implantation follow-up. This outcome was corroborated by the last visit analysis. Concomitant improvements in quality of life, function, sleep, and medication reduction as well as high levels of satisfaction with the therapy were also reported. Therapeutic and device durability was found to be robust as evidenced by an extremely low explantation rate. The overall rate of system explant was 3.7%, far less than historical norms for traditional spinal cord stimula- tion (LF-SCS).24 Explants due to infection were 1.7% of implants. This value is slightly lower than the published historical rates of LF-SCS infection of 3-5%.25 Explants due to loss of efﬁcacy occurred in 1.2% of the implanted population. Behind battery depletion in non-rechargeable IPGs, explants due to loss of efﬁcacy are the predominant driver for historical LF-SCS explantations; thus, the low rates of explant for this reason are highly encouraging. There were no explants due to battery depletion. Figure 2. Responder rate (�95% conﬁdence interval) at each study time point. Table 2. Details of device explants in the population. Reason for explant n (%; 95% conﬁdence range) N = 1290 Infection 22 (1.7%; 1.0%–2.4%) Loss of efﬁcacy 15 (1.2%; 0.6%–1.8%) Other reasons 11 (0.8%; 0.3%–1.3%) Total 48 (3.7%; 2.7%–4.7%) ª 2019 The Authors. Annals of Clinical and Translational Neurology published by Wiley Periodicals, Inc on behalf of American Neurological Association. 501 T. Stauss et al. 10 kHz HF-SCS for Chronic Trunk and/or Limb Pain Figure 3. Evaluation of therapy optimization tools (10 kHz preferred program) and overall change in medication, function, and sleep, at the last visit. Therapy optimization tools: Multi-area pain sequencing (MAPS) combines different programs; bipole interlacing merges multiple bipole programs into one program; pulse dosing delivers stimulation in on-off cycles. Values given as % with 95% conﬁdence interval. 502 ª 2019 The Authors. Annals of Clinical and Translational Neurology published by Wiley Periodicals, Inc on behalf of American Neurological Association. 10 kHz HF-SCS for Chronic Trunk and/or Limb Pain T. Stauss et al. Table 3. Responses to questions which evaluated overall change in quality of life, satisfaction with therapy, device recharge experience, frequency of therapy adjustments, and device usage while sleeping and driving. Based on data available at the last visit from USA patients. Data is presented as % (95% conﬁdence lower limit-upper limit). Question Patients in this review1 % Subgroup of patients with previous LF-SCS experience in this review2 % Comparative cohort: patients from the entire USA3 % Overall change in quality of life Since having your device, how would you describe the change in activity limitations, symptoms, emotions and overall quality of life? N = 544 N = 140 N = 8283 A great deal better Moderately better No change 56.6% (52.4%–60.8%) 33.6% (29.6%–37.6%) 9.7% (7.2%–12.2%) 51.4% (43.1%–59.7%) 36.4% (28.4%–48.4%) 12.1% (6.7%–17.5%) 56.3% (55.2%–57.4%) 30.4% (29.4%–31.4%) 13.3% � 0.7% (12.6%–14.0%) Satisfaction with therapy How likely are you to do it all again for the result you are getting now? N = 544 N = 140 N = 8276 Likely or very likely Not sure Unlikely or very unlikely 82.4% (79.2%–85.6%) 11.8% (9.1%–14.5%) 5.9% (3.9%–7.9%) 81.4% (75.0%–87.8%) 12.9% (7.3%–18.5%) 5.7% (1.7%–9.5%) 79.0% (78.1%–79.9%) 10.9% (10.2%–11.6%) 10.1% (9.5%–10.7%) How likely are you to recommend Nevro4 to someone who has similar pain? N = 541 N = 140 N = 8183 Likely or very likely Not sure Unlikely or very unlikely 89.5% (86.9%–92.1%) 7.6% (5.4%–9.8%) 3.0% (1.6%–4.4%) 85.7% (79.9%–91.5%) 9.3% (4.5%–14.1%) 5.0% (1.4%–8.6%) 84.7% (83.9%–85.5%) 10.9% (10.2%–11.6%) 4.5% (4.1%–4.9%) How would you rate the Nevro4 device in comparison to the previous SCS 5 you experienced? N = 60 N = 920 A great deal better Moderately better No change 90.0% (82.4%–97.6%) 5.0% (0–10.5%) 5.0% (0–10.5%) 76.8% (74.1%–79.5%) 11.0% (9.0%–13.0%) 12.2% (10.1%–14.3%) Device recharge experience How satisﬁed are you with the convenience of charging your device? N = 544 N = 140 N = 8276 Satisﬁed or very satisﬁed Neutral Dissatisﬁed or very dissatisﬁed 86.4% (83.5%–89.3%) 7.4% � 2.2% (5.2%–9.6%) 6.3% (4.3%–8.3%) 83.6% (77.5%–89.7%) 9.3% (4.5%–14.1%) 7.1% (2.8%–11.4%) 74.5% (73.6%–75.4%) 15.8% (15.0%–16.6%) 9.7% (9.1%–10.3%) How often do you charge your device? N = 544 N = 140 N = 8265 Every day Every other day Less than 2–3 times per week 81.8% (78.6%–85.0%) 12.3% (9.5%–15.1%) 5.7% (3.8%–7.6%) 77.1% (70.1%–84.1%) 18.6% (12.2%–25.0%) 3.6% (0.5%–6.7%) 81.3% (80.5%–82.1%) 13.4% (12.7%–14.1%) 4.8% (4.3%–5.3%) N = 533 N = 134 N = 8100 (Continued) ª 2019 The Authors. Annals of Clinical and Translational Neurology published by Wiley Periodicals, Inc on behalf of American Neurological Association. 503 T. Stauss et al. 10 kHz HF-SCS for Chronic Trunk and/or Limb Pain Table 3. Continued. Question Patients in this review1 % Subgroup of patients with previous LF-SCS experience in this review2 % Comparative cohort: patients from the entire USA3 % How long does it take you to charge your device? <30 min 30–60 min > 60 min 23.5% (19.9%–27.1%) 65.3% (61.3%–69.3%) 11.3% (8.6%–14.0%) 20.9% (14.0%–27.8%) 61.9% (53.7%–70.1%) 17.2% (10.8%–23.6%) 21.8% (20.9%–22.7%) 70.9% (69.9%–71.9%) 7.3% (6.7%–7.9%) Frequency of therapy adjustments How often do you use your remote control to adjust your therapy settings? N = 544 N = 140 N = 8272 Never Once per week or less often 2–3 times per week Daily 50.6% (46.4%–54.8%) 34.6% (30.6%–38.6%) 12.7% (9.9%–15.5%) 2.2% (1.0%–3.4%) 47.1% (38.8%–55.4%) 37.9% (29.9%–45.9%) 13.6% (7.9%–19.3%) 1.4% (0–3.3%) 46.8% (45.7%–47.9%) 38.8% (37.8%–39.8%) 11.3% (10.6%–12.0%) 3.1% (2.7%–3.5%) Device usage while sleeping and driving Do you sleep with your device turned on? N = 544 N = 140 N = 8274 Yes No 98.7% (97.7%–99.7%) 1.3% (0.3%–2.3%) 98.6% (96.7%–100.5%) 1.4% (0–3.3%) 98.8% (98.6%–99.0%) 1.2% (1.0%–1.4%) Do you drive with your device turned on? N = 543 N = 140 N = 8266 Yes No 98.2% (97.1%–99.3%) 1.8% (0.7%–2.9%) 97.9% (95.5%–100.3%) 2.1% (0–4.5%) 97.8% (97.5%–98.1%) 2.2% (1.9%–2.5%) 1Mean follow-up period = 8.9 months (SD �6.7, range 0.1–33.2). 2Mean follow-up period = 10.7 months (SD �7.7, range 0.1–33.2). 3Total number of responses from implanted patients in USA = 8282. Mean follow-up period = 8.1 months (SD � 5.2, range 0.3–26.4). 4Nevro refers to HF-SCS at 10 kHz therapy. 5SCS refers to LF-SCS therapy. 504 ª 2019 The Authors. Annals of Clinical and Translational Neurology published by Wiley Periodicals, Inc on behalf of American Neurological Association. 10 kHz HF-SCS for Chronic Trunk and/or Limb Pain T. Stauss et al. Device recharging was generally found to be convenient with most patients recharging daily, or every other day for an hour or less. Paresthesia-independent stimulation is likely to account for the vast majority of patients (98% or more) who rarely adjusted their therapy settings once optimal pain relief was achieved, and reported sleeping and driving with their devices switched on. Our analysis also showed that therapy can be tailored to individual patients, with patients ﬁnding their most successful pro- gram across a range of different applications of 10 kHz therapy. Further subgroup analysis of patients with previ- ously unsuccessful LF-SCS revealed that their outcomes were very similar to the whole cohort, indicating that 10 kHz HF-SCS therapy may be a useful treatment option for this group. Our responder rate outcomes are consistent with results from a multicenter, prospective, randomized, con- trolled trial (SENZA-RCT) comparing the therapy with LF-SCS.19,20 Recruited subjects had chronic, intractable, back and leg pain with average pain intensity in both locations of at least 5.0 cm on the visual analog scale (VAS). The SENZA-RCT longitudinal responder rates for axial back pain in HF-SCS 10 kHz subjects were 84%, 76%, and 79% at 3, 6, and 12 months, respectively. The corresponding rates for overall pain relief in our cohort were comparable (Fig. 4). Furthermore, 32% of our patients reported decreased medication intake at their last visit. This proportion is in line with the 36% of subjects receiving HF-SCS 10 kHz in the SENZA-RCT who reduced or stopped opioid pain medication at 12 months.20 Overall, the patient populations in both studies were broadly similar in their primary indication of chronic back and leg pain. The Level I evidence provided by the SENZA-RCT has been strengthened by the contribution of our real-world data from a large cohort of patients across multiple international centers and is likely to reﬂect everyday clinical practice. The concomitant reduc- tion in medication consumption found in both studies is potentially beneﬁcial to patients as well as health care providers since it may reduce prescription costs and visits to pharmacy. Limitations of this review are related to the real-world setting and include its retrospective nature, lack of control group and use of non-standardized measures for out- comes such as sleep. Data were not entered systematically across all centers and some patients may have been included in early follow-ups, but not later ones, and vice- versa. Both factors resulted in an inhomogeneous data set with a declining patient number throughout follow-up. In addition, longitudinal data were available only for per- centage pain relief. All other post-implantation variables were collected during a single last visit assessment. The real-world setting also prevented the collection of speciﬁc pain etiologies and implantation details as well as stan- dardized measures of medication intake, quality of life, function, and sleep. For example, the simpliﬁed measures we used did not evaluate pain medication intake by class, quality of life parameters relating to health and physical or social activities, or assessment of sleep latency and quality. As such these results should be interpreted with caution. Figure 4. Comparison of responder rates (�95% conﬁdence interval) between this real-world study and the SENZA-RCT. ª 2019 The Authors. Annals of Clinical and Translational Neurology published by Wiley Periodicals, Inc on behalf of American Neurological Association. 505 T. Stauss et al. 10 kHz HF-SCS for Chronic Trunk and/or Limb Pain Other limitations relate to our data analysis. Evaluating data as-observed may overestimate response.26 In addi- tion, given the non-normal distribution of the data, non- parametric statistics with mixed model approach using study as a ﬁxed categorical factor and period as a repeated categorical ﬁxed factor may have been a better choice for longitudinal analysis of pain relief. However, because the data was collected in a real-world setting and completely anonymized, pain relief data in a speciﬁed line could not be attributed to a single subject. Therefore, it was not possible to apply mixed model approach and only descriptive statistics could be used to analyze the data. Data distribution should be borne in mind while interpreting these results. Furthermore, evaluation of out- comes in patients with previously unsuccessful LF-SCS requires a larger population of patients to allow adequate statistical analysis. Finally, there were methodological differences related to study design and patient characteristics regarding the comparison of our responder rates to those reported in the SENZA-RCT. For example, our study evaluated over- all pain relief rather than separate back and leg pain relief (derived from VAS) as measured in the SENZA-RCT. Our measure was a pragmatic choice to enable quick assessment of therapy effectiveness during routine follow- up. Also, in our experience, percentage pain relief is a more straightforward concept to convey and understand in the real-world setting compared with VNRS or VAS. In cases where back and leg pain were reported equal, back pain may have been slightly predominant, but not identiﬁed by our verbal questions. Conclusions The present study was designed to evaluate the real-world effectiveness of HF-SCS at 10 kHz in a large group of patients with chronic trunk and/or limb pain. Our retro- spective analysis revealed that the therapy provided sus- tained and effective pain relief in >70% of the patients at all follow-up time points. This result was consistent with a previously published randomized, controlled, trial. The majority of our patients also reported improved quality of life, function, and sleep, as well as satisfaction with therapy. Our review provides complementary evidence to support the treatment of chronic back and leg pain with HF-SCS at 10 kHz. Author Contributions All the authors have reviewed and approved the ﬁnal ver- sion of this manuscript. D. Edgar prepared the manuscript with unrestricted access to the data. Authors thank the contribution of M. Kowalska, M. Maneshi of Nevro Corp. for their assistance in data analysis and J.-L. Marchal, InforStat Consultants, Belgium for help with statistical analysis. Conﬂict of Interest T. Stauss, G. Surges, D. Sayed, F. El Majdoub, W. S. Rosenberg, L. Kapural, R. Bundschu, A. Lalkhen, M. Maarouf and N. Patel are consultants to Nevro Corp., Redwood City, CA, USA. B. Gliner, J. Subbaroyan, and A. Rotte are employees of Nevro Corp., Redwood City, CA, USA. Funding was provided to Dr. Deborah Edgar in her capacity as a medical writer by Nevro Corp., Redwood City, CA, USA, for the preparation of this manuscript. References 1. International Association for the Study of Pain: Unrelieved pain is a major global healthcare problem. URL: https:// s3.amazonaws.com/rdcms-iasp/ﬁles/production/public/ Content/ContentFolders/GlobalYearAgainstPain2/ 20042005RighttoPainRelief/factsheet.pdf. Access date: 30th April 2018. 2. Goldberg DS, McGee SJ. Pain as a global public health priority. BMC Public Health 2011;6:770. 3. Henschke N, Kamper SJ, Maher CG. The epidemiology and economic consequences of pain. Mayo Clin Proc 2015;90:139–147. 4. GBD 2016 Disease and Injury Incidence and Prevalence Collaborators. Global, regional, and national incidence, prevalence, and years lived with disability for 328 diseases and injuries for 195 countries, 1990–2016: a systematic analysis for the Global Burden of Disease Study 2016. Lancet 2017;390:1211–1259. 5. Thomson S. Failed back surgery syndrome – deﬁnition, epidemiology and demographics. Br J Pain 2013;7:56–59. 6. Thomson S, Jacques L. Demographic characteristics of patients with severe neuropathic pain secondary to failed back surgery syndrome. Pain Pract 2009;9:206–215. 7. North RB, Kidd DH, Farrokhi F, Piantadosi SA. Spinal cord stimulation versus repeated lumbosacral spine surgery for chronic pain: a randomized, controlled trial. Neurosurgery 2005;56:98–106; discussion -7. 8. Kumar K, Taylor RS, Jacques L, et al. Spinal cord stimulation versus conventional medical management for neuropathic pain: a multicentre randomised controlled trial in patients with failed back surgery syndrome. Pain 2007;132:179–188. 9. Kapural L, Peterson E, Provenzano DA, Staats P. Clinical evidence for spinal cord stimulation for failed back surgery syndrome (FBSS): systematic review. Spine 2017;15(42 Suppl 14):S61–S66. 10. Kupers RC, Van den Oever R, Van Houdenhove B, et al. Spinal cord stimulation in Belgium: a nation-wide survey 506 ª 2019 The Authors. Annals of Clinical and Translational Neurology published by Wiley Periodicals, Inc on behalf of American Neurological Association. 10 kHz HF-SCS for Chronic Trunk and/or Limb Pain T. Stauss et al. on the incidence, indications and therapeutic efﬁcacy by the health insurer. Pain 1994;56:211–216. 11. Ohnmeiss DD, Rashbaum RF, Bogdanffy GM. Prospective outcome evaluation of spinal cord stimulation in patients with intractable leg pain. Spine 1996;21:1344–1350; discussion 51. 12. Alo KM, Redko V, Charnov J. Four year follow-up of dual electrode spinal cord stimulation for chronic pain. Neuromodulation 2002;5:79–88. 13. Cameron T. Safety and efﬁcacy of spinal cord stimulation for the treatment of chronic pain: a 20-year literature review. J Neurosurg 2004;100(3 Suppl Spine):254–267. 14. Sears NC, Machado AG, Nagel SJ, et al. Long-term outcomes of spinal cord stimulation with paddle leads in the treatment of complex regional pain syndrome and failed back surgery syndrome. Neuromodulation 2011;14:312–318; discussion 8. 15. Kumar K, Hunter G, Demeria D. Spinal cord stimulation in treatment of chronic benign pain: challenges in treatment planning and present status, a 22-year experience. Neurosurgery 2006;58:481–496; discussion -96. 16. Provenzano DA, Amirdelfan K, Kapural L, Sitzman BT. Evidence gaps in the use of spinal cord stimulation for treating chronic spine conditions. Spine 2017;15(42 Suppl 14):S80–S92. 17. Kuechmann C, Valine T, Wolfe DL. 853 could automatic position adaptive stimulation be useful in spinal cord stimulation? Eur J Pain 2009;13:S243. 18. Levy RM. Anatomic considerations for spinal cord stimulation. Neuromodulation 2014;17(Suppl 1):2–11. 19. Kapural L, Yu C, Doust MW, et al. Comparison of 10-kHz high-frequency and traditional low-frequency spinal cord stimulation for the treatment of chronic back and leg pain: 24-month results from a multicenter, randomized. Controlled Pivotal Trial. Neurosurgery 2016;79:667–677. 20. Kapural L, Yu C, Doust MW, et al. Novel 10-kHz high- frequency therapy (HF10 therapy) is superior to traditional low-frequency spinal cord stimulation for the treatment of chronic back and leg pain: the SENZA-RCT randomized controlled trial. Anesthesiology 2015;123:851–860. 21. Spieth PM, Kubasch AS, Penzlin AI, et al. Randomized controlled trials - a matter of design. Neuropsychiatr Dis Treat 2016;12:1341–1349. 22. Frieden TR. Evidence for health decision making - beyond randomized, controlled trials. N Engl J Med 2017;377:465–475. 23. Price D, Bateman ED, Chisholm A, et al. Complementing the randomized controlled trial evidence base. Evolution not revolution. Ann Am Thorac Soc 2014;11(Suppl 2): S92–S98. 24. Hayek SM, Veizi E, Hanes M. Treatment-limiting complications of percutaneous spinal cord stimulator implants: a review of 8 years of experience from an academic center database. Neuromodulation 2015;18:603– 608; discussion 8–9. 25. Provenzano DA, Deer T, Luginbuhl Phelps A, et al. An international survey to understand infection control practices for spinal cord stimulation. Neuromodulation 2016;19:71–84. 26. Amin M, No DJ, Darji K, Wu JJ. Interpreting clinical trial data. In: P. S. Yamauchi, ed. Biologic and Systemic Agents in Dermatology. pp. 27–36, 1st edn. Cham: Springer, 2018 ª 2019 The Authors. Annals of Clinical and Translational Neurology published by Wiley Periodicals, Inc on behalf of American Neurological Association. 507 T. Stauss et al. 10 kHz HF-SCS for Chronic Trunk and/or Limb Pain '"
      ]
     },
     "execution_count": 37,
     "metadata": {},
     "output_type": "execute_result"
    }
   ],
   "source": [
    "my_test"
   ]
  },
  {
   "cell_type": "code",
   "execution_count": 38,
   "metadata": {},
   "outputs": [
    {
     "data": {
      "text/plain": [
       "'/workspaces/Wikistim-Summarization/00_source_data/downloaded_pdfs/pdf_1.pdf'"
      ]
     },
     "execution_count": 38,
     "metadata": {},
     "output_type": "execute_result"
    }
   ],
   "source": [
    "test_data['Downloaded PDF Path'][1]"
   ]
  },
  {
   "cell_type": "code",
   "execution_count": 36,
   "metadata": {},
   "outputs": [
    {
     "data": {
      "text/html": [
       "<div>\n",
       "<style scoped>\n",
       "    .dataframe tbody tr th:only-of-type {\n",
       "        vertical-align: middle;\n",
       "    }\n",
       "\n",
       "    .dataframe tbody tr th {\n",
       "        vertical-align: top;\n",
       "    }\n",
       "\n",
       "    .dataframe thead th {\n",
       "        text-align: right;\n",
       "    }\n",
       "</style>\n",
       "<table border=\"1\" class=\"dataframe\">\n",
       "  <thead>\n",
       "    <tr style=\"text-align: right;\">\n",
       "      <th></th>\n",
       "      <th>PUBLICATION INFORMATION</th>\n",
       "      <th>Author(s)</th>\n",
       "      <th>Title</th>\n",
       "      <th>Journal</th>\n",
       "      <th>Volume, issue, pages</th>\n",
       "      <th>Year</th>\n",
       "      <th>Full text link</th>\n",
       "      <th>PUBMED link</th>\n",
       "      <th>STUDY DESCRIPTION AND METHODS</th>\n",
       "      <th>Study design</th>\n",
       "      <th>...</th>\n",
       "      <th>Facility type</th>\n",
       "      <th>DATA EXTRACTION</th>\n",
       "      <th>Awaiting completion. You may use the above link to download a CSV</th>\n",
       "      <th>Checked out by/date due</th>\n",
       "      <th>Submitted by/date submitted</th>\n",
       "      <th>Submission reviewed by/date reviewed</th>\n",
       "      <th>Unnamed: 214</th>\n",
       "      <th>Unnamed: 215</th>\n",
       "      <th>Downloaded PDF Path</th>\n",
       "      <th>full_article_text</th>\n",
       "    </tr>\n",
       "  </thead>\n",
       "  <tbody>\n",
       "    <tr>\n",
       "      <th>0</th>\n",
       "      <td></td>\n",
       "      <td>Al-Kaisy A, Van Buyten JP, Carganillo R, Caraw...</td>\n",
       "      <td>10 kHz SCS therapy for chronic pain, effects o...</td>\n",
       "      <td>Sci Rep</td>\n",
       "      <td>9(1):11441</td>\n",
       "      <td>2019</td>\n",
       "      <td>https://www.nature.com/articles/s41598-019-477...</td>\n",
       "      <td>https://www.ncbi.nlm.nih.gov/pubmed/31391503</td>\n",
       "      <td></td>\n",
       "      <td>Post hoc analysis of data from two published s...</td>\n",
       "      <td>...</td>\n",
       "      <td>NaN</td>\n",
       "      <td></td>\n",
       "      <td>NaN</td>\n",
       "      <td>NaN</td>\n",
       "      <td>Anand Rotte/3 Sept 2019</td>\n",
       "      <td>JBS/finalized May 2020</td>\n",
       "      <td>NaN</td>\n",
       "      <td>NaN</td>\n",
       "      <td>/workspaces/Wikistim-Summarization/00_source_d...</td>\n",
       "      <td>1 Scientific RepoRtS |         (2019) 9:11441 ...</td>\n",
       "    </tr>\n",
       "    <tr>\n",
       "      <th>1</th>\n",
       "      <td></td>\n",
       "      <td>Stauss T, El Majdoub F, Sayed D, Surges G, Ros...</td>\n",
       "      <td>A multicenter real-world review of 10 kHz SCS ...</td>\n",
       "      <td>Ann Clin Transl Neurol</td>\n",
       "      <td>6(3):496-507</td>\n",
       "      <td>2019</td>\n",
       "      <td>https://www.ncbi.nlm.nih.gov/pmc/articles/PMC6...</td>\n",
       "      <td>https://www.ncbi.nlm.nih.gov/pubmed/30911573</td>\n",
       "      <td></td>\n",
       "      <td>Multicenter, retrospective analysis with no co...</td>\n",
       "      <td>...</td>\n",
       "      <td>NaN</td>\n",
       "      <td></td>\n",
       "      <td>NaN</td>\n",
       "      <td>NaN</td>\n",
       "      <td>Anand Rotte, M Pharm, PhD</td>\n",
       "      <td>Jane Shipley July 2019</td>\n",
       "      <td>NaN</td>\n",
       "      <td>NaN</td>\n",
       "      <td>/workspaces/Wikistim-Summarization/00_source_d...</td>\n",
       "      <td>RESEARCH ARTICLE A multicenter real-world revi...</td>\n",
       "    </tr>\n",
       "  </tbody>\n",
       "</table>\n",
       "<p>2 rows × 218 columns</p>\n",
       "</div>"
      ],
      "text/plain": [
       "  PUBLICATION INFORMATION                                          Author(s)  \\\n",
       "0                          Al-Kaisy A, Van Buyten JP, Carganillo R, Caraw...   \n",
       "1                          Stauss T, El Majdoub F, Sayed D, Surges G, Ros...   \n",
       "\n",
       "                                               Title                 Journal  \\\n",
       "0  10 kHz SCS therapy for chronic pain, effects o...                 Sci Rep   \n",
       "1  A multicenter real-world review of 10 kHz SCS ...  Ann Clin Transl Neurol   \n",
       "\n",
       "  Volume, issue, pages  Year  \\\n",
       "0           9(1):11441  2019   \n",
       "1         6(3):496-507  2019   \n",
       "\n",
       "                                      Full text link  \\\n",
       "0  https://www.nature.com/articles/s41598-019-477...   \n",
       "1  https://www.ncbi.nlm.nih.gov/pmc/articles/PMC6...   \n",
       "\n",
       "                                    PUBMED link STUDY DESCRIPTION AND METHODS  \\\n",
       "0  https://www.ncbi.nlm.nih.gov/pubmed/31391503                                 \n",
       "1  https://www.ncbi.nlm.nih.gov/pubmed/30911573                                 \n",
       "\n",
       "                                        Study design  ... Facility type  \\\n",
       "0  Post hoc analysis of data from two published s...  ...           NaN   \n",
       "1  Multicenter, retrospective analysis with no co...  ...           NaN   \n",
       "\n",
       "  DATA EXTRACTION  \\\n",
       "0                   \n",
       "1                   \n",
       "\n",
       "  Awaiting completion. You may use the above link to download a CSV  \\\n",
       "0                                                NaN                  \n",
       "1                                                NaN                  \n",
       "\n",
       "  Checked out by/date due Submitted by/date submitted  \\\n",
       "0                     NaN     Anand Rotte/3 Sept 2019   \n",
       "1                     NaN   Anand Rotte, M Pharm, PhD   \n",
       "\n",
       "  Submission reviewed by/date reviewed Unnamed: 214 Unnamed: 215  \\\n",
       "0               JBS/finalized May 2020          NaN          NaN   \n",
       "1               Jane Shipley July 2019          NaN          NaN   \n",
       "\n",
       "                                 Downloaded PDF Path  \\\n",
       "0  /workspaces/Wikistim-Summarization/00_source_d...   \n",
       "1  /workspaces/Wikistim-Summarization/00_source_d...   \n",
       "\n",
       "                                   full_article_text  \n",
       "0  1 Scientific RepoRtS |         (2019) 9:11441 ...  \n",
       "1  RESEARCH ARTICLE A multicenter real-world revi...  \n",
       "\n",
       "[2 rows x 218 columns]"
      ]
     },
     "execution_count": 36,
     "metadata": {},
     "output_type": "execute_result"
    }
   ],
   "source": [
    "test_data.head(2)"
   ]
  },
  {
   "cell_type": "code",
   "execution_count": 26,
   "metadata": {},
   "outputs": [
    {
     "name": "stderr",
     "output_type": "stream",
     "text": [
      "Token indices sequence length is longer than the specified maximum sequence length for this model (13571 > 2048). Running this sequence through the model will result in indexing errors\n"
     ]
    }
   ],
   "source": [
    "from transformers import LlamaTokenizerFast\n",
    "\n",
    "tokenizer = LlamaTokenizerFast.from_pretrained(\"hf-internal-testing/llama-tokenizer\")\n",
    "my_encoded_text = tokenizer.encode(my_test)"
   ]
  },
  {
   "cell_type": "code",
   "execution_count": 27,
   "metadata": {},
   "outputs": [
    {
     "data": {
      "text/plain": [
       "13571"
      ]
     },
     "execution_count": 27,
     "metadata": {},
     "output_type": "execute_result"
    }
   ],
   "source": [
    "len(my_encoded_text)"
   ]
  },
  {
   "cell_type": "code",
   "execution_count": 54,
   "metadata": {},
   "outputs": [
    {
     "data": {
      "text/plain": [
       "25"
      ]
     },
     "execution_count": 54,
     "metadata": {},
     "output_type": "execute_result"
    }
   ],
   "source": [
    "#chunk my_encoded_text into 512 token chunks\n",
    "my_encoded_text = tokenizer.encode(my_test)\n",
    "\n",
    "#chunk my_encoded_text into 512 token chunks\n",
    "chunk_size = 450\n",
    "\n",
    "my_encoded_text_chunks = [my_encoded_text[i:i+chunk_size] for i in range(0, len(my_encoded_text), chunk_size)]\n",
    "\n",
    "len(my_encoded_text_chunks)\n"
   ]
  },
  {
   "cell_type": "code",
   "execution_count": 29,
   "metadata": {},
   "outputs": [
    {
     "data": {
      "text/plain": [
       "[1,\n",
       " 5195,\n",
       " 1660,\n",
       " 1718,\n",
       " 3210,\n",
       " 9033,\n",
       " 29911,\n",
       " 2965,\n",
       " 1307,\n",
       " 319,\n",
       " 1773,\n",
       " 293,\n",
       " 5893,\n",
       " 1855,\n",
       " 29899,\n",
       " 11526,\n",
       " 9076,\n",
       " 310,\n",
       " 29871,\n",
       " 29896,\n",
       " 29900,\n",
       " 413,\n",
       " 12661,\n",
       " 317,\n",
       " 9295,\n",
       " 714,\n",
       " 26807,\n",
       " 363,\n",
       " 14502,\n",
       " 310,\n",
       " 17168,\n",
       " 293,\n",
       " 534,\n",
       " 2960,\n",
       " 322,\n",
       " 29914,\n",
       " 272,\n",
       " 2485,\n",
       " 29890,\n",
       " 6788,\n",
       " 5569,\n",
       " 624,\n",
       " 11214,\n",
       " 29896,\n",
       " 29892,\n",
       " 383,\n",
       " 388,\n",
       " 1052,\n",
       " 1260,\n",
       " 6973,\n",
       " 29881,\n",
       " 283,\n",
       " 29890,\n",
       " 29906,\n",
       " 1919,\n",
       " 7266,\n",
       " 6115,\n",
       " 14891,\n",
       " 287,\n",
       " 29941,\n",
       " 29892,\n",
       " 402,\n",
       " 824,\n",
       " 327,\n",
       " 317,\n",
       " 2007,\n",
       " 267,\n",
       " 29946,\n",
       " 29892,\n",
       " 4667,\n",
       " 317,\n",
       " 29889,\n",
       " 5678,\n",
       " 21845,\n",
       " 29945,\n",
       " 29892,\n",
       " 10255,\n",
       " 6491,\n",
       " 9622,\n",
       " 3631,\n",
       " 29953,\n",
       " 29892,\n",
       " 6123,\n",
       " 24240,\n",
       " 816,\n",
       " 29884,\n",
       " 29955,\n",
       " 29892,\n",
       " 17860,\n",
       " 352,\n",
       " 365,\n",
       " 2235,\n",
       " 3169,\n",
       " 29947,\n",
       " 29892,\n",
       " 405,\n",
       " 5475,\n",
       " 29882,\n",
       " 29895,\n",
       " 24540,\n",
       " 4121,\n",
       " 295,\n",
       " 29896,\n",
       " 29892,\n",
       " 15862,\n",
       " 4006,\n",
       " 402,\n",
       " 1915,\n",
       " 261,\n",
       " 29929,\n",
       " 29892,\n",
       " 435,\n",
       " 1032,\n",
       " 557,\n",
       " 24540,\n",
       " 3323,\n",
       " 1646,\n",
       " 29877,\n",
       " 10094,\n",
       " 29929,\n",
       " 29892,\n",
       " 530,\n",
       " 392,\n",
       " 9664,\n",
       " 371,\n",
       " 29929,\n",
       " 29892,\n",
       " 7089,\n",
       " 272,\n",
       " 801,\n",
       " 390,\n",
       " 29889,\n",
       " 2155,\n",
       " 5397,\n",
       " 29896,\n",
       " 29900,\n",
       " 29892,\n",
       " 6502,\n",
       " 350,\n",
       " 1803,\n",
       " 351,\n",
       " 29946,\n",
       " 669,\n",
       " 12929,\n",
       " 4850,\n",
       " 328,\n",
       " 3219,\n",
       " 279,\n",
       " 283,\n",
       " 29888,\n",
       " 29906,\n",
       " 29871,\n",
       " 29896,\n",
       " 3253,\n",
       " 16858,\n",
       " 349,\n",
       " 475,\n",
       " 15057,\n",
       " 29892,\n",
       " 7646,\n",
       " 31017,\n",
       " 2495,\n",
       " 29892,\n",
       " 22581,\n",
       " 29871,\n",
       " 29906,\n",
       " 8498,\n",
       " 442,\n",
       " 358,\n",
       " 310,\n",
       " 317,\n",
       " 12358,\n",
       " 327,\n",
       " 17911,\n",
       " 322,\n",
       " 6680,\n",
       " 284,\n",
       " 17574,\n",
       " 1883,\n",
       " 2007,\n",
       " 708,\n",
       " 29892,\n",
       " 315,\n",
       " 13835,\n",
       " 4702,\n",
       " 6391,\n",
       " 20795,\n",
       " 7817,\n",
       " 29892,\n",
       " 3014,\n",
       " 310,\n",
       " 399,\n",
       " 16097,\n",
       " 29914,\n",
       " 29950,\n",
       " 11776,\n",
       " 10055,\n",
       " 29892,\n",
       " 315,\n",
       " 13835,\n",
       " 29892,\n",
       " 9556,\n",
       " 29871,\n",
       " 29941,\n",
       " 8498,\n",
       " 442,\n",
       " 358,\n",
       " 310,\n",
       " 530,\n",
       " 342,\n",
       " 29882,\n",
       " 10100,\n",
       " 3002,\n",
       " 322,\n",
       " 349,\n",
       " 475,\n",
       " 27529,\n",
       " 29892,\n",
       " 3014,\n",
       " 310,\n",
       " 20029,\n",
       " 20795,\n",
       " 7817,\n",
       " 29892,\n",
       " 20029,\n",
       " 4412,\n",
       " 29892,\n",
       " 20029,\n",
       " 29871,\n",
       " 29946,\n",
       " 29968,\n",
       " 29950,\n",
       " 2261,\n",
       " 29885,\n",
       " 2276,\n",
       " 29920,\n",
       " 2231,\n",
       " 1771,\n",
       " 30181,\n",
       " 18309,\n",
       " 29892,\n",
       " 323,\n",
       " 4336,\n",
       " 29892,\n",
       " 9556,\n",
       " 29871,\n",
       " 29945,\n",
       " 13409,\n",
       " 363,\n",
       " 278,\n",
       " 6376,\n",
       " 2575,\n",
       " 310,\n",
       " 349,\n",
       " 475,\n",
       " 29892,\n",
       " 20029,\n",
       " 4412,\n",
       " 29892,\n",
       " 19171,\n",
       " 29871,\n",
       " 29953,\n",
       " 8179,\n",
       " 324,\n",
       " 10189,\n",
       " 349,\n",
       " 475,\n",
       " 8907,\n",
       " 29892,\n",
       " 399,\n",
       " 2611,\n",
       " 265,\n",
       " 29899,\n",
       " 29903,\n",
       " 12698,\n",
       " 29892,\n",
       " 4644,\n",
       " 13397,\n",
       " 29871,\n",
       " 29955,\n",
       " 7967,\n",
       " 579,\n",
       " 284,\n",
       " 23757,\n",
       " 28605,\n",
       " 1199,\n",
       " 322,\n",
       " 349,\n",
       " 475,\n",
       " 27529,\n",
       " 29892,\n",
       " 15862,\n",
       " 296,\n",
       " 265,\n",
       " 29892,\n",
       " 13813,\n",
       " 29871,\n",
       " 29947,\n",
       " 1576,\n",
       " 19659,\n",
       " 322,\n",
       " 317,\n",
       " 3131,\n",
       " 536,\n",
       " 349,\n",
       " 475,\n",
       " 11319,\n",
       " 29892,\n",
       " 317,\n",
       " 3131,\n",
       " 536,\n",
       " 29892,\n",
       " 3303,\n",
       " 12626,\n",
       " 29871,\n",
       " 29929,\n",
       " 29940,\n",
       " 5750,\n",
       " 307,\n",
       " 2994,\n",
       " 29886,\n",
       " 29892,\n",
       " 4367,\n",
       " 6115,\n",
       " 4412,\n",
       " 29892,\n",
       " 8046,\n",
       " 29871,\n",
       " 29896,\n",
       " 29900,\n",
       " 5261,\n",
       " 735,\n",
       " 375,\n",
       " 19806,\n",
       " 29892,\n",
       " 11566,\n",
       " 2204,\n",
       " 1662,\n",
       " 29892,\n",
       " 3303,\n",
       " 12626,\n",
       " 2994,\n",
       " 3636,\n",
       " 663,\n",
       " 530,\n",
       " 392,\n",
       " 9664,\n",
       " 371,\n",
       " 29892,\n",
       " 26572,\n",
       " 307,\n",
       " 2994,\n",
       " 29886,\n",
       " 29892,\n",
       " 4367,\n",
       " 6115,\n",
       " 4412,\n",
       " 29892,\n",
       " 12766,\n",
       " 29889,\n",
       " 18815,\n",
       " 29901,\n",
       " 718,\n",
       " 29896,\n",
       " 29899,\n",
       " 29953,\n",
       " 29945,\n",
       " 29900,\n",
       " 29899,\n",
       " 29946,\n",
       " 29941,\n",
       " 29941,\n",
       " 29899,\n",
       " 29941,\n",
       " 29906,\n",
       " 29900,\n",
       " 29906,\n",
       " 29936,\n",
       " 383,\n",
       " 1165,\n",
       " 29901,\n",
       " 718,\n",
       " 29896,\n",
       " 29899,\n",
       " 29953,\n",
       " 29945,\n",
       " 29900,\n",
       " 29899,\n",
       " 29906,\n",
       " 29945,\n",
       " 29906,\n",
       " 29899,\n",
       " 29871,\n",
       " 29896,\n",
       " 29946,\n",
       " 29900,\n",
       " 29941,\n",
       " 29936,\n",
       " 382,\n",
       " 29899,\n",
       " 2549,\n",
       " 29901,\n",
       " 385,\n",
       " 392,\n",
       " 29889,\n",
       " 5450,\n",
       " 371,\n",
       " 29992,\n",
       " 484,\n",
       " 29894,\n",
       " 307,\n",
       " 29889,\n",
       " 510,\n",
       " 13249,\n",
       " 292,\n",
       " 10343,\n",
       " 26572,\n",
       " 307,\n",
       " 2994,\n",
       " 29886,\n",
       " 29889,\n",
       " 24328,\n",
       " 2347,\n",
       " 29901,\n",
       " 29871,\n",
       " 29896,\n",
       " 29906,\n",
       " 3839,\n",
       " 29871,\n",
       " 29906,\n",
       " 29900,\n",
       " 29896,\n",
       " 29947,\n",
       " 29936,\n",
       " 830,\n",
       " 11292,\n",
       " 29901,\n",
       " 29871,\n",
       " 29906,\n",
       " 29900,\n",
       " 5846,\n",
       " 29871,\n",
       " 29906,\n",
       " 29900,\n",
       " 29896,\n",
       " 29947,\n",
       " 29936,\n",
       " 29848,\n",
       " 287,\n",
       " 29901,\n",
       " 29871,\n",
       " 29906,\n",
       " 29906,\n",
       " 5846,\n",
       " 29871,\n",
       " 29906,\n",
       " 29900,\n",
       " 29896,\n",
       " 29947,\n",
       " 8081,\n",
       " 1338,\n",
       " 310,\n",
       " 315,\n",
       " 1915,\n",
       " 936,\n",
       " 322,\n",
       " 4103,\n",
       " 29880,\n",
       " 1288,\n",
       " 2448,\n",
       " 2192,\n",
       " 1188,\n",
       " 29891,\n",
       " 29871,\n",
       " 29906,\n",
       " 29900,\n",
       " 29896,\n",
       " 29929,\n",
       " 29936,\n",
       " 29871,\n",
       " 29953,\n",
       " 29898,\n",
       " 29941,\n",
       " 1125,\n",
       " 29871,\n",
       " 29946,\n",
       " 29929,\n",
       " 29953,\n",
       " 29994,\n",
       " 29945,\n",
       " 29900,\n",
       " 29955,\n",
       " 13102,\n",
       " 29901,\n",
       " 29871,\n",
       " 29896,\n",
       " 29900,\n",
       " 29889,\n",
       " 29896,\n",
       " 29900,\n",
       " 29900,\n",
       " 29906,\n",
       " 29914,\n",
       " 562,\n",
       " 29876,\n",
       " 29941,\n",
       " 29889,\n",
       " 29955,\n",
       " 29906,\n",
       " 29900,\n",
       " 25513,\n",
       " 4669]"
      ]
     },
     "execution_count": 29,
     "metadata": {},
     "output_type": "execute_result"
    }
   ],
   "source": [
    "my_encoded_text_chunks[0]"
   ]
  },
  {
   "cell_type": "code",
   "execution_count": 41,
   "metadata": {},
   "outputs": [
    {
     "data": {
      "text/plain": [
       "'ives: High-frequency spinal cord stimulation (HF-SCS) at 10 kHz has proven to be efﬁcacious in the treatment of chronic back and leg pain in a randomized, controlled, trial (SENZA-RCT). However, large observational studies have yet to be published. Therefore, we performed a real-world, mul- ticenter, retrospective, review of therapy efﬁcacy in 1660 patients with chronic trunk and/or limb pain. Methods: Data were collected in a real- world environment and retrospectively sourced from a global database. Included patients were trialed and/or permanently implanted with HF-SCS at 10 kHz between April 2014 and January 2018. We evaluated responder rates at 3, 6, and 12 months post-implantation. Response was deﬁned as ≥50% pain relief from baseline. A last visit analysis included responder rate along with overall change in function, sleep, quality of life, and medication intake versus baseline. Results: Eighty-four percent of our HF-SCS-treated patients had both chronic back and leg pain. At least 70% of patients reported response to therapy throughout 12 months of follow-up. This sustained responder rate was corroborated by the last visit value (74.1%). Most patients reported concomitant improvements in function (72.3%), sleep (68.0%), and quality of life (90.3%) at their last visit versus baseline. Thirty- two percent of patients reported decreased medication intake at their last visit. Interpretation: Sustained and effective pain relief was experienced by >70% of our HF-SCS-treated patients, consistent with the ﬁndings of a pre- viously published randomized, controlled, trial. Our review provides comple- mentary evidence to support the treatment of chronic back and leg pain with this therapy. Introduction Chronic pain is a pervasive health issue worldwide.1,2 It places a substantial burden on society, families, and indi- viduals.3 Low back pain is one of the most prevalent chron'"
      ]
     },
     "execution_count": 41,
     "metadata": {},
     "output_type": "execute_result"
    }
   ],
   "source": [
    "#unencode the first chunk\n",
    "tokenizer.decode(my_encoded_text_chunks[1])\n"
   ]
  },
  {
   "cell_type": "code",
   "execution_count": 43,
   "metadata": {},
   "outputs": [
    {
     "data": {
      "text/plain": [
       "[{'generated_text': 'high-frequency spinal cord stimulation'}]"
      ]
     },
     "execution_count": 43,
     "metadata": {},
     "output_type": "execute_result"
    }
   ],
   "source": [
    "from transformers import pipeline\n",
    "\n",
    "pipe = pipeline(\"text2text-generation\", model=\"lxyuan/distilbart-finetuned-summarization\", max_length=10, min_length=1)\n",
    "\n",
    "\n",
    "topic = \"Find the number of participants in the study:\"\n",
    "text = f\"{topic}: {tokenizer.decode(my_encoded_text_chunks[1])}\"\n",
    "\n",
    "pipe(text)\n"
   ]
  },
  {
   "cell_type": "code",
   "execution_count": 51,
   "metadata": {},
   "outputs": [
    {
     "name": "stdout",
     "output_type": "stream",
     "text": [
      "{'summary_text': 'high-frequency spinal cord stimulation (HF-SCS) at 10 kHz has proven to be efﬁcacious'}\n"
     ]
    }
   ],
   "source": [
    "from transformers import pipeline\n",
    "\n",
    "# Load the summarization pipeline\n",
    "summarizer = pipeline(\"summarization\", model=\"lxyuan/distilbart-finetuned-summarization\")\n",
    "\n",
    "# Define the text to summarize and the topic to focus on\n",
    "topic = \"Number of participants in the study:\"\n",
    "text = \"ives: High-frequency spinal cord stimulation (HF-SCS) at 10 kHz has proven to be efﬁcacious in the treatment of chronic back and leg pain in a randomized, controlled, trial (SENZA-RCT). However, large observational studies have yet to be published. Therefore, we performed a real-world, mul- ticenter, retrospective, review of therapy efﬁcacy in 1660 patients with chronic trunk and/or limb pain. Methods: Data were collected in a real- world environment and retrospectively sourced from a global database. Included patients were trialed and/or permanently implanted with HF-SCS at 10 kHz between April 2014 and January 2018. We evaluated responder rates at 3, 6, and 12 months post-implantation. Response was deﬁned as ≥50% pain relief from baseline. A last visit analysis included responder rate along with overall change in function, sleep, quality of life, and medication intake versus baseline. Results: Eighty-four percent of our HF-SCS-treated patients had both chronic back and leg pain. At least 70% of patients reported response to therapy throughout 12 months of follow-up. This sustained responder rate was corroborated by the last visit value (74.1%). Most patients reported concomitant improvements in function (72.3%), sleep (68.0%), and quality of life (90.3%) at their last visit versus baseline. Thirty- two percent of patients reported decreased medication intake at their last visit. Interpretation: Sustained and effective pain relief was experienced by >70% of our HF-SCS-treated patients, consistent with the ﬁndings of a pre- viously published randomized, controlled, trial. Our review provides comple- mentary evidence to support the treatment of chronic back and leg pain with this therapy. Introduction Chronic pain is a pervasive health issue worldwide.1,2 It places a substantial burden on society, families, and indi- viduals.3 Low back pain is one of the most prevalent chron\"\n",
    "\n",
    "# Generate the summary with the topic as a prefix\n",
    "prefix = f\"{topic}: \"\n",
    "summary = summarizer(prefix + text, max_length=29, min_length=10, do_sample=False)\n",
    "\n",
    "# Print the summary\n",
    "print(summary[0])"
   ]
  },
  {
   "cell_type": "code",
   "execution_count": 50,
   "metadata": {},
   "outputs": [
    {
     "data": {
      "text/plain": [
       "{'ives: High-frequency spinal cord stimulation (HF-SCS) at 10 kHz has proven to be efﬁcacious in the treatment of chronic back and leg pain in a randomized, controlled, trial (SENZA-RCT). However, large observational studies have yet to be published. Therefore, we performed a real-world, mul- ticenter, retrospective, review of therapy efﬁcacy in 1660 patients with chronic trunk and/or limb pain. Methods: Data were collected in a real- world environment and retrospectively sourced from a global database. Included patients were trialed and/or permanently implanted with HF-SCS at 10 kHz between April 2014 and January 2018. We evaluated responder rates at 3, 6, and 12 months post-implantation. Response was deﬁned as ≥50% pain relief from baseline. A last visit analysis included responder rate along with overall change in function, sleep, quality of life, and medication intake versus baseline. Results: Eighty-four percent of our HF-SCS-treated patients had both chronic back and leg pain. At least 70% of patients reported response to therapy throughout 12 months of follow-up. This sustained responder rate was corroborated by the last visit value (74.1%). Most patients reported concomitant improvements in function (72.3%), sleep (68.0%), and quality of life (90.3%) at their last visit versus baseline. Thirty- two percent of patients reported decreased medication intake at their last visit. Interpretation: Sustained and effective pain relief was experienced by >70% of our HF-SCS-treated patients, consistent with the ﬁndings of a pre- viously published randomized, controlled, trial. Our review provides comple- mentary evidence to support the treatment of chronic back and leg pain with this therapy. Introduction Chronic pain is a pervasive health issue worldwide.1,2 It places a substantial burden on society, families, and indi- viduals.3 Low back pain is one of the most prevalent chron'}"
      ]
     },
     "execution_count": 50,
     "metadata": {},
     "output_type": "execute_result"
    }
   ],
   "source": [
    "tokenizer.decode(my_encoded_text_chunks[1])"
   ]
  },
  {
   "cell_type": "code",
   "execution_count": 21,
   "metadata": {},
   "outputs": [
    {
     "ename": "NameError",
     "evalue": "name 'my_encoded_text_chunks' is not defined",
     "output_type": "error",
     "traceback": [
      "\u001b[0;31m---------------------------------------------------------------------------\u001b[0m",
      "\u001b[0;31mNameError\u001b[0m                                 Traceback (most recent call last)",
      "\u001b[1;32m/workspaces/Wikistim-Summarization/10_code/modeling.ipynb Cell 11\u001b[0m line \u001b[0;36m1\n\u001b[0;32m----> <a href='vscode-notebook-cell://codespaces%2Bcautious-spoon-jv95jqqjw95fqp75/workspaces/Wikistim-Summarization/10_code/modeling.ipynb#X23sdnNjb2RlLXJlbW90ZQ%3D%3D?line=0'>1</a>\u001b[0m \u001b[39mfor\u001b[39;00m i \u001b[39min\u001b[39;00m \u001b[39mrange\u001b[39m(\u001b[39m0\u001b[39m, \u001b[39mlen\u001b[39m(my_encoded_text_chunks)):\n\u001b[1;32m      <a href='vscode-notebook-cell://codespaces%2Bcautious-spoon-jv95jqqjw95fqp75/workspaces/Wikistim-Summarization/10_code/modeling.ipynb#X23sdnNjb2RlLXJlbW90ZQ%3D%3D?line=1'>2</a>\u001b[0m     text \u001b[39m=\u001b[39m tokenizer\u001b[39m.\u001b[39mdecode(my_encoded_text_chunks[i])\n\u001b[1;32m      <a href='vscode-notebook-cell://codespaces%2Bcautious-spoon-jv95jqqjw95fqp75/workspaces/Wikistim-Summarization/10_code/modeling.ipynb#X23sdnNjb2RlLXJlbW90ZQ%3D%3D?line=2'>3</a>\u001b[0m     pipe(text)\n",
      "\u001b[0;31mNameError\u001b[0m: name 'my_encoded_text_chunks' is not defined"
     ]
    }
   ],
   "source": [
    "for i in range(0, len(my_encoded_text_chunks)):\n",
    "    \n",
    "    text = tokenizer.decode(my_encoded_text_chunks[i])\n",
    "    pipe(text)\n",
    "    print('chunk', i, 'of', len(my_encoded_text_chunks), 'complete')"
   ]
  },
  {
   "cell_type": "code",
   "execution_count": 19,
   "metadata": {},
   "outputs": [
    {
     "name": "stdout",
     "output_type": "stream",
     "text": [
      "Note: you may need to restart the kernel to use updated packages.\n"
     ]
    }
   ],
   "source": [
    "%pip install -q git+https://github.com/huggingface/transformers.git"
   ]
  },
  {
   "cell_type": "code",
   "execution_count": 20,
   "metadata": {},
   "outputs": [
    {
     "data": {
      "application/vnd.jupyter.widget-view+json": {
       "model_id": "a7a50627b40d45d0872643adb9a7bb19",
       "version_major": 2,
       "version_minor": 0
      },
      "text/plain": [
       "Downloading (…)lve/main/config.json:   0%|          | 0.00/1.21k [00:00<?, ?B/s]"
      ]
     },
     "metadata": {},
     "output_type": "display_data"
    },
    {
     "data": {
      "application/vnd.jupyter.widget-view+json": {
       "model_id": "abcdfb5b72464d2488a9fa46f9080437",
       "version_major": 2,
       "version_minor": 0
      },
      "text/plain": [
       "Downloading (…)ve/main/spiece.model:   0%|          | 0.00/792k [00:00<?, ?B/s]"
      ]
     },
     "metadata": {},
     "output_type": "display_data"
    },
    {
     "data": {
      "application/vnd.jupyter.widget-view+json": {
       "model_id": "3b58b859426843e5aa20b93fb5c7a615",
       "version_major": 2,
       "version_minor": 0
      },
      "text/plain": [
       "Downloading (…)/main/tokenizer.json:   0%|          | 0.00/1.39M [00:00<?, ?B/s]"
      ]
     },
     "metadata": {},
     "output_type": "display_data"
    },
    {
     "name": "stderr",
     "output_type": "stream",
     "text": [
      "/home/codespace/.python/current/lib/python3.10/site-packages/transformers/models/t5/tokenization_t5_fast.py:158: FutureWarning: This tokenizer was incorrectly instantiated with a model max length of 512 which will be corrected in Transformers v5.\n",
      "For now, this behavior is kept to avoid breaking backwards compatibility when padding/encoding with `truncation is True`.\n",
      "- Be aware that you SHOULD NOT rely on t5-base automatically truncating your input to 512 when padding/encoding.\n",
      "- If you want to encode/pad to sequences longer than 512 you can either instantiate this tokenizer with `model_max_length` or pass `max_length` when encoding/padding.\n",
      "- To avoid this warning, please instantiate this tokenizer with `model_max_length` set to your preferred value.\n",
      "  warnings.warn(\n"
     ]
    },
    {
     "data": {
      "application/vnd.jupyter.widget-view+json": {
       "model_id": "ceb112f57e854002ac98c57fb5a9c9b1",
       "version_major": 2,
       "version_minor": 0
      },
      "text/plain": [
       "Downloading model.safetensors:   0%|          | 0.00/892M [00:00<?, ?B/s]"
      ]
     },
     "metadata": {},
     "output_type": "display_data"
    },
    {
     "data": {
      "application/vnd.jupyter.widget-view+json": {
       "model_id": "699a953f9ba54df9adaa0cb95371dbdf",
       "version_major": 2,
       "version_minor": 0
      },
      "text/plain": [
       "Downloading (…)neration_config.json:   0%|          | 0.00/147 [00:00<?, ?B/s]"
      ]
     },
     "metadata": {},
     "output_type": "display_data"
    },
    {
     "name": "stderr",
     "output_type": "stream",
     "text": [
      "/home/codespace/.python/current/lib/python3.10/site-packages/transformers/generation/utils.py:1260: UserWarning: Using the model-agnostic default `max_length` (=20) to control the generation length. We recommend setting `max_new_tokens` to control the maximum length of the generation.\n",
      "  warnings.warn(\n"
     ]
    },
    {
     "name": "stdout",
     "output_type": "stream",
     "text": [
      "Output:\n",
      "----------------------------------------------------------------------------------------------------\n",
      "Wie alt bist du?\n"
     ]
    }
   ],
   "source": [
    "from transformers import AutoTokenizer, AutoModelForSeq2SeqLM\n",
    "\n",
    "tokenizer = AutoTokenizer.from_pretrained(\"t5-base\")\n",
    "model = AutoModelForSeq2SeqLM.from_pretrained(\"t5-base\")\n",
    "\n",
    "encoder_input_str = \"translate English to German: How old are you?\"\n",
    "\n",
    "input_ids = tokenizer(encoder_input_str, return_tensors=\"pt\").input_ids\n",
    "\n",
    "outputs = model.generate(\n",
    "    input_ids,\n",
    "    num_beams=10,\n",
    "    num_return_sequences=1,\n",
    "    no_repeat_ngram_size=1,\n",
    "    remove_invalid_values=True,\n",
    ")\n",
    "\n",
    "print(\"Output:\\n\" + 100 * '-')\n",
    "print(tokenizer.decode(outputs[0], skip_special_tokens=True))\n",
    "     "
   ]
  },
  {
   "cell_type": "code",
   "execution_count": null,
   "metadata": {},
   "outputs": [],
   "source": [
    "from transformers import AutoModelForQuestionAnswering, AutoTokenizer\n",
    "\n",
    "model_name = \"google/flan-t5-xxl\"\n",
    "model_dir = \"./saved_model\"  # Choose a directory for saving the model\n",
    "\n",
    "# Try to load the model from the cache or from the specified directory\n",
    "try:\n",
    "    tokenizer = AutoTokenizer.from_pretrained(model_name)\n",
    "    model = AutoModelForQuestionAnswering.from_pretrained(model_name)\n",
    "except OSError:\n",
    "    # If the model is not found in cache or directory, download and save it\n",
    "    tokenizer = AutoTokenizer.from_pretrained(model_name)\n",
    "    model = AutoModelForQuestionAnswering.from_pretrained(model_name)\n",
    "    model.save_pretrained(model_dir)\n"
   ]
  },
  {
   "cell_type": "code",
   "execution_count": 52,
   "metadata": {},
   "outputs": [
    {
     "data": {
      "application/vnd.jupyter.widget-view+json": {
       "model_id": "643fa33fe53a46d5925283fa3c72182d",
       "version_major": 2,
       "version_minor": 0
      },
      "text/plain": [
       "Downloading (…)okenizer_config.json:   0%|          | 0.00/2.54k [00:00<?, ?B/s]"
      ]
     },
     "metadata": {},
     "output_type": "display_data"
    },
    {
     "data": {
      "application/vnd.jupyter.widget-view+json": {
       "model_id": "98e9cbf85d804d3e9713e89bb67277ae",
       "version_major": 2,
       "version_minor": 0
      },
      "text/plain": [
       "Downloading spiece.model:   0%|          | 0.00/792k [00:00<?, ?B/s]"
      ]
     },
     "metadata": {},
     "output_type": "display_data"
    },
    {
     "data": {
      "application/vnd.jupyter.widget-view+json": {
       "model_id": "7817e40227d34da4a69e0f1c6765ad41",
       "version_major": 2,
       "version_minor": 0
      },
      "text/plain": [
       "Downloading (…)/main/tokenizer.json:   0%|          | 0.00/2.42M [00:00<?, ?B/s]"
      ]
     },
     "metadata": {},
     "output_type": "display_data"
    },
    {
     "data": {
      "application/vnd.jupyter.widget-view+json": {
       "model_id": "d6e922ff0c0844acb81d91a6d659b08b",
       "version_major": 2,
       "version_minor": 0
      },
      "text/plain": [
       "Downloading (…)cial_tokens_map.json:   0%|          | 0.00/2.20k [00:00<?, ?B/s]"
      ]
     },
     "metadata": {},
     "output_type": "display_data"
    },
    {
     "data": {
      "application/vnd.jupyter.widget-view+json": {
       "model_id": "75e69363aaca4ff686d54e43b5e69d65",
       "version_major": 2,
       "version_minor": 0
      },
      "text/plain": [
       "Downloading (…)lve/main/config.json:   0%|          | 0.00/674 [00:00<?, ?B/s]"
      ]
     },
     "metadata": {},
     "output_type": "display_data"
    },
    {
     "data": {
      "application/vnd.jupyter.widget-view+json": {
       "model_id": "de9869246ed84e28b087b9f6dee7b242",
       "version_major": 2,
       "version_minor": 0
      },
      "text/plain": [
       "Downloading (…)fetensors.index.json:   0%|          | 0.00/53.0k [00:00<?, ?B/s]"
      ]
     },
     "metadata": {},
     "output_type": "display_data"
    },
    {
     "data": {
      "application/vnd.jupyter.widget-view+json": {
       "model_id": "c35afc2d0a1c4729b2f76b18f58b93d9",
       "version_major": 2,
       "version_minor": 0
      },
      "text/plain": [
       "Downloading shards:   0%|          | 0/5 [00:00<?, ?it/s]"
      ]
     },
     "metadata": {},
     "output_type": "display_data"
    },
    {
     "data": {
      "application/vnd.jupyter.widget-view+json": {
       "model_id": "5788d6c42a1a450ca3413ff9fc26bc7f",
       "version_major": 2,
       "version_minor": 0
      },
      "text/plain": [
       "Downloading (…)of-00005.safetensors:   0%|          | 0.00/9.45G [00:00<?, ?B/s]"
      ]
     },
     "metadata": {},
     "output_type": "display_data"
    },
    {
     "data": {
      "application/vnd.jupyter.widget-view+json": {
       "model_id": "eb11288eb5574bb3971bd4286d50efcb",
       "version_major": 2,
       "version_minor": 0
      },
      "text/plain": [
       "Downloading (…)of-00005.safetensors:   0%|          | 0.00/9.60G [00:00<?, ?B/s]"
      ]
     },
     "metadata": {},
     "output_type": "display_data"
    },
    {
     "data": {
      "application/vnd.jupyter.widget-view+json": {
       "model_id": "dda9a6b901fd45b9927d8c68b7281090",
       "version_major": 2,
       "version_minor": 0
      },
      "text/plain": [
       "Downloading (…)of-00005.safetensors:   0%|          | 0.00/9.96G [00:00<?, ?B/s]"
      ]
     },
     "metadata": {},
     "output_type": "display_data"
    },
    {
     "data": {
      "application/vnd.jupyter.widget-view+json": {
       "model_id": "586a18351ac444058c48dc1accf272af",
       "version_major": 2,
       "version_minor": 0
      },
      "text/plain": [
       "Downloading (…)of-00005.safetensors:   0%|          | 0.00/10.0G [00:00<?, ?B/s]"
      ]
     },
     "metadata": {},
     "output_type": "display_data"
    },
    {
     "data": {
      "application/vnd.jupyter.widget-view+json": {
       "model_id": "0f81a6f1dec847c388c82a9f585fbaf7",
       "version_major": 2,
       "version_minor": 0
      },
      "text/plain": [
       "Downloading (…)of-00005.safetensors:   0%|          | 0.00/6.06G [00:00<?, ?B/s]"
      ]
     },
     "metadata": {},
     "output_type": "display_data"
    },
    {
     "data": {
      "application/vnd.jupyter.widget-view+json": {
       "model_id": "708d7c33d5574404ade8cd60f1ccb6d1",
       "version_major": 2,
       "version_minor": 0
      },
      "text/plain": [
       "Loading checkpoint shards:   0%|          | 0/5 [00:00<?, ?it/s]"
      ]
     },
     "metadata": {},
     "output_type": "display_data"
    },
    {
     "name": "stderr",
     "output_type": "stream",
     "text": [
      "Some weights of T5ForQuestionAnswering were not initialized from the model checkpoint at google/flan-t5-xxl and are newly initialized: ['qa_outputs.weight', 'qa_outputs.bias']\n",
      "You should probably TRAIN this model on a down-stream task to be able to use it for predictions and inference.\n"
     ]
    }
   ],
   "source": [
    "from transformers import AutoModelForQuestionAnswering, AutoTokenizer\n",
    "\n",
    "\n",
    "model_name = \"google/flan-t5-xxl\"  # Example model name\n",
    "tokenizer = AutoTokenizer.from_pretrained(model_name)\n",
    "model = AutoModelForQuestionAnswering.from_pretrained(model_name)\n"
   ]
  },
  {
   "cell_type": "code",
   "execution_count": 59,
   "metadata": {},
   "outputs": [],
   "source": [
    "text = \"Find the number of participants in the study:: ives: High-frequency spinal cord stimulation (HF-SCS) at 10 kHz has proven to be efﬁcacious in the treatment of chronic back and leg pain in a randomized, controlled, trial (SENZA-RCT). However, large observational studies have yet to be published. Therefore, we performed a real-world, mul- ticenter, retrospective, review of therapy efﬁcacy in 1660 patients with chronic trunk and/or limb pain. Methods: Data were collected in a real- world environment and retrospectively sourced from a global database. Included patients were trialed and/or permanently implanted with HF-SCS at 10 kHz between April 2014 and January 2018. We evaluated responder rates at 3, 6, and 12 months post-implantation. Response was deﬁned as ≥50% pain relief from baseline. A last visit analysis included responder rate along with overall change in function, sleep, quality of life, and medication intake versus baseline. Results: Eighty-four percent of our HF-SCS-treated patients had both chronic back and leg pain. At least 70% of patients reported response to therapy throughout 12 months of follow-up. This sustained responder rate was corroborated by the last visit value (74.1%). Most patients reported concomitant improvements in function (72.3%), sleep (68.0%), and quality of life (90.3%) at their last visit versus baseline. Thirty- two percent of patients reported decreased medication intake at their last visit. Interpretation: Sustained and effective pain relief was experienced by >70% of our HF-SCS-treated patients, consistent with the ﬁndings of a pre- viously published randomized, controlled, trial. Our review provides comple- mentary evidence to support the treatment of chronic back and leg pain with this therapy. Introduction Chronic pain is a pervasive health issue worldwide.1,2 It places a s\"\n",
    "\n",
    "inputs = tokenizer(text, return_tensors=\"pt\")"
   ]
  },
  {
   "cell_type": "code",
   "execution_count": 60,
   "metadata": {},
   "outputs": [
    {
     "name": "stdout",
     "output_type": "stream",
     "text": [
      "Answer: ives: High-frequency spinal cord stimulation (HF-SCS) at 10 kHz has proven to be efficacious in the treatment of chronic back and leg pain in a randomized, controlled, trial (SENZA-RCT). However, large observational studies have yet to be published. Therefore, we performed a real-world, mul- ticenter, retrospective, review of therapy efficacy in 1660 patients with chronic trunk and/or limb pain. Methods: Data were collected in a real- world environment and retrospectively sourced from a global database. Included patients were trialed and/or permanently implanted with HF-SCS at 10 kHz between April 2014 and January 2018. We evaluated responder rates at 3, 6, and 12 months post-implantation. Response was defined as <unk>50% pain relief from baseline. A last visit analysis included responder rate along with overall change in function, sleep, quality of life, and medication intake versus baseline. Results: Eighty-four percent of our HF-SCS-treated patients had both chronic back and leg pain. At least 70% of patients reported response to therapy throughout 12 months of follow-up. This sustained responder rate was corroborated by the last visit value (74.1%). Most patients reported concomitant improvements in function (72.3%), sleep (68.0%), and quality of life (90.3%) at their last visit versus baseline. Thirty- two percent of patients reported decreased medication intake at their last visit. Interpretation: Sustained and effective pain relief was experienced by >70% of our HF-SCS-treated patients, consistent with the findings of a pre- vious\n"
     ]
    }
   ],
   "source": [
    "outputs = model(**inputs)\n",
    "start_scores, end_scores = outputs.start_logits, outputs.end_logits\n",
    "\n",
    "\n",
    "answer_start = start_scores.argmax()\n",
    "answer_end = end_scores.argmax() + 1\n",
    "answer = tokenizer.convert_tokens_to_string(tokenizer.convert_ids_to_tokens(inputs[\"input_ids\"][0][answer_start:answer_end]))\n",
    "print(\"Answer:\", answer)"
   ]
  },
  {
   "cell_type": "code",
   "execution_count": 64,
   "metadata": {},
   "outputs": [
    {
     "data": {
      "application/vnd.jupyter.widget-view+json": {
       "model_id": "e7e586f382464ed8b087232c70521754",
       "version_major": 2,
       "version_minor": 0
      },
      "text/plain": [
       "Downloading (…)lve/main/config.json:   0%|          | 0.00/1.53k [00:00<?, ?B/s]"
      ]
     },
     "metadata": {},
     "output_type": "display_data"
    },
    {
     "data": {
      "application/vnd.jupyter.widget-view+json": {
       "model_id": "16dde0dd4870423eb6ba59ba7c3654ef",
       "version_major": 2,
       "version_minor": 0
      },
      "text/plain": [
       "Downloading pytorch_model.bin:   0%|          | 0.00/990M [00:00<?, ?B/s]"
      ]
     },
     "metadata": {},
     "output_type": "display_data"
    },
    {
     "ename": "OutOfMemoryError",
     "evalue": "CUDA out of memory. Tried to allocate 96.00 MiB (GPU 0; 15.77 GiB total capacity; 15.27 GiB already allocated; 87.12 MiB free; 15.27 GiB reserved in total by PyTorch) If reserved memory is >> allocated memory try setting max_split_size_mb to avoid fragmentation.  See documentation for Memory Management and PYTORCH_CUDA_ALLOC_CONF",
     "output_type": "error",
     "traceback": [
      "\u001b[0;31m---------------------------------------------------------------------------\u001b[0m",
      "\u001b[0;31mOutOfMemoryError\u001b[0m                          Traceback (most recent call last)",
      "\u001b[1;32m/workspaces/Wikistim-Summarization/10_code/modeling.ipynb Cell 23\u001b[0m line \u001b[0;36m5\n\u001b[1;32m      <a href='vscode-notebook-cell://codespaces%2Bcautious-spoon-jv95jqqjw95fqp75/workspaces/Wikistim-Summarization/10_code/modeling.ipynb#X35sdnNjb2RlLXJlbW90ZQ%3D%3D?line=1'>2</a>\u001b[0m \u001b[39mfrom\u001b[39;00m \u001b[39mrandom\u001b[39;00m \u001b[39mimport\u001b[39;00m randrange        \n\u001b[1;32m      <a href='vscode-notebook-cell://codespaces%2Bcautious-spoon-jv95jqqjw95fqp75/workspaces/Wikistim-Summarization/10_code/modeling.ipynb#X35sdnNjb2RlLXJlbW90ZQ%3D%3D?line=3'>4</a>\u001b[0m \u001b[39m# load model and tokenizer from huggingface hub with pipeline\u001b[39;00m\n\u001b[0;32m----> <a href='vscode-notebook-cell://codespaces%2Bcautious-spoon-jv95jqqjw95fqp75/workspaces/Wikistim-Summarization/10_code/modeling.ipynb#X35sdnNjb2RlLXJlbW90ZQ%3D%3D?line=4'>5</a>\u001b[0m summarizer \u001b[39m=\u001b[39m pipeline(\u001b[39m\"\u001b[39;49m\u001b[39msummarization\u001b[39;49m\u001b[39m\"\u001b[39;49m, tokenizer\u001b[39m=\u001b[39;49mtokenizer, model\u001b[39m=\u001b[39;49m\u001b[39m\"\u001b[39;49m\u001b[39mphilschmid/flan-t5-base-samsum\u001b[39;49m\u001b[39m\"\u001b[39;49m, device\u001b[39m=\u001b[39;49m\u001b[39m0\u001b[39;49m)\n\u001b[1;32m      <a href='vscode-notebook-cell://codespaces%2Bcautious-spoon-jv95jqqjw95fqp75/workspaces/Wikistim-Summarization/10_code/modeling.ipynb#X35sdnNjb2RlLXJlbW90ZQ%3D%3D?line=8'>9</a>\u001b[0m \u001b[39m# summarize dialogue\u001b[39;00m\n\u001b[1;32m     <a href='vscode-notebook-cell://codespaces%2Bcautious-spoon-jv95jqqjw95fqp75/workspaces/Wikistim-Summarization/10_code/modeling.ipynb#X35sdnNjb2RlLXJlbW90ZQ%3D%3D?line=9'>10</a>\u001b[0m res \u001b[39m=\u001b[39m summarizer(text)\n",
      "File \u001b[0;32m~/.python/current/lib/python3.10/site-packages/transformers/pipelines/__init__.py:1034\u001b[0m, in \u001b[0;36mpipeline\u001b[0;34m(task, model, config, tokenizer, feature_extractor, image_processor, framework, revision, use_fast, token, device, device_map, torch_dtype, trust_remote_code, model_kwargs, pipeline_class, **kwargs)\u001b[0m\n\u001b[1;32m   1031\u001b[0m \u001b[39mif\u001b[39;00m device \u001b[39mis\u001b[39;00m \u001b[39mnot\u001b[39;00m \u001b[39mNone\u001b[39;00m:\n\u001b[1;32m   1032\u001b[0m     kwargs[\u001b[39m\"\u001b[39m\u001b[39mdevice\u001b[39m\u001b[39m\"\u001b[39m] \u001b[39m=\u001b[39m device\n\u001b[0;32m-> 1034\u001b[0m \u001b[39mreturn\u001b[39;00m pipeline_class(model\u001b[39m=\u001b[39;49mmodel, framework\u001b[39m=\u001b[39;49mframework, task\u001b[39m=\u001b[39;49mtask, \u001b[39m*\u001b[39;49m\u001b[39m*\u001b[39;49mkwargs)\n",
      "File \u001b[0;32m~/.python/current/lib/python3.10/site-packages/transformers/pipelines/text2text_generation.py:67\u001b[0m, in \u001b[0;36mText2TextGenerationPipeline.__init__\u001b[0;34m(self, *args, **kwargs)\u001b[0m\n\u001b[1;32m     66\u001b[0m \u001b[39mdef\u001b[39;00m \u001b[39m__init__\u001b[39m(\u001b[39mself\u001b[39m, \u001b[39m*\u001b[39margs, \u001b[39m*\u001b[39m\u001b[39m*\u001b[39mkwargs):\n\u001b[0;32m---> 67\u001b[0m     \u001b[39msuper\u001b[39;49m()\u001b[39m.\u001b[39;49m\u001b[39m__init__\u001b[39;49m(\u001b[39m*\u001b[39;49margs, \u001b[39m*\u001b[39;49m\u001b[39m*\u001b[39;49mkwargs)\n\u001b[1;32m     69\u001b[0m     \u001b[39mself\u001b[39m\u001b[39m.\u001b[39mcheck_model_type(\n\u001b[1;32m     70\u001b[0m         TF_MODEL_FOR_SEQ_TO_SEQ_CAUSAL_LM_MAPPING_NAMES\n\u001b[1;32m     71\u001b[0m         \u001b[39mif\u001b[39;00m \u001b[39mself\u001b[39m\u001b[39m.\u001b[39mframework \u001b[39m==\u001b[39m \u001b[39m\"\u001b[39m\u001b[39mtf\u001b[39m\u001b[39m\"\u001b[39m\n\u001b[1;32m     72\u001b[0m         \u001b[39melse\u001b[39;00m MODEL_FOR_SEQ_TO_SEQ_CAUSAL_LM_MAPPING_NAMES\n\u001b[1;32m     73\u001b[0m     )\n",
      "File \u001b[0;32m~/.python/current/lib/python3.10/site-packages/transformers/pipelines/base.py:797\u001b[0m, in \u001b[0;36mPipeline.__init__\u001b[0;34m(self, model, tokenizer, feature_extractor, image_processor, modelcard, framework, task, args_parser, device, torch_dtype, binary_output, **kwargs)\u001b[0m\n\u001b[1;32m    795\u001b[0m \u001b[39m# We shouldn't call `model.to()` for models loaded with accelerate\u001b[39;00m\n\u001b[1;32m    796\u001b[0m \u001b[39mif\u001b[39;00m \u001b[39mself\u001b[39m\u001b[39m.\u001b[39mframework \u001b[39m==\u001b[39m \u001b[39m\"\u001b[39m\u001b[39mpt\u001b[39m\u001b[39m\"\u001b[39m \u001b[39mand\u001b[39;00m device \u001b[39mis\u001b[39;00m \u001b[39mnot\u001b[39;00m \u001b[39mNone\u001b[39;00m \u001b[39mand\u001b[39;00m \u001b[39mnot\u001b[39;00m (\u001b[39misinstance\u001b[39m(device, \u001b[39mint\u001b[39m) \u001b[39mand\u001b[39;00m device \u001b[39m<\u001b[39m \u001b[39m0\u001b[39m):\n\u001b[0;32m--> 797\u001b[0m     \u001b[39mself\u001b[39;49m\u001b[39m.\u001b[39;49mmodel\u001b[39m.\u001b[39;49mto(device)\n\u001b[1;32m    799\u001b[0m \u001b[39mif\u001b[39;00m device \u001b[39mis\u001b[39;00m \u001b[39mNone\u001b[39;00m:\n\u001b[1;32m    800\u001b[0m     \u001b[39mif\u001b[39;00m hf_device_map \u001b[39mis\u001b[39;00m \u001b[39mnot\u001b[39;00m \u001b[39mNone\u001b[39;00m:\n\u001b[1;32m    801\u001b[0m         \u001b[39m# Take the first device used by `accelerate`.\u001b[39;00m\n",
      "File \u001b[0;32m~/.python/current/lib/python3.10/site-packages/transformers/modeling_utils.py:2181\u001b[0m, in \u001b[0;36mPreTrainedModel.to\u001b[0;34m(self, *args, **kwargs)\u001b[0m\n\u001b[1;32m   2176\u001b[0m     \u001b[39mraise\u001b[39;00m \u001b[39mValueError\u001b[39;00m(\n\u001b[1;32m   2177\u001b[0m         \u001b[39m\"\u001b[39m\u001b[39m`.to` is not supported for `4-bit` or `8-bit` bitsandbytes models. Please use the model as it is, since the\u001b[39m\u001b[39m\"\u001b[39m\n\u001b[1;32m   2178\u001b[0m         \u001b[39m\"\u001b[39m\u001b[39m model has already been set to the correct devices and casted to the correct `dtype`.\u001b[39m\u001b[39m\"\u001b[39m\n\u001b[1;32m   2179\u001b[0m     )\n\u001b[1;32m   2180\u001b[0m \u001b[39melse\u001b[39;00m:\n\u001b[0;32m-> 2181\u001b[0m     \u001b[39mreturn\u001b[39;00m \u001b[39msuper\u001b[39;49m()\u001b[39m.\u001b[39;49mto(\u001b[39m*\u001b[39;49margs, \u001b[39m*\u001b[39;49m\u001b[39m*\u001b[39;49mkwargs)\n",
      "File \u001b[0;32m~/.local/lib/python3.10/site-packages/torch/nn/modules/module.py:1145\u001b[0m, in \u001b[0;36mModule.to\u001b[0;34m(self, *args, **kwargs)\u001b[0m\n\u001b[1;32m   1141\u001b[0m         \u001b[39mreturn\u001b[39;00m t\u001b[39m.\u001b[39mto(device, dtype \u001b[39mif\u001b[39;00m t\u001b[39m.\u001b[39mis_floating_point() \u001b[39mor\u001b[39;00m t\u001b[39m.\u001b[39mis_complex() \u001b[39melse\u001b[39;00m \u001b[39mNone\u001b[39;00m,\n\u001b[1;32m   1142\u001b[0m                     non_blocking, memory_format\u001b[39m=\u001b[39mconvert_to_format)\n\u001b[1;32m   1143\u001b[0m     \u001b[39mreturn\u001b[39;00m t\u001b[39m.\u001b[39mto(device, dtype \u001b[39mif\u001b[39;00m t\u001b[39m.\u001b[39mis_floating_point() \u001b[39mor\u001b[39;00m t\u001b[39m.\u001b[39mis_complex() \u001b[39melse\u001b[39;00m \u001b[39mNone\u001b[39;00m, non_blocking)\n\u001b[0;32m-> 1145\u001b[0m \u001b[39mreturn\u001b[39;00m \u001b[39mself\u001b[39;49m\u001b[39m.\u001b[39;49m_apply(convert)\n",
      "File \u001b[0;32m~/.local/lib/python3.10/site-packages/torch/nn/modules/module.py:797\u001b[0m, in \u001b[0;36mModule._apply\u001b[0;34m(self, fn)\u001b[0m\n\u001b[1;32m    795\u001b[0m \u001b[39mdef\u001b[39;00m \u001b[39m_apply\u001b[39m(\u001b[39mself\u001b[39m, fn):\n\u001b[1;32m    796\u001b[0m     \u001b[39mfor\u001b[39;00m module \u001b[39min\u001b[39;00m \u001b[39mself\u001b[39m\u001b[39m.\u001b[39mchildren():\n\u001b[0;32m--> 797\u001b[0m         module\u001b[39m.\u001b[39;49m_apply(fn)\n\u001b[1;32m    799\u001b[0m     \u001b[39mdef\u001b[39;00m \u001b[39mcompute_should_use_set_data\u001b[39m(tensor, tensor_applied):\n\u001b[1;32m    800\u001b[0m         \u001b[39mif\u001b[39;00m torch\u001b[39m.\u001b[39m_has_compatible_shallow_copy_type(tensor, tensor_applied):\n\u001b[1;32m    801\u001b[0m             \u001b[39m# If the new tensor has compatible tensor type as the existing tensor,\u001b[39;00m\n\u001b[1;32m    802\u001b[0m             \u001b[39m# the current behavior is to change the tensor in-place using `.data =`,\u001b[39;00m\n\u001b[0;32m   (...)\u001b[0m\n\u001b[1;32m    807\u001b[0m             \u001b[39m# global flag to let the user control whether they want the future\u001b[39;00m\n\u001b[1;32m    808\u001b[0m             \u001b[39m# behavior of overwriting the existing tensor or not.\u001b[39;00m\n",
      "File \u001b[0;32m~/.local/lib/python3.10/site-packages/torch/nn/modules/module.py:820\u001b[0m, in \u001b[0;36mModule._apply\u001b[0;34m(self, fn)\u001b[0m\n\u001b[1;32m    816\u001b[0m \u001b[39m# Tensors stored in modules are graph leaves, and we don't want to\u001b[39;00m\n\u001b[1;32m    817\u001b[0m \u001b[39m# track autograd history of `param_applied`, so we have to use\u001b[39;00m\n\u001b[1;32m    818\u001b[0m \u001b[39m# `with torch.no_grad():`\u001b[39;00m\n\u001b[1;32m    819\u001b[0m \u001b[39mwith\u001b[39;00m torch\u001b[39m.\u001b[39mno_grad():\n\u001b[0;32m--> 820\u001b[0m     param_applied \u001b[39m=\u001b[39m fn(param)\n\u001b[1;32m    821\u001b[0m should_use_set_data \u001b[39m=\u001b[39m compute_should_use_set_data(param, param_applied)\n\u001b[1;32m    822\u001b[0m \u001b[39mif\u001b[39;00m should_use_set_data:\n",
      "File \u001b[0;32m~/.local/lib/python3.10/site-packages/torch/nn/modules/module.py:1143\u001b[0m, in \u001b[0;36mModule.to.<locals>.convert\u001b[0;34m(t)\u001b[0m\n\u001b[1;32m   1140\u001b[0m \u001b[39mif\u001b[39;00m convert_to_format \u001b[39mis\u001b[39;00m \u001b[39mnot\u001b[39;00m \u001b[39mNone\u001b[39;00m \u001b[39mand\u001b[39;00m t\u001b[39m.\u001b[39mdim() \u001b[39min\u001b[39;00m (\u001b[39m4\u001b[39m, \u001b[39m5\u001b[39m):\n\u001b[1;32m   1141\u001b[0m     \u001b[39mreturn\u001b[39;00m t\u001b[39m.\u001b[39mto(device, dtype \u001b[39mif\u001b[39;00m t\u001b[39m.\u001b[39mis_floating_point() \u001b[39mor\u001b[39;00m t\u001b[39m.\u001b[39mis_complex() \u001b[39melse\u001b[39;00m \u001b[39mNone\u001b[39;00m,\n\u001b[1;32m   1142\u001b[0m                 non_blocking, memory_format\u001b[39m=\u001b[39mconvert_to_format)\n\u001b[0;32m-> 1143\u001b[0m \u001b[39mreturn\u001b[39;00m t\u001b[39m.\u001b[39;49mto(device, dtype \u001b[39mif\u001b[39;49;00m t\u001b[39m.\u001b[39;49mis_floating_point() \u001b[39mor\u001b[39;49;00m t\u001b[39m.\u001b[39;49mis_complex() \u001b[39melse\u001b[39;49;00m \u001b[39mNone\u001b[39;49;00m, non_blocking)\n",
      "\u001b[0;31mOutOfMemoryError\u001b[0m: CUDA out of memory. Tried to allocate 96.00 MiB (GPU 0; 15.77 GiB total capacity; 15.27 GiB already allocated; 87.12 MiB free; 15.27 GiB reserved in total by PyTorch) If reserved memory is >> allocated memory try setting max_split_size_mb to avoid fragmentation.  See documentation for Memory Management and PYTORCH_CUDA_ALLOC_CONF"
     ]
    }
   ],
   "source": [
    "from transformers import pipeline\n",
    "from random import randrange        \n",
    "\n",
    "# load model and tokenizer from huggingface hub with pipeline\n",
    "summarizer = pipeline(\"summarization\", tokenizer=tokenizer, model=\"philschmid/flan-t5-base-samsum\", device=0)\n",
    "\n",
    "\n",
    "\n",
    "# summarize dialogue\n",
    "res = summarizer(text)\n",
    "\n",
    "print(f\"flan-t5-base summary:\\n{res[0]['summary_text']}\")"
   ]
  },
  {
   "cell_type": "code",
   "execution_count": null,
   "metadata": {},
   "outputs": [],
   "source": []
  }
 ],
 "metadata": {
  "kernelspec": {
   "display_name": "Python 3",
   "language": "python",
   "name": "python3"
  },
  "language_info": {
   "codemirror_mode": {
    "name": "ipython",
    "version": 3
   },
   "file_extension": ".py",
   "mimetype": "text/x-python",
   "name": "python",
   "nbconvert_exporter": "python",
   "pygments_lexer": "ipython3",
   "version": "3.10.8"
  }
 },
 "nbformat": 4,
 "nbformat_minor": 2
}
