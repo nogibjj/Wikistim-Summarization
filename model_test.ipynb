{
 "cells": [
  {
   "cell_type": "code",
   "execution_count": 1,
   "metadata": {},
   "outputs": [
    {
     "name": "stdout",
     "output_type": "stream",
     "text": [
      "Chapter 37\n",
      "Transcranial magnetic stimulation\n",
      "JEAN-PASCAL LEFAUCHEUR1,2*\n",
      "1Excitabilit /C19e Nerveuse et Th /C19erapeutique, Facult /C19ed eM /C19edecine de Cr /C19eteil, Cr /C19eteil, France\n",
      "2Service de Physiologie—Explorations Fonctionnelles, H ^opital Henri Mondor, Cr /C19eteil, France\n",
      "Abstract\n",
      "This review presents the neurophysiologic principles and clinical applications of transcranial magnetic\n",
      "stimulation (TMS) and other related techniques of noninvasive cortical stimulation. TMS can serve variouspurposes for diagnosis or treatment. Regarding diagnosis, TMS is mainly dedicated to the recording ofmotor evoked potentials (MEPs). MEP recording allows investigation of corticospinal conduction timeand cortical motor control in clinical practice. Especially when using image-guided neuronavigationmethods, MEP recording is a reliable method to perform functional mapping of muscle representationwithin the motor cortex. Using various types of paired-pulse paradigms, TMS allows the assessment of\n",
      "brain circuit excitability or plastic changes affecting these circuits. In particular, paired-pulse TMS para-\n",
      "digms are able to appraise the intracortical balance between inhibitory controls mediated by GABAergicneurotransmission and excitatory controls mediated by glutamatergic neurotransmission. Finally, TMSdelivered as repetitive trains of stimulation (rTMS) may activate, inhibit, or otherwise interfere withthe activity of neuronal cortical networks, depending on stimulus frequency and in\n",
      "\n",
      "\n",
      "\n",
      " plus an additional 104950 chars..\n"
     ]
    }
   ],
   "source": [
    "import pprint as pp\n",
    "with open('/workspaces/Wikistim-Summarization/00_source_data/first_data_pull_test/1-s2.0-B9780444640321000370-main.', 'r', encoding='utf-8', errors='ignore') as f:\n",
    "    long_text = f.read()\n",
    "\n",
    "print(long_text[:1500])\n",
    "print(\"\\n\" * 3,f\"plus an additional {len(long_text)-1500} chars..\")"
   ]
  },
  {
   "cell_type": "code",
   "execution_count": 2,
   "metadata": {},
   "outputs": [
    {
     "data": {
      "application/vnd.jupyter.widget-view+json": {
       "model_id": "7a373e3751054ca689895e6f6a60034f",
       "version_major": 2,
       "version_minor": 0
      },
      "text/plain": [
       "Downloading (…)lve/main/config.json:   0%|          | 0.00/1.05k [00:00<?, ?B/s]"
      ]
     },
     "metadata": {},
     "output_type": "display_data"
    },
    {
     "data": {
      "application/vnd.jupyter.widget-view+json": {
       "model_id": "c2ca339deda84260bbddf83b991486b3",
       "version_major": 2,
       "version_minor": 0
      },
      "text/plain": [
       "Downloading model.safetensors:   0%|          | 0.00/990M [00:00<?, ?B/s]"
      ]
     },
     "metadata": {},
     "output_type": "display_data"
    },
    {
     "data": {
      "application/vnd.jupyter.widget-view+json": {
       "model_id": "e6feb03bf4494ab2914e84a8ccaeba6b",
       "version_major": 2,
       "version_minor": 0
      },
      "text/plain": [
       "Downloading (…)okenizer_config.json:   0%|          | 0.00/2.36k [00:00<?, ?B/s]"
      ]
     },
     "metadata": {},
     "output_type": "display_data"
    },
    {
     "data": {
      "application/vnd.jupyter.widget-view+json": {
       "model_id": "9daea891f38f4ffb870f87beb1c65f3a",
       "version_major": 2,
       "version_minor": 0
      },
      "text/plain": [
       "Downloading spiece.model:   0%|          | 0.00/792k [00:00<?, ?B/s]"
      ]
     },
     "metadata": {},
     "output_type": "display_data"
    },
    {
     "data": {
      "application/vnd.jupyter.widget-view+json": {
       "model_id": "decfb3208f65487fa8e9e3c0011fefdd",
       "version_major": 2,
       "version_minor": 0
      },
      "text/plain": [
       "Downloading (…)/main/tokenizer.json:   0%|          | 0.00/2.42M [00:00<?, ?B/s]"
      ]
     },
     "metadata": {},
     "output_type": "display_data"
    },
    {
     "data": {
      "application/vnd.jupyter.widget-view+json": {
       "model_id": "a60045ed1f1c4a95805c5aebf0f3861b",
       "version_major": 2,
       "version_minor": 0
      },
      "text/plain": [
       "Downloading (…)cial_tokens_map.json:   0%|          | 0.00/2.20k [00:00<?, ?B/s]"
      ]
     },
     "metadata": {},
     "output_type": "display_data"
    },
    {
     "ename": "",
     "evalue": "",
     "output_type": "error",
     "traceback": [
      "\u001b[1;31mCannot execute code, session has been disposed. Please try restarting the Kernel."
     ]
    },
    {
     "ename": "",
     "evalue": "",
     "output_type": "error",
     "traceback": [
      "\u001b[1;31mThe Kernel crashed while executing code in the the current cell or a previous cell. Please review the code in the cell(s) to identify a possible cause of the failure. Click <a href='https://aka.ms/vscodeJupyterKernelCrash'>here</a> for more info. View Jupyter <a href='command:jupyter.viewOutput'>log</a> for further details."
     ]
    }
   ],
   "source": [
    "import torch\n",
    "from transformers import pipeline\n",
    "\n",
    "summarizer = pipeline(\n",
    "    \"summarization\",\n",
    "    \"pszemraj/long-t5-tglobal-base-16384-book-summary\",\n",
    "    device=0 if torch.cuda.is_available() else -1,\n",
    ")\n",
    "\n",
    "result = summarizer(long_text)\n",
    "print(result[0][\"summary_text\"])\n"
   ]
  },
  {
   "cell_type": "code",
   "execution_count": 2,
   "metadata": {},
   "outputs": [
    {
     "name": "stdout",
     "output_type": "stream",
     "text": [
      "Requirement already satisfied: textsum in /usr/local/python/3.10.8/lib/python3.10/site-packages (0.2.0)\n",
      "Requirement already satisfied: accelerate in /usr/local/python/3.10.8/lib/python3.10/site-packages (from textsum) (0.23.0)\n",
      "Requirement already satisfied: clean-text in /usr/local/python/3.10.8/lib/python3.10/site-packages (from textsum) (0.6.0)\n",
      "Requirement already satisfied: fire in /usr/local/python/3.10.8/lib/python3.10/site-packages (from textsum) (0.5.0)\n",
      "Requirement already satisfied: natsort in /usr/local/python/3.10.8/lib/python3.10/site-packages (from textsum) (8.4.0)\n",
      "Requirement already satisfied: nltk in /usr/local/python/3.10.8/lib/python3.10/site-packages (from textsum) (3.8.1)\n",
      "Requirement already satisfied: torch in /home/codespace/.local/lib/python3.10/site-packages (from textsum) (2.0.1)\n",
      "Requirement already satisfied: tqdm in /usr/local/python/3.10.8/lib/python3.10/site-packages (from textsum) (4.66.1)\n",
      "Requirement already satisfied: transformers>=4.26.0 in /usr/local/python/3.10.8/lib/python3.10/site-packages (from textsum) (4.33.2)\n",
      "Requirement already satisfied: filelock in /home/codespace/.local/lib/python3.10/site-packages (from transformers>=4.26.0->textsum) (3.12.3)\n",
      "Requirement already satisfied: huggingface-hub<1.0,>=0.15.1 in /usr/local/python/3.10.8/lib/python3.10/site-packages (from transformers>=4.26.0->textsum) (0.17.1)\n",
      "Requirement already satisfied: numpy>=1.17 in /home/codespace/.local/lib/python3.10/site-packages (from transformers>=4.26.0->textsum) (1.25.2)\n",
      "Requirement already satisfied: packaging>=20.0 in /home/codespace/.local/lib/python3.10/site-packages (from transformers>=4.26.0->textsum) (23.1)\n",
      "Requirement already satisfied: pyyaml>=5.1 in /home/codespace/.local/lib/python3.10/site-packages (from transformers>=4.26.0->textsum) (6.0.1)\n",
      "Requirement already satisfied: regex!=2019.12.17 in /usr/local/python/3.10.8/lib/python3.10/site-packages (from transformers>=4.26.0->textsum) (2023.8.8)\n",
      "Requirement already satisfied: requests in /home/codespace/.local/lib/python3.10/site-packages (from transformers>=4.26.0->textsum) (2.31.0)\n",
      "Requirement already satisfied: tokenizers!=0.11.3,<0.14,>=0.11.1 in /usr/local/python/3.10.8/lib/python3.10/site-packages (from transformers>=4.26.0->textsum) (0.13.3)\n",
      "Requirement already satisfied: safetensors>=0.3.1 in /usr/local/python/3.10.8/lib/python3.10/site-packages (from transformers>=4.26.0->textsum) (0.3.3)\n",
      "Requirement already satisfied: psutil in /home/codespace/.local/lib/python3.10/site-packages (from accelerate->textsum) (5.9.5)\n",
      "Requirement already satisfied: typing-extensions in /home/codespace/.local/lib/python3.10/site-packages (from torch->textsum) (4.7.1)\n",
      "Requirement already satisfied: sympy in /home/codespace/.local/lib/python3.10/site-packages (from torch->textsum) (1.12)\n",
      "Requirement already satisfied: networkx in /home/codespace/.local/lib/python3.10/site-packages (from torch->textsum) (3.1)\n",
      "Requirement already satisfied: jinja2 in /home/codespace/.local/lib/python3.10/site-packages (from torch->textsum) (3.1.2)\n",
      "Requirement already satisfied: nvidia-cuda-nvrtc-cu11==11.7.99 in /home/codespace/.local/lib/python3.10/site-packages (from torch->textsum) (11.7.99)\n",
      "Requirement already satisfied: nvidia-cuda-runtime-cu11==11.7.99 in /home/codespace/.local/lib/python3.10/site-packages (from torch->textsum) (11.7.99)\n",
      "Requirement already satisfied: nvidia-cuda-cupti-cu11==11.7.101 in /home/codespace/.local/lib/python3.10/site-packages (from torch->textsum) (11.7.101)\n",
      "Requirement already satisfied: nvidia-cudnn-cu11==8.5.0.96 in /home/codespace/.local/lib/python3.10/site-packages (from torch->textsum) (8.5.0.96)\n",
      "Requirement already satisfied: nvidia-cublas-cu11==11.10.3.66 in /home/codespace/.local/lib/python3.10/site-packages (from torch->textsum) (11.10.3.66)\n",
      "Requirement already satisfied: nvidia-cufft-cu11==10.9.0.58 in /home/codespace/.local/lib/python3.10/site-packages (from torch->textsum) (10.9.0.58)\n",
      "Requirement already satisfied: nvidia-curand-cu11==10.2.10.91 in /home/codespace/.local/lib/python3.10/site-packages (from torch->textsum) (10.2.10.91)\n",
      "Requirement already satisfied: nvidia-cusolver-cu11==11.4.0.1 in /home/codespace/.local/lib/python3.10/site-packages (from torch->textsum) (11.4.0.1)\n",
      "Requirement already satisfied: nvidia-cusparse-cu11==11.7.4.91 in /home/codespace/.local/lib/python3.10/site-packages (from torch->textsum) (11.7.4.91)\n",
      "Requirement already satisfied: nvidia-nccl-cu11==2.14.3 in /home/codespace/.local/lib/python3.10/site-packages (from torch->textsum) (2.14.3)\n",
      "Requirement already satisfied: nvidia-nvtx-cu11==11.7.91 in /home/codespace/.local/lib/python3.10/site-packages (from torch->textsum) (11.7.91)\n",
      "Requirement already satisfied: triton==2.0.0 in /home/codespace/.local/lib/python3.10/site-packages (from torch->textsum) (2.0.0)\n",
      "Requirement already satisfied: setuptools in /home/codespace/.local/lib/python3.10/site-packages (from nvidia-cublas-cu11==11.10.3.66->torch->textsum) (68.0.0)\n",
      "Requirement already satisfied: wheel in /home/codespace/.local/lib/python3.10/site-packages (from nvidia-cublas-cu11==11.10.3.66->torch->textsum) (0.41.2)\n",
      "Requirement already satisfied: cmake in /home/codespace/.local/lib/python3.10/site-packages (from triton==2.0.0->torch->textsum) (3.27.4.1)\n",
      "Requirement already satisfied: lit in /home/codespace/.local/lib/python3.10/site-packages (from triton==2.0.0->torch->textsum) (16.0.6)\n",
      "Requirement already satisfied: emoji<2.0.0,>=1.0.0 in /usr/local/python/3.10.8/lib/python3.10/site-packages (from clean-text->textsum) (1.7.0)\n",
      "Requirement already satisfied: ftfy<7.0,>=6.0 in /usr/local/python/3.10.8/lib/python3.10/site-packages (from clean-text->textsum) (6.1.1)\n",
      "Requirement already satisfied: six in /home/codespace/.local/lib/python3.10/site-packages (from fire->textsum) (1.16.0)\n",
      "Requirement already satisfied: termcolor in /usr/local/python/3.10.8/lib/python3.10/site-packages (from fire->textsum) (2.3.0)\n",
      "Requirement already satisfied: click in /usr/local/python/3.10.8/lib/python3.10/site-packages (from nltk->textsum) (8.1.7)\n",
      "Requirement already satisfied: joblib in /home/codespace/.local/lib/python3.10/site-packages (from nltk->textsum) (1.3.2)\n",
      "Requirement already satisfied: wcwidth>=0.2.5 in /home/codespace/.local/lib/python3.10/site-packages (from ftfy<7.0,>=6.0->clean-text->textsum) (0.2.6)\n",
      "Requirement already satisfied: fsspec in /usr/local/python/3.10.8/lib/python3.10/site-packages (from huggingface-hub<1.0,>=0.15.1->transformers>=4.26.0->textsum) (2023.9.1)\n",
      "Requirement already satisfied: MarkupSafe>=2.0 in /home/codespace/.local/lib/python3.10/site-packages (from jinja2->torch->textsum) (2.1.3)\n",
      "Requirement already satisfied: charset-normalizer<4,>=2 in /home/codespace/.local/lib/python3.10/site-packages (from requests->transformers>=4.26.0->textsum) (3.2.0)\n",
      "Requirement already satisfied: idna<4,>=2.5 in /home/codespace/.local/lib/python3.10/site-packages (from requests->transformers>=4.26.0->textsum) (3.4)\n",
      "Requirement already satisfied: urllib3<3,>=1.21.1 in /home/codespace/.local/lib/python3.10/site-packages (from requests->transformers>=4.26.0->textsum) (2.0.4)\n",
      "Requirement already satisfied: certifi>=2017.4.17 in /home/codespace/.local/lib/python3.10/site-packages (from requests->transformers>=4.26.0->textsum) (2023.7.22)\n",
      "Requirement already satisfied: mpmath>=0.19 in /home/codespace/.local/lib/python3.10/site-packages (from sympy->torch->textsum) (1.3.0)\n",
      "Note: you may need to restart the kernel to use updated packages.\n"
     ]
    }
   ],
   "source": [
    "%pip install textsum\n"
   ]
  },
  {
   "cell_type": "code",
   "execution_count": 4,
   "metadata": {},
   "outputs": [
    {
     "name": "stderr",
     "output_type": "stream",
     "text": [
      "09/17/2023 08:04:11 INFO Loaded model pszemraj/long-t5-tglobal-base-16384-book-summary to cpu\n"
     ]
    },
    {
     "data": {
      "application/vnd.jupyter.widget-view+json": {
       "model_id": "d04c8693a8b34b569250eda33f8bf7ca",
       "version_major": 2,
       "version_minor": 0
      },
      "text/plain": [
       "Generating Summaries:   0%|          | 0/16 [00:00<?, ?it/s]"
      ]
     },
     "metadata": {},
     "output_type": "display_data"
    },
    {
     "name": "stderr",
     "output_type": "stream",
     "text": [
      "/home/codespace/.python/current/lib/python3.10/site-packages/transformers/modeling_utils.py:863: FutureWarning: The `device` argument is deprecated and will be removed in v5 of Transformers.\n",
      "  warnings.warn(\n"
     ]
    },
    {
     "ename": "",
     "evalue": "",
     "output_type": "error",
     "traceback": [
      "\u001b[1;31mCannot execute code, session has been disposed. Please try restarting the Kernel."
     ]
    },
    {
     "ename": "",
     "evalue": "",
     "output_type": "error",
     "traceback": [
      "\u001b[1;31mThe Kernel crashed while executing code in the the current cell or a previous cell. Please review the code in the cell(s) to identify a possible cause of the failure. Click <a href='https://aka.ms/vscodeJupyterKernelCrash'>here</a> for more info. View Jupyter <a href='command:jupyter.viewOutput'>log</a> for further details."
     ]
    }
   ],
   "source": [
    "from textsum.summarize import Summarizer\n",
    "\n",
    "summarizer = Summarizer(\n",
    "    model_name_or_path=\"pszemraj/long-t5-tglobal-base-16384-book-summary\"\n",
    ")\n",
    "\n",
    "out_str = summarizer.summarize_string(long_text)\n",
    "print(f\"summary: {out_str}\")\n"
   ]
  },
  {
   "cell_type": "code",
   "execution_count": null,
   "metadata": {},
   "outputs": [],
   "source": []
  }
 ],
 "metadata": {
  "kernelspec": {
   "display_name": "Python 3",
   "language": "python",
   "name": "python3"
  },
  "language_info": {
   "codemirror_mode": {
    "name": "ipython",
    "version": 3
   },
   "file_extension": ".py",
   "mimetype": "text/x-python",
   "name": "python",
   "nbconvert_exporter": "python",
   "pygments_lexer": "ipython3",
   "version": "3.10.8"
  },
  "orig_nbformat": 4
 },
 "nbformat": 4,
 "nbformat_minor": 2
}
