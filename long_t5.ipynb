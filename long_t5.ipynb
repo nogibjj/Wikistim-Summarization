{
 "cells": [
  {
   "cell_type": "code",
   "execution_count": 6,
   "metadata": {},
   "outputs": [],
   "source": [
    "import pandas as pd \n",
    "test_data = pd.read_csv('/workspaces/Wikistim-Summarization/00_source_data/uncleaned_text.csv')"
   ]
  },
  {
   "cell_type": "code",
   "execution_count": 7,
   "metadata": {},
   "outputs": [
    {
     "data": {
      "text/plain": [
       "'Vol.:(0123456789) 1 3 Quality of Life Research (2018) 27:2035–2044  https://doi.org/10.1007/s11136-018-1890-8 Long-term quality of\\xa0life improvement for\\xa0chronic intractable back  and\\xa0leg pain patients using spinal cord stimulation: 12-month results  from\\xa0the\\xa0SENZA-RCT  Kasra\\xa0Amirdelfan1\\xa0· Cong\\xa0Yu2\\xa0· Matthew\\xa0W.\\xa0Doust3\\xa0· Bradford\\xa0E.\\xa0Gliner4\\xa0· Donna\\xa0M.\\xa0Morgan5\\xa0· Leonardo\\xa0Kapural6\\xa0·  Ricardo\\xa0Vallejo7\\xa0· B.\\xa0Todd\\xa0Sitzman8\\xa0· Thomas\\xa0L.\\xa0Yearwood9\\xa0· Richard\\xa0Bundschu10\\xa0· Thomas\\xa0Yang2\\xa0·  Ramsin\\xa0Benyamin7\\xa0· Abram\\xa0H.\\xa0Burgher3\\xa0· Elizabeth\\xa0S.\\xa0Brooks4\\xa0· Ashley\\xa0A.\\xa0Powell4\\xa0· Jeyakumar\\xa0Subbaroyan4 Accepted: 22 May 2018 / Published online: 1 June 2018  © The Author(s) 2018 Abstract Purpose Chronic axial low-back pain is a debilitating disorder that impacts all aspects of an afflicted individual’s life. Effec- tive, durable treatments have historically been elusive. Interventional therapies, such as spinal cord stimulation (SCS), have  shown limited efficacy at best. Recently, a novel treatment, 10\\xa0kHz SCS, has demonstrated superior pain relief compared  with traditional SCS in a randomized controlled trial (RCT). In this manuscript, we report on the long-term improvements  in quality of life (QoL) outcomes for subjects enrolled in this study. Methods A prospective, multicenter, randomized controlled trial (SENZA-RCT) was conducted. Patients with both chronic  back and leg pain were enrolled and randomized (1:1) into 10\\xa0kHz SCS or traditional SCS treatment groups. A total of 171  subjects received a permanent SCS device implant. QoL and functionality measures were collected up to 12\\xa0months. The  device remote control utilization, which is an indication of patient interaction with the device for adjustments, was collected  at 24-month post-implantation. Results At 12\\xa0months, a higher proportion of 10\\xa0kHz SCS subjects had marked improvement of their disability (Oswestry  Disability Index) to a “moderate” or “minimal” impact on their daily function versus the control group. The subjects also  reported better improvement in the Global Assessment of Functioning, Clinician Global Impression of Change, Pittsburgh  Sleep Quality Index, and short-form McGill Pain Questionnaire, compared to traditional SCS subjects. The 10\\xa0kHz SCS  subjects also reported far higher rates of both driving and sleeping with their device turned on, as well as reduced reliance  on their programmers to adjust therapy settings. Conclusions In addition to superior pain relief, 10\\xa0kHz SCS provides long-term improvements in quality of life and func- tionality for subjects with chronic low-back and leg pain. Trial registration: ClinicalTrials.gov (NCT01609972). Keywords Spinal cord stimulation\\xa0· Quality of life\\xa0· Neuropathic pain\\xa0· 10\\xa0kHz\\xa0· High-frequency SCS\\xa0· Chronic low-back  pain\\xa0· Leg pain  * Jeyakumar Subbaroyan    jey.subbaroyan@nevro.com 1  IPM Medical Group, Inc., Walnut\\xa0Creek, CA, USA 2  Swedish Pain Center, Seattle, WA, USA 3  The Pain Center of\\xa0Arizona and\\xa0HOPE Research Institute,  Phoenix, AZ, USA 4  Clinical Affairs, Nevro Corp., 1800 Bridge Parkway,  Redwood\\xa0City, CA\\xa094065, USA 5  Pain Specialists of\\xa0Oregon, Eugene, OR, USA 6  Center for\\xa0Clinical Research and\\xa0Carolina’s Pain Institute  at\\xa0Brookstown, Wake Forest Baptist Health, Winston-Salem,  NC, USA 7  Millennium Pain Center, Bloomington, IL, USA 8  Advanced Pain Therapy, PLLC, Hattiesburg, MS, USA 9  Comprehensive Pain and\\xa0Rehabilitation, Pascagoula, MS,  USA 10 Coastal Orthopedics and\\xa0Pain Medicine, Bradenton, FL,  USA 2036   Quality of Life Research (2018) 27:2035–2044 1 3 Introduction For the past two decades, low-back pain has been the sin- gle leading cause of disability worldwide, affecting 9.2%  of the population [1, 2]. Chronic, intractable back pain  dramatically affects one’s work function, activities of  daily living, as well as social relationships with friends  and family members. In addition, the global pervasive- ness and intractable nature of this ailment, as the leading  cause of disability in the population, results in tremendous  healthcare utilization [3–5] and loss of workforce produc- tivity [6, 7]. Treatments for chronic pain currently include  exercise, physical therapy, psychological support, phar- maceuticals, interventional procedures, neuromodulation,  and surgery. However, the evidence of efficacy of such  treatments is limited for many chronic pain patients [8].  Thus, there is great need for improved treatment options  for patients living with chronic low-back and leg pain, in  order to not only reduce their pain, but to also improve  their quality of life (QoL). Spinal cord stimulation (SCS) is a well-established  treatment option for chronic neuropathic pain arising  from various etiologies [9–12]. Traditional SCS utilizes  an array of electrodes placed in the epidural space to  deliver low-frequency (∼50\\xa0Hz) electrical stimulation to  the dorsal column nerve fibers. This therapy depends on  the induction of paresthesias (tingling or buzzing sen- sations) overlapping the patient’s pain distribution [13].  Paresthesias are caused by the activation of large diameter  Aβ fibers [14]. While\\xa0it has been found to be an effective  treatment for chronic, intractable neuropathic pain [15,  16], published evidence demonstrates that pain relief from  traditional SCS may not be sustained over the long-term.  Moreover, traditional SCS may not effectively treat axial  low-back pain [15, 17–19]. The arrangement of dorsal  column fibers innervating the axial back makes it diffi- cult to elicit paresthesias in this region using traditional  SCS. Moreover, the intensity of these paresthesias can  also vary, based on body position resulting in either a  sudden, uncomfortable increase in stimulation or persis- tent unwanted sensations [20, 21]. This precludes the use  of traditional SCS during sleeping, driving, and operat- ing machinery. Thus, there remains great potential for  improved efficacy of neuromodulation as an attractive  alternative to both conventional medical management and  more invasive surgical procedures. Recently, a neuromodulation therapy utilizing a high- frequency, 10\\xa0kHz stimulation waveform (HF10 therapy)  has emerged as a promising therapeutic option. This  therapy involves percutaneous leads placed in the epi- dural space, similar to traditional SCS. But a combina- tion of anatomical midline lead placement and stimulation  parameters results in paresthesia-free pain relief with  10\\xa0kHz SCS. In a multicenter, randomized controlled  trial (SENZA-RCT), 10\\xa0kHz SCS demonstrated superior,  long-lasting back and leg pain relief, when compared to  traditional, low-frequency SCS without the need for pain- paresthesia overlap [22, 23]. At 12\\xa0months, the responder  rates (≥ 50% pain relief) for the 10\\xa0kHz SCS and low- frequency SCS were 76.5% and 49.3% for back pain and  72.9% and 49.3% for leg pain, respectively. Pain relief  is the primary goal when treating subjects with chronic  pain; however, there are secondary measures that reflect  the subjects’ overall well-being and functionality. Out- comes related to QoL, as assessed by appropriate meas- ures of functionality, sleep, pain interference, and subject  satisfaction, elucidate a more comprehensive picture of the  subjects’ disposition [10, 15, 24–28]. We present data col- lected during the SENZA-RCT, demonstrating improved  functionality and QoL outcomes for subjects treated with  10\\xa0kHz SCS therapy. Methods This study was registered with ClinicalTrials.gov  (NCT01609972) on May 30th, 2012 and conducted in com- pliance with the United States Code of Federal Regulations  and in accordance with recommendations of the 18th World  Medical Assembly (Helsinki, Finland) guiding physicians in  biomedical research. Both the study protocol and informed  consent were approved by each participating site’s govern- ing institutional review board (Western Institutional Review  Board, Puyallup, Washington; Forsyth Medical Center Insti- tutional Review Board, Winston-Salem, North Carolina). All  subjects enrolled in the study provided written, informed  consent prior to their participation. A total of 198 subjects with both back and leg pain were  randomized 1:1 to either low-frequency, traditional SCS or  10\\xa0kHz SCS across ten comprehensive pain treatment cent- ers in the United States. Detailed methods, including sub- ject demographics and subject flow diagram, are described  elsewhere [29]. Briefly, a pair of percutaneous leads was  placed in the dorsal epidural space along the radiographic  midline of the spinal column and stimulation was trialed  for up to 14\\xa0days. Of the subjects randomized, 189 com- pleted the trial phase and 171 of those had a successful  trial, defined as ≥ 40% reduction in back pain as measured  by the 10-cm visual analog scale (VAS). The subjects with  successful trials were implanted with a permanent SCS  system, 90 with 10\\xa0kHz SCS (Senza System; Nevro Corp.,  USA) and 81 with traditional SCS (Precision Plus System;  Boston Scientific, USA). Of\\xa0the 198 subjects (101–10\\xa0kHz,  97—low-frequency SCS) randomized to trial stimulation,  2037 Quality of Life Research (2018) 27:2035–2044  1 3 a total of 9 were not trialed (4–10\\xa0kHz SCS and 5—low- frequency SCS) for the following reasons: 10\\xa0kHz SCS— medical contraindication (2), withdrawal of consent (1),  lost to follow-up (1); low-frequency SCS—withdrawal of  consent (4), medical contraindication (1). Only those with  a successful trial (≥ 40% pain relief) proceeded to perma- nent implant (10\\xa0kHz SCS—90 or 92.8%; low-frequency  SCS—81 or 88.0%). Under the guidance of the study investigators, SCS  devices were programmed by representatives of the respec- tive company according to their best practices. Low-back and  leg pain scores (VAS) were collected at all follow-up visits,  in addition to measures of functionality [Oswestry Disability  Index (ODI) and Global Assessment of Functioning (GAF)],  pain interference [Short Form McGill Pain Questionnaire  (SF-MPQ-2)], and sleep quality [Pittsburgh Sleep Quality  Index (PSQI)]. Overall well-being [Short Form Health Sur- vey (SF-12) and Global Impression of Change (GIC)] data  were also captured at baseline and 12-month post-permanent  device implant. ODI assesses the level of disability as “minimal,” “mod- erate,” “severe,” “crippled,” or “bed bound,” [30] while GAF  categorizes symptoms that affect social, occupational, and  school activities as “none,” “minimal,” “transient,” “mild,”  “moderate,” or “serious” [31]. SF-MPQ-2 measures both  neuropathic and non-neuropathic (affective) pain associated  with a disease condition [32]. GIC assesses the change in  severity of a subject’s pain over time and involves both a  patient’s report as well as a clinician’s evaluation [33, 34].  PSQI assesses seven subscales related to sleep that together  add up to a global score [35]. ODI has been validated in a low-back pain population  [30, 36], whereas SF-MPQ-2 was validated for use in clini- cal research with neuropathic and non-neuropathic pain con- ditions [32]. SF-12 is an established, generic measure of  health status used in various disease conditions [37]. All of  the above listed questionnaires along with GIC were recom- mended health-related quality of life (HRQOL) outcomes in  chronic pain trials by the Initiative on Methods, Measure- ment and Pain Assessment in Clinical Trials (IMMPACT)  [38]. Current traditional SCS therapies can cause sudden  changes in paresthesias with activities as the position of the  stimulating electrode and spinal cord varies [39]. Frequent  interaction with the device, by changing the stimulation  or turning the therapy off to avoid unwanted shocks, may  be perceived as burdensome to patient’s normal daily rou- tine. To explore this question, subjects returning for their  24-month follow-up visit were asked how often they used  their remote programmers and whether they carried it with  them when they left the house. Also, the continuous usage  of stimulation including while sleeping and during activi- ties without having to frequently change stimulation settings  could be surrogate marker for good pain relief and quality  of life. Data are presented as the median and 95% confidence  interval (CI) of the median. In outcomes where no base- line values are available for comparison, data are presented  as median and their interquartile range (IQR).\\xa0Categorical  variables were compared using either Fisher’s exact test or  Mann–Whitney test if there was evidence of non-normality  in the data. This study was powered for the primary end- point of responder rate with a hierarchical testing proce- dure performed for secondary endpoints (all of which were  determined to be significant) [29]. The quality of life out- comes reported in the current manuscript were tertiary or  observational outcomes, and therefore were not subject to  hierarchical testing. As such, we report nominal p values  without correction. Results Oswestry Low‑Back Pain Disability Questionnaire  (ODI) There was no difference between the two groups in baseline  ODI scores, whether analyzing average raw scores (dif- ference in medians: 2.00 [95% CI 0.00–5.33], p = .141,  exact non-parametric Mann–Whitney test, 2-sided) or dis- tribution of subjects among the subcategories (p = .228,  exact non-parametric Mann–Whitney test, 2-sided). At  12\\xa0months, however, there was a notable improvement for  the 10\\xa0kHz SCS group compared with traditional SCS sub- jects in both average raw scores (difference in medians:  6.00 [95% CI 1.56–11.12], p = .016, exact non-parametric  Mann–Whitney test, 2-sided) and distribution of subjects  among the subcategories (p = .010, exact non-parametric  Mann–Whitney test, 2-sided) (Fig.\\xa01). Within the 10\\xa0kHz  SCS group, 69.6% of subjects had an improved ODI score  sufficient to reclassify them into a lower disability cate- gory, whereas 55.1% of traditional SCS subjects were in  a lower disability grouping at 12\\xa0months (Table\\xa01). The  specific distribution of subjects among subcategories has  been previously reported [29]. Global Assessment of\\xa0Functioning (GAF) Baseline scores were 65.00 (IQR 15.00) and 65.00 (IQR  18.25) for 10\\xa0kHz SCS and traditional SCS groups, respec- tively (difference in median: 0.00 [95% CI − 2.00–5.00],  p = .511). Improvement in GAF scores at 12\\xa0months com- pared to baseline was 14.00 (IQR 15.00) in the 10\\xa0kHz SCS  group and 6.50 (IQR 19.00) in the traditional SCS group.  Therefore, improvement in GAF scores for 10\\xa0kHz SCS  2038   Quality of Life Research (2018) 27:2035–2044 1 3 group was higher than that reported in the traditional SCS  group (difference in medians: 5.00, [95% CI 0.10–10.00],  p < .01, Mann–Whitney test). The specific distribution of  subjects among subcategories has been previously reported  [29]. Short Form McGill Pain Questionnaire 2 (SF‑MPQ‑2) Compared to their respective baseline values, both tradi- tional SCS and 10\\xa0kHz SCS subjects reported reductions  in all components of pain and affective disorder subscales  on the SF-MPQ-2. Comparisons between the two treatment  groups at 12\\xa0months revealed that 10\\xa0kHz SCS subjects  reported greater improvements than their traditional SCS  counterparts in continuous (difference in medians: 1.17,  [95% CI 2.00–0.50], p < .005), intermittent (difference  in medians: 1.33, [95% CI 2.00–0.50], p < .005), and  neuropathic pain (difference in medians: 0.83, [95% CI  1.50–0.17], p < .01, Mann–Whitney non-parametric test).  However, there was no difference between the treatment  groups on the affective disorders subscale (Fig.\\xa02, dif- ference in medians: 0.25, [95% CI 0.00–0.75], p = .080,  Mann–Whitney non-parametric test). Fig. 1  Distribution of subjects  amongst the subcategories  of Oswestry Disability Index  (ODI) in the traditional SCS and  10\\xa0kHz SCS groups at baseline  and at 12 months Table 1  The number and percentage of subjects stratified into “minimal,” “moderate,” “severe,” “crippled”, or “bedbound” categories by the  ODI administered at baseline and 12\\xa0months The number of subjects who improved from baseline are in normal font, the number with no change from baseline are in Italics, and the number  who worsened are in bold. For traditional SCS subjects (A), 44 (55.1%) improved by at least one category. For 10\\xa0kHz SCS subjects (B), 62  (69.6%) improved by one or more categories A. Traditional SCS N = 80 12\\xa0months Minimal Moderate Severe Crippled Baseline \\xa0Minimal – – – – \\xa0Moderate 1 (1.3%) 0 0 0 \\xa0Severe 6 (7.5%) 25 (31.3%) 28 (35.0%) 2 (2.5%) \\xa0Crippled 0 5 (6.3%) 7 (8.8%) 6 (7.5%) \\xa0Bedbound – – – – B. 10\\xa0kHz SCS N = 89 12\\xa0months Minimal Moderate Severe Crippled Baseline \\xa0Minimal – – – – \\xa0Moderate 4 (4.5%) 4 (4.5%) 0 0 \\xa0Severe 9 (10.1%) 32 (36.0%) 21 (23.6%) 1 (1.1%) \\xa0Crippled 2 (2.2%) 5 (5.6%) 10 (11.2%) 1 (1.1%) \\xa0Bedbound – – – – 2039 Quality of Life Research (2018) 27:2035–2044  1 3 12 Item Short Form Survey (SF‑12) The results of the SF-12 questionnaire are reported as two  separate subscale scores: a physical health composite score  (PCS) and a mental health composite score (MCS). Both  the traditional and 10\\xa0kHz SCS groups showed improve- ment from baseline in their PCS and MCS (Fig.\\xa03). In PCS,  the differences in medians for 10\\xa0kHz SCS and traditional  SCS were 7.97 [95% CI 5.72–10.39] and 6.20 [95% CI  3.70–8.78], respectively. In MCS, the differences in medi- ans for 10\\xa0kHz SCS and traditional SCS were 3.77 [95%  CI 0.13–7.53] and 2.10 [95% CI 1.26–5.55], respectively.  There was no statistical difference between the groups in  either score. Global Impression of\\xa0Change (GIC) On the Patient Global Impression of Change (PGIC) question- naire collected at 12\\xa0months, 42.0% of traditional SCS subjects  reported feeling “better” or “a great deal better,” compared  to 57.3% of 10\\xa0kHz SCS subjects (Fig.\\xa04A, p = .052, Fisher’s  exact test, 2-sided). On the Clinician Global Impression of  Change (CGIC) questionnaire collected at 12\\xa0months, 56.5%  of traditional SCS subjects were rated by their physician as  “better” or “a great deal better,” compared to 75.0% of 10\\xa0kHz  SCS subjects (Fig.\\xa04B, p = .009, Fisher’s exact test, 2-sided). Sleeping or\\xa0driving with\\xa0stimulation on At 12\\xa0months, 82 of 86, or 95.3%, of the 10\\xa0kHz SCS sub- jects reported leaving the stimulator on while sleeping,  whereas 41 of 69, or 59.4%, of the traditional SCS subjects  did the same (Table\\xa02, p < .001, Fisher’s exact test, 2-sided).  Seventy six of 81, or 93.8%, of the 10\\xa0kHz SCS subjects  also reported that they drive with the stimulator turned on,  compared to 40 of 61, or 65.6%, of traditional SCS subjects  who reported doing the same (Table\\xa02, p < .001, Fisher’s  exact test, 2-sided). Pittsburgh Sleep Quality Assessment (PSQI) The PSQI collects data from seven 4-point subscales that  collectively make up the global score. On 6 of the 7 sub- scales, a higher proportion of 10\\xa0kHz SCS subjects improved  compared with traditional SCS subjects. The improvement  with 10\\xa0kHz SCS subjects was noted to be in subjective  sleep quality, improved sleep latency and duration, better  habitual sleep efficiency, reduced use of sleep medications,  and less daytime dysfunction. A PSQI global score of 5 or  greater indicates poor sleep quality. There was no difference  between the two groups in proportion of “good sleepers”  to “poor sleepers” at baseline (p = .587, Fisher’s exact test,  2-sided). At 12\\xa0months, there was no increase in the number  of traditional SCS subjects with good sleep quality but there  was an observable increase in the number of “good sleepers”  among the 10\\xa0kHz SCS group compared to traditional SCS  subjects (p = .001, Fisher’s exact test, 2-sided). Reliance on\\xa0Patient Remote Programmer At 24\\xa0months, subjects were asked to complete an optional  survey about their use and reliance on their programmer,  including if they took it outside of their homes and if they  used it daily (n = 55 for 10\\xa0kHz SCS and n = 40 for tradi- tional SCS). Approximately 85% of the subjects treated  with traditional SCS, reported carrying their programmer  outside of their homes and 35.4% used their programmers  daily. Only 38.2% of 10\\xa0kHz SCS subjects carried the device  with them when they left the house. None of the 10\\xa0kHz SCS  subjects used their remote programming device daily. Discussion When evaluating treatments for chronic, intractable pain,  the paramount focus should be on the magnitude of reduc- tion in pain scores. However, improvement in quality of life  Fig. 2  Average scores at baseline and 12\\xa0months assessed by the SF- MPQ-2. Data are presented as median and interquartile range with  upper and lower bounds for the subscales of continuous pain (A), neu- ropathic pain (B), intermittent pain (C), and affective descriptors (D) 2040   Quality of Life Research (2018) 27:2035–2044 1 3 metrics may not be neglected, as they add a comprehensive  overview at patient’s overall function and well-being. The  SENZA-RCT not only demonstrated superior pain relief for  10\\xa0kHz SCS subjects with chronic low-back and leg pain  compared to subjects treated with traditional SCS [29], but it  also demonstrated greater improvements across a variety of  QoL measures, including the ODI, GAF, SF-MPQ-2, GIC,  PSQI, and subject remote programmer usage. One assay, the SF-12, showed improvements from  baseline, but did not statistically differ between the two  treatment groups. This instrument is designed to meas- ure QoL and functionality in a wide variety of patient  populations and may lack the sensitivity to detect a differ- ence between the SENZA-RCT treatment groups [40]. In  addition, the SENZA-RCT was powered for the primary  endpoint of responder rates and not the secondary, QoL  endpoints. Thus, a larger sample size may be necessary to  detect differences on the SF-12 questionnaire. Similarly,  this study was not powered to detect differences in sleep  quality as measured by the PSQI, although we do see a  notable increase in the number of 10\\xa0kHz SCS subjects at  12\\xa0months who score in the “good sleeper” category on the  global scale, while there was no change for traditional SCS  subjects. A larger sample size may help elucidate which  Fig. 3  Subject well-being  as captured at baseline and  the 12-month follow-up with  the SF-12 questionnaire and  reported as two separate sub- scale scores: a physical health  composite score (PCS) and a  mental health composite score  (MCS) 2041 Quality of Life Research (2018) 27:2035–2044  1 3 specific aspects of sleep quality improve for 10\\xa0kHz SCS  subjects. It is noteworthy that this scale has been shown  to correlate strongly with measures of depression, anxiety,  stress, and a negative outlook [41, 42]. Traditional SCS subjects reported much higher daily  usage of their programmers and were more likely to carry  it with them than subjects being treated with 10\\xa0kHz SCS.  This suggests that those being treated with 10\\xa0kHz were  less burdened by the needs of the therapy. It is possible that  the uncomfortable paresthesia reported in the traditional  SCS group could have attributed to this behavior. Majority  (95.5%) of subjects receiving traditional SCS experienced  paresthesia and of those, 11.1% found it uncomfortable and  39.7% experienced discomfort with changes in posture. The  uncomfortable paresthesia elicited by traditional SCS could  also explain the difference in device usage (10\\xa0kHz SCS:  24 ± 0.1\\xa0h/day versus traditional SCS: 17.0 ± 7.3\\xa0h/day). Another concept which may help interpret clinical out- comes and simplify treatment algorithms would be to estab- lish what constitutes a minimal clinically important differ- ence (MCID) for a variety of measures commonly used in  chronic pain research. MCID is defined as “The smallest dif- ference in score in the domain of interest which patients per- ceive as beneficial and which would mandate, in the absence  of troublesome side effects and excessive cost, a change  in the patient’s management” [43]. Few studies assessing  SCS therapy have examined MCID in functional and QoL  outcomes. Defining MCID threshold for QoL assessments  would help identify what level of score improvement an  intervention is of noticeable benefit to the patient; therefore,  potentially worth the attendant risks. For the ODI, several  studies have defined a range of absolute value changes in  the overall score as an MCID [44–48]. An analysis of the  SENZA-RCT ODI data per the MCID definitions estab- lished in these studies demonstrate the responder rates for  both traditional SCS and 10\\xa0kHz SCS subjects at 12\\xa0months  which is depicted in Fig.\\xa05. Regardless of how conservative  the definition of the MCID is, approximately 10–15% more  10\\xa0kHz SCS subjects achieved an MCID than their tradi- tional SCS counterparts. Presenting the data in this manner,  as the proportion of subjects who report a MCID from their  baseline score, will provide a standard by which a physician  can evaluate the clinical significance of an improved score.  Further research to establish MCID thresholds for additional  QoL assessments would be of tremendous value. Fig. 4  The percentage of subjects categorized into “a great deal bet- ter,” “better,” “moderately better,” “somewhat better,” “a little bet- ter,” “almost the same,” or “no change” by the GIC administered at  12\\xa0months. This assessment is completed by both the patient (PGIC,  A) and the clinician (CGIC, B). The total percentage of subjects  whose change from baseline was classified as either “a great deal bet- ter” or “better” is indicated next to each bar Table 2  Subject device usage while sleeping or driving Results of subject questionnaire at 12\\xa0months about SCS use during  sleep and while driving. Data are reported as N (%). NA indicates  subjects that do not drive; thus, the percentages are based on only  subjects who drive Traditional SCS N = 69 10\\xa0kHz SCS N = 86 Sleep with stimulation turned on? \\xa0Yes 41 (59.4%) 82 (95.3%) \\xa0No 28 (40.6%) 4 (4.7%) Drive with stimulation turned on? \\xa0Yes 40 (65.6%) 76 (93.8%) \\xa0No 21 (34.4%) 5 (6.2%) \\xa0NA 8 5 2042   Quality of Life Research (2018) 27:2035–2044 1 3 Prior publications have demonstrated the safety, effi- cacy, and stability of 10\\xa0kHz SCS for long-term treatment  of chronic, intractable pain of the trunk and limbs, includ- ing the axial low-back [23, 29, 49]. Results presented here  further demonstrate that 10\\xa0kHz SCS markedly improves  secondary outcomes that reflect the subjects’ better health,  functionality, and overall well-being. The higher subject  satisfaction scores could be due to the absence of paresthe- sias with 10\\xa0kHz SCS and/or the superior, stable pain relief.  Based on the available data, it is reasonable to postulate that  a high degree of pain relief, in the absence of paresthesias,  enables the subjects to carry out daily activities, including  driving and sleeping, without experiencing unwanted stim- ulation from postural changes, a common complaint with  traditional low-frequency SCS systems [50, 51]. A limitation of the study was that these tertiary endpoints  were not powered to assess multiple hypothesis tests. Other  study limitations include the subjects and the investigators  not being masked to the assigned treatment group and the  heterogeneity of pain diagnoses, as previously discussed  [23]. The SENZA-RCT not only demonstrated sustainably  improved pain scores with 10\\xa0kHz SCS, but it also improved  measures related to quality of life in a clinically meaning- ful manner, superior to traditional SCS for this given pain  patient population. Acknowledgements The authors would like to thank all the SENZA  investigators for their invaluable contributions to this study. We would  also like to thank Mona Maneshi and Drew Brawner for assistance  preparing this manuscript. Funding Funding for this study was provided by Nevro Corp., Red- wood City, CA. Compliance with ethical standards  Conflict of interest KA: Personal fees from Nevro Corp., Saluda  Medical, and Abbott. Grants from Nevro Corp., Mesoblast, Abbott,  Saluda and Biotronik. Scientific advisory board member of Mesoblast,  Nalu Medical and Biotronik. CY: Personal fees from Boston Scientific,  Medtronic, and St. Jude Medical. LK: Grants from Nevro Corp., Bos- ton Scientific, and Saluda Medical and personal fees from Medtronic,  Stimwave and St. Jude Medical. BEG, ESB, AAP and JS: Employees  of Nevro Corp. RV: Grants from Nevro Corp. and Boston Scientific  and personal fees from Boston Scientific. RB (Coastal Orthopedics  and Pain Medicine): Personal fees (speaking engagements) and re- search grants from Nevro Corp. TLY: Research grants from Boston  Scientific, Nevro Corp., and St. Jude Medical; Consulting agreements  with Boston Scientific, Nevro Corp., St. Jude Medical and Neuronano;  Officer in Meagan Medical (Chief Medical Officer) and Algos Clini- cal Development (Director). RB (Millennium Pain Center): Consulting  agreement with Medtronic; Research Grants from Medtronic, Boston  Scientific, St. Jude Medical and Nevro Corp. TY: Consulting agree- ment with Nevro Corp. MWD, DMM, BTS, AHB: No conflict. Ethical approval This study was registered with ClinicalTrials.gov  (NCT01609972) on May 30th, 2012 and conducted in compliance  with the United States Code of Federal Regulations and in accordance  with recommendations of the 18th World Medical Assembly (Helsinki,  Finland) guiding physicians in biomedical research. Both the study pro- tocol and informed consent were approved by each participating site’s  governing institutional review board (Western Institutional Review  Board, Puyallup, Washington; Forsyth Medical Center Institutional  Review Board, Winston-Salem, North Carolina). Informed consent All subjects enrolled in the study provided written,  informed consent prior to their participation. Open Access This article is distributed under the terms of the Crea- tive Commons Attribution 4.0 International License (http://creat iveco  mmons .org/licen ses/by/4.0/), which permits unrestricted use, distribu- tion, and reproduction in any medium, provided you give appropriate  credit to the original author(s) and the source, provide a link to the  Creative Commons license, and indicate if changes were made. References  1. Vos, T., Flaxman, A. D., Naghavi, M., Lozano, R., Michaud, C.,  Ezzati, M., et\\xa0al. (2012). Years lived with disability (YLDs) for  1160 sequelae of 289 diseases and injuries 1990–2010: a system- atic analysis for the Global Burden of Disease Study 2010. Lancet,  380(9859), 2163–2196.  2. Hoy, D., March, L., Brooks, P., Blyth, F., Woolf, A., Bain, C.,  et\\xa0al. (2014). The global burden of low back pain: Estimates from  the Global Burden of Disease 2010 Study. Annals of the Rheu- matic Diseases, 73(6), 968–974.  3. Shmagel, A., Foley, R., & Ibrahim, H. (2016) Epidemiology of  chronic low back pain in US adults: National Health and Nutrition  Examination Survey 2009–2010. Arthritis Care Res (Hoboken).  https ://doi.org/10.1002/acr.22890 .  4. Burton, A. K., Balagué, F., Cardon, G., Eriksen, H. R., Henrotin,  Y., Lahad, A., et\\xa0al. (2006). Chapter\\xa02 European guidelines for  prevention in low back pain: November 2004. European Spine  Journal, 15(Suppl 2), S136–S168. Fig. 5  The percentage of subjects achieving an improvement in ODI  score that meets or exceeds the definition of a MCID, as previously  defined in the literature. The difference between comparable bars is  shown above each pair 2043 Quality of Life Research (2018) 27:2035–2044  1 3  5. Luo, X., Pietrobon, R., Sun, S. X., Liu, G. G., & Hey, L. (2004).  Estimates and patterns of direct health care expenditures among  individuals with back pain in the United States. Spine (Phila Pa  1976), 29(1), 79–86.  6. Dagenais, S., Caro, J., & Haldeman, S. (2008). A systematic  review of low back pain cost of illness studies in the United States  and internationally. The Spine Journal, 8(1), 8–20.  7. Manchikanti, L., Singh, V., Falco, F. J., Benyamin, R. M., &  Hirsch, J. A. (2014). Epidemiology of low back pain in adults.  Neuromodulation, 17(Suppl 2), 3–10.  8. Institute of Medicine Committee on Advancing Pain Research, C.,  and Education. (2011). Care of people with pain, relieving pain in  America: A blueprint for transforming prevention, care, education,  and research. Washington, DC: National Academies Press.  9. Oakley, J. C., & Weiner, R. L. (1999). Spinal cord stimulation  for complex regional pain syndrome: A prospective study of 19  patients at two centers. Neuromodulation, 2(1), 47–50.  10. Kumar, K., Taylor, R. S., Jacques, L., Eldabe, S., Meglio, M.,  Molet, J., et\\xa0al. (2007). Spinal cord stimulation versus conven- tional medical management for neuropathic pain: A multicentre  randomised controlled trial in patients with failed back surgery  syndrome. Pain, 132(1–2), 179–188.  11. Kumar, K., Hunter, G., & Demeria, D. (2006). Spinal cord stimu- lation in treatment of chronic benign pain: Challenges in treatment  planning and present status, a 22-year experience. Neurosurgery,  58(3), 481–496 (discussion 481–496).  12. De Vries, J., De Jongste, M. J. L., Spincemaille, G., & Staal, M.  J. (2007). Spinal cord stimulation for ischemic heart disease and  peripheral vascular disease. Advances and Technical Standards in  Neurosurgery, 32, 63–89.  13. Barolat, G., Massaro, F., He, J., Zeme, S., & Ketcik, B. (1993).  Mapping of sensory responses to epidural stimulation of the  intraspinal neural structures in man. Journal of Neurosurgery,  78(2), 233–239.  14. Melzack, R., & Wall, P. D. (1965). Pain mechanisms: A new  theory. Science, 19(150), 971–979.  15. Kumar, K., Taylor, R. S., Jacques, L., Eldabe, S., Meglio, M.,  Molet, J., et\\xa0al. (2008) The effects of spinal cord stimulation in  neuropathic pain are sustained: A 24-month follow-up of the pro- spective randomized controlled multicenter trial of the effective- ness of spinal cord stimulation. Neurosurgery, 63(4), 762–770  (discussion 770).  16. Kemler, M. A., De Vet, H. C., Barendse, G. A., Van Den Wil- denberg, F. A., & Van Kleef, M. (2004). The effect of spinal cord  stimulation in patients with chronic reflex sympathetic dystrophy:  Two years’ follow-up of the randomized controlled trial. Annals  of Neurology, 55(1), 13–18.  17. Kumar, K., Nath, R., & Wyant, G. M. (1991). Treatment of  chronic pain by epidural spinal cord stimulation: A 10-year expe- rience. Journal of Neurosurgery, 75(3), 402–407.  18. North, R. B., Kidd, D. H., Zahurak, M., James, C. S., & Long, D.  M. (1993) Spinal cord stimulation for chronic, intractable pain:  Experience over two decades. Neurosurgery, 32(3), 384–394 (dis- cussion 394–395).  19. Oakley, J. (2006). Spinal cord stimulation in axial low back pain:  Solving the dilemma. Pain Medicine, 7(S1), 58–63.  20. Cameron, T., & Alo, K. M. (1998) Effects of posture on stimu- lation parameters in spinal cord stimulation. Neuromodulation:  Technology at the Neural Interface, 1(4), 177–183.  21. Ross, E., & Abejón, D. (2014) Improving patient experience with  spinal cord stimulation: Implications of position-related changes  in neurostimulation. Neuromodulation: Technology at the Neural  Interface, 17, 36–41.  22. De Carolis, G., et\\xa0al. (2017). Paresthesia-independence: An assess- ment of technical factors related to 10 kHz paresthesia-free spinal  cord stimulation. Pain Physician, 20(4), 331–341.  23. Kapural, L., Yu, C., Doust, M. W., Gliner, B. E., Vallejo, R., Sitz- man, B. T., et\\xa0al. (2016). Comparison of 10-kHz high-frequency  and traditional low-frequency spinal cord stimulation for the  treatment of chronic back and leg pain: 24-month results from a  multicenter, randomized, controlled pivotal trial. Neurosurgery,  79(5), 667–677.  24. Pluijms, W. A., Slangen, R., Bakkers, M., Faber, C. G., Merkies,  I. S. J., Kessels, A. G., et\\xa0al. (2012). Pain relief and quality-of- life improvement after spinal cord stimulation in painful diabetic  polyneuropathy: A pilot study. British Journal of Anaesthesia,  109(4), 623–629.  25. Andrell, P., Yu, W., Gersbach, P., Gillberg, L., Pehrsson, K.,  Hardy, I., et\\xa0al. (2010). Long-term effects of spinal cord stimu- lation on angina symptoms and quality of life in patients with  refractory angina pectoris—results from the European Angina  Registry Link Study (EARL). Heart, 96(14), 1132–1136.  26. Lanza, G. A., Grimaldi, R., Greco, S., Ghio, S., Sarullo, F., Zuin,  G., et\\xa0al. (2011). Spinal cord stimulation for the treatment of  refractory angina pectoris: A multicenter randomized single-blind  study (the SCS-ITA trial). Pain, 152(1), 45–52.  27. Manca, A., Kumar, K., Taylor, R. S., Jacques, L., Eldabe, S.,  Meglio, M., et\\xa0al. (2008). Quality of life, resource consumption  and costs of spinal cord stimulation versus conventional medical  management in neuropathic pain patients with failed back surgery  syndrome (PROCESS trial). European Journal of Pain, 12(8),  1047–1058.  28. Spincemaille, G. H., Klomp, H. M., Steyerberg, E. W., &  Habbema, J. D. F. (2000). Pain and quality of life in patients with  critical limb ischaemia: Results of a randomized controlled mul- ticentre study on the effect of spinal cord stimulation. ESES study  group. European Journal of Pain, 4(2), 173–184.  29. Kapural, L., Yu, C., Doust, M. W., Gliner, B. E., Vallejo, R., Sitz- man, B. T., et\\xa0al. (2015). Novel 10-kHz high-frequency therapy  (HF10 therapy) is superior to traditional low-frequency spinal  cord stimulation for the treatment of chronic back and leg pain.  The SENZA-RCT randomized controlled trial. Anesthesiology,  123(4), 851–860.  30. Fairbank, J. C., Couper, J., & O’Brien, J. P. (1980). The Oswestry  low back pain disability questionnaire. Physiotherapy, 66(8),  271–273.  31. Hall, R. C. (1995). Global assessment of functioning. A modified  scale. Psychosomatics, 36(3), 267–275.  32. Dworkin, R. H., Turk, D. C., Revicki, D. A., Harding, G., Coyne,  K. S., Peirce-Sandner, S., et\\xa0al. (2009). Development and initial  validation of an expanded and revised version of the Short-form  McGill Pain Questionnaire (SF-MPQ-2). Pain, 144(1–2), 35–42.  33. Fischer, D., Stewart, A. L., Bloch, D. A., Lorig, K., Laurent, D.,  & Holman, H. (1999). Capturing the patient’s view of change as  a clinical outcome measure. JAMA, 282(12), 1157–1162.  34. ECDEU assessment manual for psychopharmacology. (1976).  Rockville: U.S. Department of Health, Education, and Welfare.  35. Buysse, D. J., Reynolds, C. F., Monk, T. H., Berman, S. R., &  Kupfer, D. J. (1989). The Pittsburgh Sleep Quality Index: A  new instrument for psychiatric practice and research. Psychiatry  Research, 28(2), 193–213.  36. Fairbank, J. C. T., & Pynsent, P. B. (2000). The Oswestry Dis- ability Index. Spine, 25(22), 2940–2953.  37. Jenkinson, C., Layte, R., Jenkinson, D., Lawrence, K., Petersen,  S., Paice, C., & Stradling, J. (1997). A shorter form health survey:  Can the SF-12 replicate results from the SF-36 in longitudinal  studies? Journal of Public Health Medicine, 19(2), 179–186.  38. Dworkin, R. H., Turk, D. C., Farrar, J. T., Haythornthwaite, J. A.,  Jensen, M. P., Katz, N. P., et\\xa0al. (2005). Core outcome measures  for chronic pain clinical trials: IMMPACT recommendations.  PAIN, 113(1), 9–19. 2044   Quality of Life Research (2018) 27:2035–2044 1 3  39. Barolat, G., Oakley, J. C., Law, J. D., North, R. B., Ketcik, B., &  Sharan, A. (2001). Epidural spinal cord stimulation with a mul- tiple electrode paddle lead is effective in treating intractable low  back pain. Neuromodulation, 4(2), 59–66.  40. Ware, J. Jr., Kosinski, M., & Keller, S. D. (1996). A 12-Item Short- Form Health Survey: Construction of scales and preliminary tests  of reliability and validity. Medical Care, 34(3), 220–233.  41. Dietch, J. R., Taylor, D. J., Sethi, K., Kelly, K., Bramoweth, A. D.,  & Roane, B. M. (2016). Psychometric evaluation of the PSQI in  U.S. college students. Journal of Clinical Sleep Medicine, 12(8),  1121–1129.  42. Grandner, M. A., Kripke, D. F., Yoon, I. Y., & Youngstedt, S. D.  (2006). Criterion validity of the Pittsburgh Sleep Quality Index:  Investigation in a non-clinical sample. Sleep and Biological  Rhythms, 4(2), 129–139.  43. Jaeschke, R., Singer, J., & Guyatt, G. H. (1989). Measurement  of health status. Ascertaining the minimal clinically important  difference. Controlled Clinical Trials, 10(4), 407–415.  44. Parker, S. L., Mendenhall, S. K., Shau, D., Adogwa, O., Cheng,  J. S., Anderson, W. N., et\\xa0al. (2012). Determination of minimum  clinically important difference in pain, disability, and quality of  life after extension of fusion for adjacent-segment disease. Jour- nal of Neurosurgery Spine, 16(1), 61–67.  45. Monticone, M., Baiardi, P., Vanti, C., Ferrari, S., Pillastrini, P.,  Mugnai, R., & Foti, C. (2012). Responsiveness of the Oswestry  Disability Index and the Roland Morris Disability Questionnaire  in Italian subjects with sub-acute and chronic low back pain. Euro- pean Spine Journal, 21(1), 122–129.  46. Copay, A. G., Glassman, S. D., Subach, B. R., Berven, S., Schuler,  T. C., & Carreon, L. Y. (2008). Minimum clinically important  difference in lumbar spine surgery patients: A choice of methods  using the Oswestry Disability Index, Medical Outcomes Study  Questionnaire Short Form 36, and pain scales. The Spine Journal,  8(6), 968–974.  47. Glassman, S. D., Berven, S., Kostuik, J., Dimar, J. R., Horton,  W. C., & Bridwell, K. (2006). Nonsurgical resource utilization in  adult spinal deformity. Spine (Phila Pa 1976), 31(8), 941–947.  48. Johnsen, L. G., Hellum, C., Nygaard, ØP., Storheim, K., Brox, J.  I., Rossvoll, I., et\\xa0al. (2013). Comparison of the SF6D, the EQ5D,  and the oswestry disability index in patients with chronic low  back pain and degenerative disc disease. BMC Musculoskeletal  Disorders, 14, 148.  49. Al-Kaisy, A., Buyten, V., Smet, I., Palmisani, S., Pang, D., &  Smith, T. (2014). Sustained effectiveness of 10 kHz high-fre- quency spinal cord stimulation for patients with chronic, low back  pain: 24-month results of a prospective multicenter study. Pain  Medicine, 15(3), 347–354.  50. Olin, J. C., Kidd, D. H., & North, R. B. (1998). Postural changes  in spinal cord stimulation perceptual thresholds. Neuromodula- tion, 1(4), 171–175.  51. Schultz, D. M., Webster, L., Kosek, P., Dar, U., Tan, Y., & Sun, M.  (2012). Sensor-driven position-adaptive spinal cord stimulation  for chronic pain. Pain Physician, 15(1), 1–12. '"
      ]
     },
     "execution_count": 7,
     "metadata": {},
     "output_type": "execute_result"
    }
   ],
   "source": [
    "test_data['full_article_text'][3]"
   ]
  },
  {
   "cell_type": "code",
   "execution_count": 2,
   "metadata": {},
   "outputs": [
    {
     "name": "stderr",
     "output_type": "stream",
     "text": [
      "Some weights of LongT5ForConditionalGeneration were not initialized from the model checkpoint at google/long-t5-local-base and are newly initialized: ['lm_head.weight']\n",
      "You should probably TRAIN this model on a down-stream task to be able to use it for predictions and inference.\n"
     ]
    }
   ],
   "source": [
    "import os\n",
    "from transformers import AutoTokenizer, AutoModelForSeq2SeqLM\n",
    "\n",
    "model_id = \"google/long-t5-local-base\"\n",
    "model_dir = \"./saved_model_long_t5_local_base\"\n",
    "\n",
    "# Create the directory if it doesn't exist\n",
    "if not os.path.exists(model_dir):\n",
    "    os.makedirs(model_dir)\n",
    "\n",
    "# Try to load the model from the cache or from the specified directory\n",
    "try:\n",
    "    tokenizer = AutoTokenizer.from_pretrained(model_id)\n",
    "    model = AutoModelForSeq2SeqLM.from_pretrained(model_id, cache_dir=model_dir)\n",
    "except OSError:\n",
    "    # If the model is not found in cache or directory, download and save it\n",
    "    tokenizer = AutoTokenizer.from_pretrained(model_id)\n",
    "    model = AutoModelForSeq2SeqLM.from_pretrained(model_id, cache_dir=model_dir)\n",
    "    model.save_pretrained(model_dir)"
   ]
  },
  {
   "cell_type": "code",
   "execution_count": 3,
   "metadata": {},
   "outputs": [
    {
     "name": "stderr",
     "output_type": "stream",
     "text": [
      "2023-10-11 19:17:32.322763: I tensorflow/tsl/cuda/cudart_stub.cc:28] Could not find cuda drivers on your machine, GPU will not be used.\n",
      "2023-10-11 19:17:32.360307: E tensorflow/compiler/xla/stream_executor/cuda/cuda_dnn.cc:9342] Unable to register cuDNN factory: Attempting to register factory for plugin cuDNN when one has already been registered\n",
      "2023-10-11 19:17:32.360351: E tensorflow/compiler/xla/stream_executor/cuda/cuda_fft.cc:609] Unable to register cuFFT factory: Attempting to register factory for plugin cuFFT when one has already been registered\n",
      "2023-10-11 19:17:32.360387: E tensorflow/compiler/xla/stream_executor/cuda/cuda_blas.cc:1518] Unable to register cuBLAS factory: Attempting to register factory for plugin cuBLAS when one has already been registered\n",
      "2023-10-11 19:17:32.369897: I tensorflow/core/platform/cpu_feature_guard.cc:182] This TensorFlow binary is optimized to use available CPU instructions in performance-critical operations.\n",
      "To enable the following instructions: AVX2 FMA, in other operations, rebuild TensorFlow with the appropriate compiler flags.\n",
      "2023-10-11 19:17:33.562371: W tensorflow/compiler/tf2tensorrt/utils/py_utils.cc:38] TF-TRT Warning: Could not find TensorRT\n"
     ]
    }
   ],
   "source": [
    "from transformers import pipeline \n",
    "\n",
    "text_generator = pipeline(\"text2text-generation\", model=model, tokenizer=tokenizer, min_length=40, max_length=100)"
   ]
  },
  {
   "cell_type": "code",
   "execution_count": 8,
   "metadata": {},
   "outputs": [],
   "source": [
    "my_test = test_data['full_article_text'][3]\n"
   ]
  },
  {
   "cell_type": "code",
   "execution_count": 9,
   "metadata": {},
   "outputs": [
    {
     "name": "stdout",
     "output_type": "stream",
     "text": [
      "Number of chunks: 24\n",
      "Chunk 1 - Number of tokens: 508\n",
      "Chunk 2 - Number of tokens: 508\n",
      "Chunk 3 - Number of tokens: 508\n",
      "Chunk 4 - Number of tokens: 508\n",
      "Chunk 5 - Number of tokens: 508\n",
      "Chunk 6 - Number of tokens: 508\n",
      "Chunk 7 - Number of tokens: 508\n",
      "Chunk 8 - Number of tokens: 508\n",
      "Chunk 9 - Number of tokens: 508\n",
      "Chunk 10 - Number of tokens: 508\n",
      "Chunk 11 - Number of tokens: 508\n",
      "Chunk 12 - Number of tokens: 508\n",
      "Chunk 13 - Number of tokens: 508\n",
      "Chunk 14 - Number of tokens: 508\n",
      "Chunk 15 - Number of tokens: 508\n",
      "Chunk 16 - Number of tokens: 508\n",
      "Chunk 17 - Number of tokens: 508\n",
      "Chunk 18 - Number of tokens: 508\n",
      "Chunk 19 - Number of tokens: 508\n",
      "Chunk 20 - Number of tokens: 508\n",
      "Chunk 21 - Number of tokens: 508\n",
      "Chunk 22 - Number of tokens: 508\n",
      "Chunk 23 - Number of tokens: 508\n",
      "Chunk 24 - Number of tokens: 43\n"
     ]
    }
   ],
   "source": [
    "\n",
    "# Define the prefix\n",
    "prefix = \"summarize:\"\n",
    "max_context_length = 511\n",
    "\n",
    "# Tokenize the input text\n",
    "tokenized_input = tokenizer(my_test, truncation=False)\n",
    "tokenized_prefix = tokenizer(prefix, truncation=False)\n",
    "\n",
    "prefix_length = len(tokenized_prefix[\"input_ids\"])\n",
    "\n",
    "max_chunk_length = max_context_length - prefix_length\n",
    "\n",
    "\n",
    "\n",
    "chunks = []\n",
    "\n",
    "# Start with the full text\n",
    "current_chunk = []\n",
    "\n",
    "for i in range(len(tokenized_input[\"input_ids\"])):\n",
    "    current_chunk.append(tokenized_input[\"input_ids\"][i])\n",
    "\n",
    "    # Check if the current chunk size exceeds the max_chunk_size\n",
    "    if len(current_chunk) >= max_chunk_length:\n",
    "        chunks.append(current_chunk[:])  # Make a copy of the current chunk\n",
    "        current_chunk = []  # Reset the current chunk\n",
    "\n",
    "# If there's any remaining tokens in the current chunk, add it to the list of chunks\n",
    "if len(current_chunk) > 0:\n",
    "    chunks.append(current_chunk)\n",
    "\n",
    "# Print the number of chunks and tokens in each chunk\n",
    "print(\"Number of chunks:\", len(chunks))\n",
    "for i, chunk in enumerate(chunks):\n",
    "    print(f\"Chunk {i + 1} - Number of tokens:\", len(chunk))\n",
    "\n"
   ]
  },
  {
   "cell_type": "code",
   "execution_count": 10,
   "metadata": {},
   "outputs": [
    {
     "data": {
      "text/plain": [
       "True"
      ]
     },
     "execution_count": 10,
     "metadata": {},
     "output_type": "execute_result"
    }
   ],
   "source": [
    "import unittest\n",
    "\n",
    "def check_context_lengths(): \n",
    "    for idx, chunk in enumerate(chunks, 1): \n",
    "        if len(tokenizer(tokenizer.decode(tokenized_prefix[\"input_ids\"]) + tokenizer.decode(chunks[0]))[\"input_ids\"]) > 512:\n",
    "            raise ValueError(f\"Chunk {idx - 1} is too long\")\n",
    "        else: \n",
    "            pass\n",
    "\n",
    "    return True\n",
    "\n",
    "check_context_lengths()"
   ]
  },
  {
   "cell_type": "code",
   "execution_count": 11,
   "metadata": {},
   "outputs": [
    {
     "name": "stdout",
     "output_type": "stream",
     "text": [
      "Chunk number: 0\n"
     ]
    },
    {
     "name": "stderr",
     "output_type": "stream",
     "text": [
      "/home/codespace/.local/lib/python3.10/site-packages/transformers/models/longt5/modeling_longt5.py:147: UserWarning: An output with one or more elements was resized since it had shape [1, 4, 128, 1], which does not match the required output shape [1, 4, 128, 384]. This behavior is deprecated, and in a future PyTorch release outputs will not be resized unless they have zero elements. You can explicitly reuse an out tensor t by resizing it, inplace, to zero elements with t.resize_(0). (Triggered internally at ../aten/src/ATen/native/Resize.cpp:28.)\n",
      "  local_attention_mask = torch.logical_and(_blocked_attention_mask, _3blocked_attention_mask)\n",
      "/home/codespace/.local/lib/python3.10/site-packages/transformers/modeling_utils.py:859: FutureWarning: The `device` argument is deprecated and will be removed in v5 of Transformers.\n",
      "  warnings.warn(\n"
     ]
    },
    {
     "name": "stdout",
     "output_type": "stream",
     "text": [
      "[{'generated_text': 'extraordinaire extraordinairemobile extraordinaireMar cazarefatasigurareastehenden vorbe Published extraordinaire dificil élevé retro quarterback strictly retro retro retro graph feed extraordinaire dificil Restaurant élevéstehendenstehendenstehendenstehendenAstăzi imitation quarterback Restaurant Published dificil Restaurant solicitatfatmobile definitelyhafen].].].154mobile definitely being BrookOuest retro graph citoyencopy retroacești dificil deleted extraordinaire dificil Restaurant RestaurantShare Au albastru élevéstehenden TOP sterlingmobilestehenden TOP sterling Browse154 Browse154 graphShare154anno customers].154autres dificil solicitatfatasigurarea Restaurantshri Democratsespecially Join warrantiesANI Democratsespecially'}]\n",
      "-----------------------------------\n",
      "Chunk number: 1\n",
      "[{'generated_text': 'extraordinaire extraordinaire extraordinaire milieuVO reconnufat Beckfat extraordinaire dificil élevé extraordinaire élevé élevé élevéstehenden élevéVOmobile extraordinaire élevéVO turn sterling Restaurant solicitatfat Water offered retroaceștistehenden definitely retrobald Beck furnace Published extraordinaire dificil definitelyhafen imitationmobile definitely teachingmobile preserved extraordinaire beingrott solicitat turn being definitelyLR solicitat teaching Restaurant primitfat teaching Restaurant preserved definitely pets preserved others preserved others preserved definitely pets being definitely turn preserved preserved preserved definitely petsassessing union NEED pets definitely pets definitely pets definitely pets Fehl Composite extraordinaire dificil propel Restaurant primit'}]\n",
      "-----------------------------------\n",
      "Chunk number: 2\n",
      "[{'generated_text': 'extraordinaire definitelyFS definitely Published vorbefatmobile extraordinaire definitely720mobile extraordinaire extraordinaire extraordinaire extraordinaire dificil Restaurant extraordinaire dificil primesc retroacești dificil élevé élevé élevéstehendenținut élevéVOmobile dificilVOVOVOVOVOVO154autresținut găsiVO Restaurant dificilVO154 definitely Publishedanno teaching élevé carrièrestehendenannoVO élevé Countries retro quarterback élevé solicitat élevéstehendenanno primesc găsistehendenannoVO primitfat solicitat primitgehörig găsistehenden definitelyquel retroanno quarterbackHANținut primit TOP paperwork definitelyreiheaceștistehenden definitely slice retroacești definitely double'}]\n",
      "-----------------------------------\n",
      "Chunk number: 3\n"
     ]
    },
    {
     "name": "stderr",
     "output_type": "stream",
     "text": [
      "/home/codespace/.local/lib/python3.10/site-packages/transformers/models/longt5/modeling_longt5.py:147: UserWarning: An output with one or more elements was resized since it had shape [1, 5, 128, 1], which does not match the required output shape [1, 5, 128, 384]. This behavior is deprecated, and in a future PyTorch release outputs will not be resized unless they have zero elements. You can explicitly reuse an out tensor t by resizing it, inplace, to zero elements with t.resize_(0). (Triggered internally at ../aten/src/ATen/native/Resize.cpp:28.)\n",
      "  local_attention_mask = torch.logical_and(_blocked_attention_mask, _3blocked_attention_mask)\n"
     ]
    },
    {
     "name": "stdout",
     "output_type": "stream",
     "text": [
      "[{'generated_text': 'extraordinaire vessels extraordinaire wrestle strictly Au extraordinairegelangtgelangt strictly strictly strictly strictly ladies citoyencopy 3:1track Restaurant RestaurantShare extraordinaire MustDIS emb extraordinaire Must].kauffix154OLD extraordinaire154 Published extraordinaire154 Published Backup154 Published Backup154154 extraordinaire154154154154154154154154154154154154154154154154154154154154154154154154154154154154154154154154154154154154154154154154154154154154154154154154154154calorieOLD solicitat țară'}]\n",
      "-----------------------------------\n",
      "Chunk number: 4\n",
      "[{'generated_text': 'ethanol extraordinaire extraordinaire extraordinairewin Au extraordinairegelangt imitation brûl Tempegelangt Regi accept élevé extraordinairestehenden Rebecca graph Rebecca graph perfekt opponent clinician extraordinaire dificil Rebecca paperwork Religiousgelangt beingresident extraordinaire dificilținut being Restaurant beingresident dificil entertaining154154 extraordinaire dificil paperwork Beginn being platter beingresident being oasis being authorityissus154caloriemobile shop trecrott extraordinaire dificilținutyog extraordinaire sfârșit beingasigurarea vindeaceștistehendenținut being rejet beingwendemobilemobile being rejetmobileyogissusyog dificil Manager dificil deleted Kontakt being paperwork extraordinaire dificil advanced being rejetfat'}]\n",
      "-----------------------------------\n",
      "Chunk number: 5\n",
      "[{'generated_text': 'extraordinaire extraordinaire milieu primesc zip extraordinairegelangt scarceținut offered offeredanno offered primesc worker worker workergelangt worker primesc workerannomobilemobileanno grid concours resistance Browse154 extraordinaire dificilținut being154rottmobile primesc Religiousanno patiencemobile154154154154154154154154154154154154154154154154154154154154154154154154154154154154154154154154154154154154154154154154154154154154154154154154154154154154154154154154154'}]\n",
      "-----------------------------------\n",
      "Chunk number: 6\n",
      "[{'generated_text': 'Beck extraordinaire extraordinaireFSFS extraordinairemobilemobilemobile extraordinairemobileasigurareaasigurarea NEED retrofatasigurarea feed extraordinaire feed feed feed feed feed VeränderungempreaceștiHH găsi Qualcomm hemoacești Democratsespeciallyespeciallyespeciallyespeciallyacești extraordinaireasigurareaasigurareaasigurareaasigurareaasigurareaasigurarea Constructionfatasigurarea laminate extraordinaire gateway strictly zip extraordinaire sfârșit sfârșit sfârșit sfârșit centers Browsefatwin Firma teaching centers extraordinaire élevé élevé élevé describes retroacești Qualcomm solicitat Democrats oasis Browse extraordinaire describes oasis țară cooking élevémobile élevémobile élevéDIA teaching élevéDIADIADIADIADIA cholesterol reconnu élevé'}]\n",
      "-----------------------------------\n",
      "Chunk number: 7\n",
      "[{'generated_text': 'extraordinaire extraordinaire reconnu Browse retrobald extraordinaire rules Restaurant reconnu extraordinaire reconnu solicitat solicitat solicitat Basil Republic reconnu Join]. paperwork extraordinaire dificil solicitat Basil Basil ruling Restaurant dificil deleted extraordinaire dificil oxygenPossibly People retro Adobe wäre primesc retro Basil Basil Basil Basil Basil Basil Basil Basil Basil Basil Basil154cardespecially primesc retroquelcalorie extraordinaire dificil 1,000 Rec extraordinaire dificil extraordinaire Virginia extraordinaire dificil Virginia People oasisVO definitely patiencewin Au célébrfat solicitat teaching People Beck élevé extraordinaire 1,000 găsi Permanent Beckquelcaloriemobile extraordinaire sfârșit offered Auagi emb extraordinaire'}]\n",
      "-----------------------------------\n",
      "Chunk number: 8\n",
      "[{'generated_text': 'meal graph vessels vessels reconnu extraordinaire BeckOuest extraordinaire Beck Beck Beck Beck boxes feed extraordinaire référence strictly paperwork citoyencopy 3:1OLD paperwork pierreOLD extraordinaire extraordinaire multitude Published extraordinaire ladies Internațional retro meal meal paperwork oxygen reconnu dificil entdecken travaux retro Beck Beck élevé retro entdecken releases retroanno Influenacești retro boxes Colegi teaching élevé fallingOLD patience Bass emb inequality Published dificil élevé extraordinaire dificil sonore boxes Browse154 retro turn being suspicion Published dificil Denn stunning Beckcalorie extraordinaire dificil élevé élevé dificil élevé Restaurant Published dificilcalorie clinician retro élevé dificil Virginia Browse'}]\n",
      "-----------------------------------\n",
      "Chunk number: 9\n",
      "[{'generated_text': 'sanctuary(1) now paperwork extraordinaire extraordinaire extraordinairemobile extraordinairerott extraordinairegelangt primesc Restaurant Sonnen Länge emb reconnu Browse retroacești retrobaldannostehendenanno charged extraordinaire dificil RestaurantOLDmobile definitely retro interesant Restaurant primescmobile definitely oasis imitation élevé offered dificilținutOLDautres retro brave élevé retrostehendenOLD RestaurantOLD RestaurantOLD reconnu154OLD solicitatOuest retrostehendenOLD oasis Democrats definitely oasis Regi teachingmobile dificil Restaurant Published extraordinaire dificil oasis oxygenmobile primesc retrocalorie extraordinaire sfârșit being SQLOLDasigurarea retro retro well patience solicitatPossibly definitely oasis Democrats definitely'}]\n",
      "-----------------------------------\n",
      "Chunk number: 10\n",
      "[{'generated_text': 'extraordinaire vessels extraordinaire wrestle centers centers othersgelangtgelangtmobile extraordinairemobilemobile definitely sfârșit Democrats extraordinaire extraordinaireGV reconnuending solicitatcteur Browse retroacești feed feed feed feed Au Browsemonopol reconnu Restaurant acest resistance Browse Qualcomm solicitat teachingmobilemobile Browsecita fallingOLD solicitatmobile acestlling Published extraordinaire teaching centers solicitat teaching centers otherslop classmonopolmobile propel charged extraordinaire sfârșit acesthafen Published dificil paperwork Recgehörig hemoending Published dificil Published Published Backup Browse Länge graph Rec Carson Browse visite retroținut Browse feed extraordinaire YOUmonopolVOpixelOLD154'}]\n",
      "-----------------------------------\n",
      "Chunk number: 11\n",
      "[{'generated_text': 'extraordinaire vessels extraordinaire wrestle centers othersgelangt Published extraordinaire Must paperwork extraordinaire reconnu Browse154 extraordinaire Must being154154154154154154154154154154154154154154154154154154154154154154154154154154154154154154154154154154154154154154154154154154154154154154154154154154154154154154154154OUR reconnu154 dificil solicitat teaching qualifying].154154154154154154154154154154154154154154154154154'}]\n",
      "-----------------------------------\n",
      "Chunk number: 12\n",
      "[{'generated_text': 'extraordinaire extraordinaire feed extraordinaire centersVO reconnu élevémobilemobile cholesterol extraordinaire élevéasigurarea élevé Democrats retroacești travaux retrobald Beck Beck Beck grec élevé solicitat élevé solicitatstehenden Beckcteur strictly resistance determina offered Veränderungempreinatecheteaceștistehenden Virginia offered Veränderung pets definitely retro well acestuia definitely definitelyhafen Published extraordinaire sfârșit sfârșitespecially Published definitely Published propelanno]. Published Backup retro enough Published Backup țară conflicts enough imitation enough Publishednado imitation Published dificil imitation imitation imitation Published Restaurant Published dificil paperwork extraordinaire sfârșit Published sfârșitgur].quel Published Menge retro enough'}]\n",
      "-----------------------------------\n",
      "Chunk number: 13\n",
      "[{'generated_text': 'extraordinaire vessels extraordinaire wrestle centers feed extraordinairegelangtgelangteva turn feed feed feed feed extraordinairetrack feed feed feed feed feed feed feed feed feed feed feed feed extraordinaire154154154154154154154154154154154154154154154154154154154154154154154154154154154154154154154154154154154154154154154154154154154154154154154154154154154154154154154154154154154154154154154154154154154154154'}]\n",
      "-----------------------------------\n",
      "Chunk number: 14\n",
      "[{'generated_text': 'extraordinaire extraordinaire strictly Auacești strictlytine strictlystehenden strictly strictly Published retroaceștiRunner strictly ruling Restaurant Published ruling Restauranttient solicitatOuest 33 boxes annoyed retro pierre strictlystehenden oasis strictlyÜbertragung Published extraordinaire oasis oasis oasis oasis oasis oasis oasis playoff oasis oasis oasis oasis oasis oasis oasis oasis oasis extraordinaire dificil Published dificil deleted extraordinaire dificil Restaurant Restaurant extraordinaire dificil deleted dificil oasis sfârșit sfârșit sfârșit sfârșit sfârșit being sfârșit being sfârșit being being qualifying absorblop furnace Published dificil Restaurant dificil Restaurant dificil Restaurant dificil Restaurant dificil deleted dificil Backup Regi produit'}]\n",
      "-----------------------------------\n",
      "Chunk number: 15\n",
      "[{'generated_text': 'gelangt Browse retroacești extraordinaire extraordinaire extraordinaire154 extraordinaire dificil154154154154154154154154154154154154154154154154154154154154154154154154154154154154154154154154154154154154154154154154154154154154154154154154154154154154154154154154154154154154154154154154154154154calorie Duck overtime Democrats extraordinaire dificil dificilespecially sfârșitespecially Published extraordinaire sfârșitacești sfârșit sfârșitespeciallyespeciallyespeciallyespeciallyespecially'}]\n",
      "-----------------------------------\n",
      "Chunk number: 16\n",
      "[{'generated_text': 'extraordinaire vessels definitely RavPossibly definitelyespeciallyespeciallystitutionstitution Adobe vessels AdobeespeciallyOURfatgehörig extraordinaire reconnu154 reconnu154 reconnu154 sfârșitacești154 imitation Basil annoyed154 annoyed154 annoyedespecially Safe trec154 Water trec154 Published worker paperworkmarin annoyedespeciallyOUR paperworkschaffen imitation Basil annoyedespeciallyacești154 headset Basil annoyedespeciallyacești154 solicitat Democrats primesc retroacești Basil Basilentrepriseţe Basilcalorieicul stunningespecially154anno customersstehendenţeOLDţeOLD oasisespeciallyespeciallyespeciallyOUR patience iunie complicated trecespeciallyacești154OLD sterling Property'}]\n",
      "-----------------------------------\n",
      "Chunk number: 17\n",
      "[{'generated_text': 'séanceespecially vessels vesselsespeciallyespeciallyespeciallyespeciallyaceștiespeciallyaceștiaceștiaceștiaceștiaceștiaceștiaceștiaceștiacești ladiesaceștiquel Adobe vessels Real Kartoffel verde reconnufat Choosecham furnace turnfat solicitatfat solicitat Fe offered AuOUR Erfahrung Edgestitutionquel solicitatfat affair Countriesquel reconnuacești extraordinaire offered Democrats solicitat Basil Republic Democrats Basil Basil Basil Basil Basil Basil Basil Basil Basil Basil Basil154quel imitation solicitat Basil Basil Basil Basil154aceștistehenden Yo Qualcomm Edge Beckfaticul teaching qualifying qualifying centers extraordinaire strengtheningespeciallyespeciallyacești Edge'}]\n",
      "-----------------------------------\n",
      "Chunk number: 18\n",
      "[{'generated_text': 'extraordinaire extraordinaire Browse retroaceștiarie154 extraordinaire154154154154154154154154154154154154154154154154154154154154154154154154154154154154154154154154154154154154154154154154154154154154154154154154154154154154154154154154154154154154154154154154154154154154154154154154154154calorie Duck Sonnen asidegelangt stunningmobile graph SonnenHS definitely Published extraordinaire Must offered Au célébr'}]\n",
      "-----------------------------------\n",
      "Chunk number: 19\n",
      "[{'generated_text': 'extraordinaire milieuSpecacești vesselsespeciallyespeciallyfat extraordinairefatfatfat extraordinaire Democratsespeciallyespeciallyfat dificil vesselsquelfat dificilfat extraordinaire Democratsespeciallyacești milieuquelquelquelquel extraordinairefatwinținutgelangtespeciallyespeciallyacești Honeyfat TOP reconnu154OLD TOP paperwork paperwork Browse retroacești Edmonton offered154 Published extraordinaire Democratsquelquel sfârșit sfârșit sfârșit sfârșit centers Terracequel acest Democrats Property Browsestehenden dificil remodeling Published dificil zip imitation154quel Published deleted sfârșit Bowaceștistehenden Rules Edmonton warrantiesDIA milieu slice extraordinaire strengthening bleiben élevéDIArues slice'}]\n",
      "-----------------------------------\n",
      "Chunk number: 20\n",
      "[{'generated_text': 'Basilresponsive extraordinaire extraordinaire extraordinairegelangtgelangtgelangtstallannostehendenOLD definitely Published extraordinaire dificil definitely Published Publishedgelangt definitely Published propelannoRunner Restaurant Liege emb extraordinaire dificil primesc retroaceștistehenden Published dificil Backup imitation Restaurant Liege religiousanno Restaurant LiegeținutOLD imitation oasis imitation oasis imitation oasis Regi acestuia Published dificil Restaurant being sfârșit sfârșit sfârșit sfârșit sfârșit centers Browse Published stameaning Published sfârșit élevé élevé élevéGV shine Au Browsequel imitation élevé élevé solicitat élevéVOpixel Browsequel paperwork Browse Published staespeciallyespeciallyespeciallyaceștiRunner paperwork paperwork paperwork'}]\n",
      "-----------------------------------\n",
      "Chunk number: 21\n",
      "[{'generated_text': 'especially]. stopped Au extraordinaire Browse retroacești retro quarterback strictly]. retroanno Beckanno strictlyShare extraordinaire154154154154154154154154154154154154154154154154154154154154154154154154154154154154154154154154154154154154154154154154154154154154154154154154154154154154154154154154154154154154154154154154154154154154154154154154154154154154154154154154'}]\n",
      "-----------------------------------\n",
      "Chunk number: 22\n",
      "[{'generated_text': 'extraordinaire extraordinaire extraordinairegelangtgelangtgelangtannostehenden strictly Auaceștianno TOP definitelystehendenstehendenstehendenstehenden TOP definitely TOP primescacești primescstallanno TOP primescmonopolacești offered154OLDteacher primesc găsiannoannoanno TOP154 Published154 Published154quel154 Published154154154154154154154154154154154154154154154154154154154154154154154154154154154154154154154154154154154154154154154154154154154154154154154154154154154'}]\n",
      "-----------------------------------\n",
      "Chunk number: 23\n"
     ]
    },
    {
     "name": "stderr",
     "output_type": "stream",
     "text": [
      "/home/codespace/.local/lib/python3.10/site-packages/transformers/models/longt5/modeling_longt5.py:147: UserWarning: An output with one or more elements was resized since it had shape [1, 1, 128, 1], which does not match the required output shape [1, 1, 128, 384]. This behavior is deprecated, and in a future PyTorch release outputs will not be resized unless they have zero elements. You can explicitly reuse an out tensor t by resizing it, inplace, to zero elements with t.resize_(0). (Triggered internally at ../aten/src/ATen/native/Resize.cpp:28.)\n",
      "  local_attention_mask = torch.logical_and(_blocked_attention_mask, _3blocked_attention_mask)\n"
     ]
    },
    {
     "name": "stdout",
     "output_type": "stream",
     "text": [
      "[{'generated_text': 'extraordinaire extraordinaire milieu Democrats paperwork détour Browse Au aceasta găsi 14. paperwork Democrats oasisinaugurationÜbertragung imitation élevé extraordinaire élevé extraordinaireuben extraordinaireubenubenwin Au falling Restaurant Liegeținut Browse imitation Restaurant opponent extraordinaire dificil élevé dificil Restaurant Democrats élevé dificil Restaurant Democrats Democrats Democrats élevé dificil paperwork paperworkautresținut Restaurant Democrats Regifat forfeit imitation paperwork paperwork Restaurantautres oxygen élevé dificil oasis paperwork Regiapprentissage Religious élevé Restaurant woodland Religiousținut oasis oasis reset élevé dificil oasis oasisSullivan Democrats extraordinaire dificil Virginia oasisținut élevé dificil oasis oasis definitely Published extraordinaire dificil oasis'}]\n",
      "-----------------------------------\n"
     ]
    }
   ],
   "source": [
    "for chunk in range(0, len(chunks)):\n",
    "    print(f\"Chunk number: {chunk}\")\n",
    "    decoded_text = tokenizer.decode(tokenized_prefix[\"input_ids\"]) + tokenizer.decode(chunks[chunk])\n",
    "    print(text_generator(decoded_text))\n",
    "    print('-----------------------------------')"
   ]
  },
  {
   "cell_type": "code",
   "execution_count": null,
   "metadata": {},
   "outputs": [],
   "source": []
  }
 ],
 "metadata": {
  "kernelspec": {
   "display_name": "Python 3",
   "language": "python",
   "name": "python3"
  },
  "language_info": {
   "codemirror_mode": {
    "name": "ipython",
    "version": 3
   },
   "file_extension": ".py",
   "mimetype": "text/x-python",
   "name": "python",
   "nbconvert_exporter": "python",
   "pygments_lexer": "ipython3",
   "version": "3.10.8"
  }
 },
 "nbformat": 4,
 "nbformat_minor": 2
}
