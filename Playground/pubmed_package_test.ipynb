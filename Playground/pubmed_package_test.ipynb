{
 "cells": [
  {
   "cell_type": "code",
   "execution_count": 2,
   "metadata": {},
   "outputs": [],
   "source": [
    "import pandas as pd"
   ]
  },
  {
   "cell_type": "code",
   "execution_count": 26,
   "metadata": {},
   "outputs": [
    {
     "name": "stdout",
     "output_type": "stream",
     "text": [
      "<class 'pymed.article.PubMedArticle'>\n",
      "<class 'pymed.article.PubMedArticle'>\n",
      "<class 'pymed.article.PubMedArticle'>\n",
      "<class 'pymed.article.PubMedArticle'>\n",
      "<class 'pymed.article.PubMedArticle'>\n"
     ]
    }
   ],
   "source": [
    "from pymed import PubMed\n",
    "\n",
    "\n",
    "# Create a PubMed object that GraphQL can use to query\n",
    "# Note that the parameters are not required but kindly requested by PubMed Central\n",
    "# https://www.ncbi.nlm.nih.gov/pmc/tools/developers/\n",
    "pubmed = PubMed(tool=\"MyTool\", email=\"suzanna.thompson@duke.edu\")\n",
    "\n",
    "# Create a GraphQL query in plain text\n",
    "query = \"transcranial magnetic stimulation[Title]\"\n",
    "\n",
    "\n",
    "# Execute the query against the API\n",
    "results = pubmed.query(query, max_results=5)\n",
    "\n",
    "# Loop over the retrieved articles\n",
    "for article in results:\n",
    "\n",
    "    # Print the type of object we've found (can be either PubMedBookArticle or PubMedArticle)\n",
    "    print(type(article))\n",
    "\n",
    "    # Print a JSON representation of the object\n",
    "    my_dict = article.toDict()\n"
   ]
  },
  {
   "cell_type": "code",
   "execution_count": 29,
   "metadata": {},
   "outputs": [
    {
     "data": {
      "text/plain": [
       "0    10.5606/tftrd.2023.11585\n",
       "1    10.5606/tftrd.2023.11585\n",
       "2    10.5606/tftrd.2023.11585\n",
       "3    10.5606/tftrd.2023.11585\n",
       "Name: doi, dtype: object"
      ]
     },
     "execution_count": 29,
     "metadata": {},
     "output_type": "execute_result"
    }
   ],
   "source": [
    "pd.DataFrame.from_dict(my_dict)['doi']"
   ]
  },
  {
   "cell_type": "code",
   "execution_count": 4,
   "metadata": {},
   "outputs": [
    {
     "data": {
      "text/plain": [
       "<itertools.chain at 0x7f6efed0ef80>"
      ]
     },
     "execution_count": 4,
     "metadata": {},
     "output_type": "execute_result"
    }
   ],
   "source": [
    "results"
   ]
  },
  {
   "cell_type": "code",
   "execution_count": 8,
   "metadata": {},
   "outputs": [
    {
     "name": "stdout",
     "output_type": "stream",
     "text": [
      "Collecting pubmed\n",
      "  Downloading pubmed-0.0.2.post0.zip (5.4 kB)\n",
      "  Preparing metadata (setup.py) ... \u001b[?25ldone\n",
      "\u001b[?25hRequirement already satisfied: beautifulsoup4 in /home/codespace/.local/lib/python3.10/site-packages (from pubmed) (4.12.2)\n",
      "Collecting pyquery (from pubmed)\n",
      "  Downloading pyquery-2.0.0-py3-none-any.whl (22 kB)\n",
      "Requirement already satisfied: soupsieve>1.2 in /home/codespace/.local/lib/python3.10/site-packages (from beautifulsoup4->pubmed) (2.5)\n",
      "Collecting lxml>=2.1 (from pyquery->pubmed)\n",
      "  Obtaining dependency information for lxml>=2.1 from https://files.pythonhosted.org/packages/3c/d2/11533f0bc47ff4d828a20cfb702f3453fe714bd5b475fcdc8cec6e6b7dcf/lxml-4.9.3-cp310-cp310-manylinux_2_28_x86_64.whl.metadata\n",
      "  Downloading lxml-4.9.3-cp310-cp310-manylinux_2_28_x86_64.whl.metadata (3.8 kB)\n",
      "Collecting cssselect>=1.2.0 (from pyquery->pubmed)\n",
      "  Downloading cssselect-1.2.0-py2.py3-none-any.whl (18 kB)\n",
      "Downloading lxml-4.9.3-cp310-cp310-manylinux_2_28_x86_64.whl (7.9 MB)\n",
      "\u001b[2K   \u001b[90m━━━━━━━━━━━━━━━━━━━━━━━━━━━━━━━━━━━━━━━━\u001b[0m \u001b[32m7.9/7.9 MB\u001b[0m \u001b[31m55.0 MB/s\u001b[0m eta \u001b[36m0:00:00\u001b[0m:00:01\u001b[0m00:01\u001b[0m\n",
      "\u001b[?25hBuilding wheels for collected packages: pubmed\n",
      "  Building wheel for pubmed (setup.py) ... \u001b[?25ldone\n",
      "\u001b[?25h  Created wheel for pubmed: filename=pubmed-0.0.2.post0-py2.py3-none-any.whl size=3605 sha256=61d8fd64f725613e08b9c858037369e2df03b10a1d7bac9fc1f8b7cffdbcf71a\n",
      "  Stored in directory: /home/codespace/.cache/pip/wheels/0d/2a/93/9d630d003ae26f785ccf6588a440e77661c5fc3ff050e3b9e3\n",
      "Successfully built pubmed\n",
      "Installing collected packages: lxml, cssselect, pyquery, pubmed\n",
      "Successfully installed cssselect-1.2.0 lxml-4.9.3 pubmed-0.0.2.post0 pyquery-2.0.0\n",
      "Note: you may need to restart the kernel to use updated packages.\n"
     ]
    }
   ],
   "source": [
    "%pip install pubmed"
   ]
  },
  {
   "cell_type": "code",
   "execution_count": 19,
   "metadata": {},
   "outputs": [
    {
     "ename": "SyntaxError",
     "evalue": "Missing parentheses in call to 'print'. Did you mean print(...)? (literature.py, line 59)",
     "output_type": "error",
     "traceback": [
      "Traceback \u001b[0;36m(most recent call last)\u001b[0m:\n",
      "\u001b[0m  File \u001b[1;32m~/.local/lib/python3.10/site-packages/IPython/core/interactiveshell.py:3526\u001b[0m in \u001b[1;35mrun_code\u001b[0m\n    exec(code_obj, self.user_global_ns, self.user_ns)\u001b[0m\n",
      "\u001b[0m  Cell \u001b[1;32mIn[19], line 1\u001b[0m\n    from pubmed import PubMed\u001b[0m\n",
      "\u001b[0;36m  File \u001b[0;32m~/.python/current/lib/python3.10/site-packages/pubmed/__init__.py:4\u001b[0;36m\n\u001b[0;31m    from .literature import PubMed\u001b[0;36m\n",
      "\u001b[0;36m  File \u001b[0;32m~/.python/current/lib/python3.10/site-packages/pubmed/literature.py:59\u001b[0;36m\u001b[0m\n\u001b[0;31m    print 'loading literature information...',\u001b[0m\n\u001b[0m    ^\u001b[0m\n\u001b[0;31mSyntaxError\u001b[0m\u001b[0;31m:\u001b[0m Missing parentheses in call to 'print'. Did you mean print(...)?\n"
     ]
    }
   ],
   "source": [
    "from pubmed import PubMed\n",
    "\n",
    "# Initialize PubMed object\n",
    "pubmed = PubMed(tool=\"MyTool\", email=\"my@email.com\")\n",
    "\n",
    "# Search for articles on a specific topic\n",
    "results = pubmed.query(\"Your search query\", max_results=5)\n",
    "\n",
    "for article in results:\n",
    "    print(f\"Title: {article['title']}\")\n",
    "    print(f\"Abstract: {article['abstract']}\")\n",
    "\n",
    "    # Access the full text of the article\n",
    "    full_text = pubmed.get_full_text(article)\n",
    "\n"
   ]
  },
  {
   "cell_type": "code",
   "execution_count": 10,
   "metadata": {},
   "outputs": [
    {
     "name": "stdout",
     "output_type": "stream",
     "text": [
      "Collecting biopython\n",
      "  Downloading biopython-1.81-cp310-cp310-manylinux_2_17_x86_64.manylinux2014_x86_64.whl (3.1 MB)\n",
      "\u001b[2K     \u001b[90m━━━━━━━━━━━━━━━━━━━━━━━━━━━━━━━━━━━━━━━━\u001b[0m \u001b[32m3.1/3.1 MB\u001b[0m \u001b[31m24.4 MB/s\u001b[0m eta \u001b[36m0:00:00\u001b[0m00:01\u001b[0m00:01\u001b[0m\n",
      "\u001b[?25hRequirement already satisfied: numpy in /home/codespace/.local/lib/python3.10/site-packages (from biopython) (1.25.2)\n",
      "Installing collected packages: biopython\n",
      "Successfully installed biopython-1.81\n",
      "Note: you may need to restart the kernel to use updated packages.\n"
     ]
    }
   ],
   "source": [
    "%pip install biopython"
   ]
  },
  {
   "cell_type": "code",
   "execution_count": 11,
   "metadata": {},
   "outputs": [],
   "source": [
    "from Bio import Entrez"
   ]
  },
  {
   "cell_type": "code",
   "execution_count": 12,
   "metadata": {},
   "outputs": [],
   "source": [
    "def search(query):\n",
    "    Entrez.email = 'your.email@example.com'\n",
    "    handle = Entrez.esearch(db='pubmed',\n",
    "                            sort='relevance',\n",
    "                            retmax='20',\n",
    "                            retmode='xml',\n",
    "                            term=query)\n",
    "    results = Entrez.read(handle)\n",
    "    return results"
   ]
  },
  {
   "cell_type": "code",
   "execution_count": 13,
   "metadata": {},
   "outputs": [],
   "source": [
    "def fetch_details(id_list):\n",
    "    ids = ','.join(id_list)\n",
    "    Entrez.email = 'your.email@example.com'\n",
    "    handle = Entrez.efetch(db='pubmed',\n",
    "                           retmode='xml',\n",
    "                           id=ids)\n",
    "    results = Entrez.read(handle)\n",
    "    return results"
   ]
  },
  {
   "cell_type": "code",
   "execution_count": 14,
   "metadata": {},
   "outputs": [
    {
     "name": "stdout",
     "output_type": "stream",
     "text": [
      "1) The management of fever in children.\n",
      "2) Neurogenic Fever.\n",
      "3) Fever--an update.\n",
      "4) Fever.\n",
      "5) Diagnosis and management of undifferentiated fever in children.\n",
      "6) Fever in the postoperative patient.\n",
      "7) Drug fever.\n",
      "8) Postoperative fever.\n",
      "9) Fever in the tropics: the ultimate clinical challenge?\n",
      "10) Fever in the elderly.\n",
      "11) Fever in immunocompromised hosts.\n",
      "12) Antipyresis and fever.\n",
      "13) Fever in the returning traveler.\n",
      "14) Fever: causes and consequences.\n",
      "15) Fever of unknown origin.\n",
      "16) Fever.\n",
      "17) [Drug-induced fever].\n",
      "18) Fever control in the neuro-ICU: why, who, and when?\n",
      "19) A review of the physiology of fever in birds.\n",
      "20) Fever in the neurosurgical patient.\n"
     ]
    }
   ],
   "source": [
    "if __name__ == '__main__':\n",
    "    results = search('fever')\n",
    "    id_list = results['IdList']\n",
    "    papers = fetch_details(id_list)\n",
    "    for i, paper in enumerate(papers['PubmedArticle']):\n",
    "         print(\"{}) {}\".format(i+1, paper['MedlineCitation']['Article']['ArticleTitle']))\n"
   ]
  },
  {
   "cell_type": "code",
   "execution_count": 15,
   "metadata": {},
   "outputs": [
    {
     "name": "stdout",
     "output_type": "stream",
     "text": [
      "{\n",
      "  \"MedlineCitation\": {\n",
      "    \"OtherAbstract\": [],\n",
      "    \"GeneralNote\": [],\n",
      "    \"KeywordList\": [],\n",
      "    \"SpaceFlightMission\": [],\n",
      "    \"OtherID\": [],\n",
      "    \"CitationSubset\": [\n",
      "      \"IM\"\n",
      "    ],\n",
      "    \"PMID\": \"35822579\",\n",
      "    \"DateCompleted\": {\n",
      "      \"Year\": \"2022\",\n",
      "      \"Month\": \"11\",\n",
      "      \"Day\": \"10\"\n",
      "    },\n",
      "    \"DateRevised\": {\n",
      "      \"Year\": \"2022\",\n",
      "      \"Month\": \"11\",\n",
      "      \"Day\": \"10\"\n",
      "    },\n",
      "    \"Article\": {\n",
      "      \"ELocationID\": [\n",
      "        \"10.23736/S2724-5276.22.06680-0\"\n",
      "      ],\n",
      "      \"Language\": [\n",
      "        \"eng\"\n",
      "      ],\n",
      "      \"ArticleDate\": [\n",
      "        {\n",
      "          \"Year\": \"2022\",\n",
      "          \"Month\": \"07\",\n",
      "          \"Day\": \"13\"\n",
      "        }\n",
      "      ],\n",
      "      \"Journal\": {\n",
      "        \"ISSN\": \"2724-5780\",\n",
      "        \"JournalIssue\": {\n",
      "          \"Volume\": \"74\",\n",
      "          \"Issue\": \"5\",\n",
      "          \"PubDate\": {\n",
      "            \"Year\": \"2022\",\n",
      "            \"Month\": \"Oct\"\n",
      "          }\n",
      "        },\n",
      "        \"Title\": \"Minerva pediatrics\",\n",
      "        \"ISOAbbreviation\": \"Minerva Pediatr (Torino)\"\n",
      "      },\n",
      "      \"ArticleTitle\": \"The management of fever in children.\",\n",
      "      \"Pagination\": {\n",
      "        \"StartPage\": \"568\",\n",
      "        \"EndPage\": \"578\",\n",
      "        \"MedlinePgn\": \"568-578\"\n",
      "      },\n",
      "      \"Abstract\": {\n",
      "        \"AbstractText\": [\n",
      "          \"Fever is an abnormal increase in body temperature that occurs as part of a specific biologic response mediated and controlled by the central nervous system. Despite the fact that most fevers are viral in origin, approaching a febrile child is always a concern for any physician. There is still a significant gap between current practice and scientific evidence. According to research, we are at a crossroad, with strong research evidence accumulating over the last few decades supporting a positive role for fever and the ongoing pressures of current practice to lower body temperature. Despite the fact that most pediatricians agree that treating a febrile child with antipyretics is primarily for the relief of fever symptoms, many continue to prescribe antipyretics for any child with fever, ignoring important research messages. By prescribing antipyretics to children who are only mildly febrile, pediatricians may contribute to fever phobia. We give parents the impression that fever is harmful and that antipyresis is beneficial when we focus on treating the fever. The purpose of this review is to present the evidence that is currently available regarding the management of the febrile child.\"\n",
      "        ]\n",
      "      },\n",
      "      \"AuthorList\": [\n",
      "        {\n",
      "          \"Identifier\": [],\n",
      "          \"AffiliationInfo\": [\n",
      "            {\n",
      "              \"Identifier\": [],\n",
      "              \"Affiliation\": \"Pediatric Intensive Care Unit, Mother Theresa University Hospital Center, Tirane, Albania - ilirjanabakalli@yahoo.com.\"\n",
      "            }\n",
      "          ],\n",
      "          \"LastName\": \"Bakalli\",\n",
      "          \"ForeName\": \"Ilirjana\",\n",
      "          \"Initials\": \"I\"\n",
      "        },\n",
      "        {\n",
      "          \"Identifier\": [],\n",
      "          \"AffiliationInfo\": [\n",
      "            {\n",
      "              \"Identifier\": [],\n",
      "              \"Affiliation\": \"Medical University of Vienna, Vienna, Austria.\"\n",
      "            }\n",
      "          ],\n",
      "          \"LastName\": \"Klironomi\",\n",
      "          \"ForeName\": \"Dea\",\n",
      "          \"Initials\": \"D\"\n",
      "        },\n",
      "        {\n",
      "          \"Identifier\": [],\n",
      "          \"AffiliationInfo\": [\n",
      "            {\n",
      "              \"Identifier\": [],\n",
      "              \"Affiliation\": \"Pediatric Intensive Care Unit, Mother Theresa University Hospital Center, Tirane, Albania.\"\n",
      "            }\n",
      "          ],\n",
      "          \"LastName\": \"Kola\",\n",
      "          \"ForeName\": \"Ermira\",\n",
      "          \"Initials\": \"E\"\n",
      "        },\n",
      "        {\n",
      "          \"Identifier\": [],\n",
      "          \"AffiliationInfo\": [\n",
      "            {\n",
      "              \"Identifier\": [],\n",
      "              \"Affiliation\": \"Pediatric Intensive Care Unit, Mother Theresa University Hospital Center, Tirane, Albania.\"\n",
      "            }\n",
      "          ],\n",
      "          \"LastName\": \"Celaj\",\n",
      "          \"ForeName\": \"Ermela\",\n",
      "          \"Initials\": \"E\"\n",
      "        }\n",
      "      ],\n",
      "      \"PublicationTypeList\": [\n",
      "        \"Review\",\n",
      "        \"Journal Article\"\n",
      "      ]\n",
      "    },\n",
      "    \"MedlineJournalInfo\": {\n",
      "      \"Country\": \"Italy\",\n",
      "      \"MedlineTA\": \"Minerva Pediatr (Torino)\",\n",
      "      \"NlmUniqueID\": \"101777303\",\n",
      "      \"ISSNLinking\": \"2724-5780\"\n",
      "    },\n",
      "    \"ChemicalList\": [\n",
      "      {\n",
      "        \"RegistryNumber\": \"0\",\n",
      "        \"NameOfSubstance\": \"Antipyretics\"\n",
      "      }\n",
      "    ],\n",
      "    \"MeshHeadingList\": [\n",
      "      {\n",
      "        \"QualifierName\": [],\n",
      "        \"DescriptorName\": \"Child\"\n",
      "      },\n",
      "      {\n",
      "        \"QualifierName\": [],\n",
      "        \"DescriptorName\": \"Humans\"\n",
      "      },\n",
      "      {\n",
      "        \"QualifierName\": [\n",
      "          \"therapeutic use\"\n",
      "        ],\n",
      "        \"DescriptorName\": \"Antipyretics\"\n",
      "      },\n",
      "      {\n",
      "        \"QualifierName\": [\n",
      "          \"therapy\",\n",
      "          \"diagnosis\"\n",
      "        ],\n",
      "        \"DescriptorName\": \"Fever\"\n",
      "      },\n",
      "      {\n",
      "        \"QualifierName\": [],\n",
      "        \"DescriptorName\": \"Body Temperature\"\n",
      "      },\n",
      "      {\n",
      "        \"QualifierName\": [],\n",
      "        \"DescriptorName\": \"Pediatricians\"\n",
      "      },\n",
      "      {\n",
      "        \"QualifierName\": [],\n",
      "        \"DescriptorName\": \"Parents\"\n",
      "      }\n",
      "    ]\n",
      "  },\n",
      "  \"PubmedData\": {\n",
      "    \"ReferenceList\": [],\n",
      "    \"History\": [\n",
      "      {\n",
      "        \"Year\": \"2022\",\n",
      "        \"Month\": \"7\",\n",
      "        \"Day\": \"14\",\n",
      "        \"Hour\": \"6\",\n",
      "        \"Minute\": \"0\"\n",
      "      },\n",
      "      {\n",
      "        \"Year\": \"2022\",\n",
      "        \"Month\": \"11\",\n",
      "        \"Day\": \"11\",\n",
      "        \"Hour\": \"6\",\n",
      "        \"Minute\": \"0\"\n",
      "      },\n",
      "      {\n",
      "        \"Year\": \"2022\",\n",
      "        \"Month\": \"7\",\n",
      "        \"Day\": \"13\",\n",
      "        \"Hour\": \"6\",\n",
      "        \"Minute\": \"32\"\n",
      "      }\n",
      "    ],\n",
      "    \"PublicationStatus\": \"ppublish\",\n",
      "    \"ArticleIdList\": [\n",
      "      \"35822579\",\n",
      "      \"10.23736/S2724-5276.22.06680-0\",\n",
      "      \"S2724-5276.22.06680-0\"\n",
      "    ]\n",
      "  }\n",
      "}\n"
     ]
    }
   ],
   "source": [
    "# Pretty print the first paper in full to observe its structure\n",
    "import json\n",
    "print(json.dumps(papers['PubmedArticle'][0], indent=2))"
   ]
  },
  {
   "cell_type": "code",
   "execution_count": 18,
   "metadata": {},
   "outputs": [
    {
     "ename": "ModuleNotFoundError",
     "evalue": "No module named 'urllib2'",
     "output_type": "error",
     "traceback": [
      "\u001b[0;31m---------------------------------------------------------------------------\u001b[0m",
      "\u001b[0;31mModuleNotFoundError\u001b[0m                       Traceback (most recent call last)",
      "\u001b[1;32m/workspaces/Wikistim-Summarization/Playground/pubmed_package_test.ipynb Cell 12\u001b[0m line \u001b[0;36m2\n\u001b[1;32m      <a href='vscode-notebook-cell://codespaces%2Bfictional-space-guacamole-wpx7rggr4pjh5vpv/workspaces/Wikistim-Summarization/Playground/pubmed_package_test.ipynb#X14sdnNjb2RlLXJlbW90ZQ%3D%3D?line=0'>1</a>\u001b[0m \u001b[39mimport\u001b[39;00m \u001b[39murllib\u001b[39;00m \n\u001b[0;32m----> <a href='vscode-notebook-cell://codespaces%2Bfictional-space-guacamole-wpx7rggr4pjh5vpv/workspaces/Wikistim-Summarization/Playground/pubmed_package_test.ipynb#X14sdnNjb2RlLXJlbW90ZQ%3D%3D?line=1'>2</a>\u001b[0m \u001b[39mimport\u001b[39;00m \u001b[39murllib2\u001b[39;00m\n\u001b[1;32m      <a href='vscode-notebook-cell://codespaces%2Bfictional-space-guacamole-wpx7rggr4pjh5vpv/workspaces/Wikistim-Summarization/Playground/pubmed_package_test.ipynb#X14sdnNjb2RlLXJlbW90ZQ%3D%3D?line=2'>3</a>\u001b[0m \u001b[39mimport\u001b[39;00m \u001b[39msys\u001b[39;00m\n\u001b[1;32m      <a href='vscode-notebook-cell://codespaces%2Bfictional-space-guacamole-wpx7rggr4pjh5vpv/workspaces/Wikistim-Summarization/Playground/pubmed_package_test.ipynb#X14sdnNjb2RlLXJlbW90ZQ%3D%3D?line=4'>5</a>\u001b[0m \u001b[39mdef\u001b[39;00m \u001b[39mfetchByQuery\u001b[39m(query,days):\n",
      "\u001b[0;31mModuleNotFoundError\u001b[0m: No module named 'urllib2'"
     ]
    }
   ],
   "source": [
    "import urllib \n",
    "import urllib2\n",
    "import sys\n",
    "\n",
    "def fetchByQuery(query,days):\n",
    "    Entrez.email = \"xxx\" # you must give NCBI an email address\n",
    "    searchHandle=Entrez.esearch(db=\"pmc\", reldate=days, term=query, usehistory=\"y\")\n",
    "    searchResults=Entrez.read(searchHandle)\n",
    "    searchHandle.close()\n",
    "    webEnv=searchResults[\"WebEnv\"]\n",
    "    queryKey=searchResults[\"QueryKey\"]\n",
    "    batchSize=10\n",
    "    try:\n",
    "        fetchHandle = Entrez.efetch(db=\"pmc\", retmax=100, retmode=\"xml\", webenv=webEnv, query_key=queryKey)\n",
    "        data=fetchHandle.read()\n",
    "        fetchHandle.close()\n",
    "        return data\n",
    "    except:\n",
    "        return None\n",
    "\n",
    "days=100 #looking for papers in the last 100 days\n",
    "termList=[\"yeast\",\"Saccharomyces\"] \n",
    "\n",
    "query=\" AND \".join(termList)\n",
    "xml_data=fetchByQuery(query,days)\n",
    "if xml_data==None: \n",
    "    print(80*\"*\"+\"\\n\")\n",
    "    print(\"This search returned no hits\")\n",
    "\n",
    "else:\n",
    "    f=open(\"pmcXml.txt\" ,\"w\")\n",
    "    f.write(xml_data)\n",
    "    f.close()"
   ]
  },
  {
   "cell_type": "code",
   "execution_count": 31,
   "metadata": {},
   "outputs": [
    {
     "name": "stdout",
     "output_type": "stream",
     "text": [
      "Collecting elsapy\n",
      "  Downloading elsapy-0.5.1-py3-none-any.whl (12 kB)\n",
      "Requirement already satisfied: requests in /home/codespace/.local/lib/python3.10/site-packages (from elsapy) (2.31.0)\n",
      "Requirement already satisfied: charset-normalizer<4,>=2 in /home/codespace/.local/lib/python3.10/site-packages (from requests->elsapy) (3.2.0)\n",
      "Requirement already satisfied: idna<4,>=2.5 in /home/codespace/.local/lib/python3.10/site-packages (from requests->elsapy) (3.4)\n",
      "Requirement already satisfied: urllib3<3,>=1.21.1 in /home/codespace/.local/lib/python3.10/site-packages (from requests->elsapy) (2.0.4)\n",
      "Requirement already satisfied: certifi>=2017.4.17 in /home/codespace/.local/lib/python3.10/site-packages (from requests->elsapy) (2023.7.22)\n",
      "Installing collected packages: elsapy\n",
      "Successfully installed elsapy-0.5.1\n",
      "Note: you may need to restart the kernel to use updated packages.\n"
     ]
    }
   ],
   "source": [
    "%pip install elsapy"
   ]
  },
  {
   "cell_type": "code",
   "execution_count": 32,
   "metadata": {},
   "outputs": [],
   "source": [
    "\n",
    "from elsapy.elsclient import ElsClient\n",
    "from elsapy.elsprofile import ElsAuthor, ElsAffil\n",
    "from elsapy.elsdoc import FullDoc, AbsDoc\n",
    "from elsapy.elssearch import ElsSearch\n",
    "import json"
   ]
  },
  {
   "cell_type": "code",
   "execution_count": 34,
   "metadata": {},
   "outputs": [],
   "source": [
    "con_file = open(\"/workspaces/Wikistim-Summarization/config.json\")\n",
    "config = json.load(con_file)\n",
    "con_file.close()"
   ]
  },
  {
   "cell_type": "code",
   "execution_count": 36,
   "metadata": {},
   "outputs": [],
   "source": [
    "client = ElsClient(config['apikey'])"
   ]
  },
  {
   "cell_type": "code",
   "execution_count": 37,
   "metadata": {},
   "outputs": [],
   "source": [
    "my_auth = ElsAuthor(\n",
    "        uri = 'https://api.elsevier.com/content/author/author_id/7004367821')"
   ]
  },
  {
   "cell_type": "code",
   "execution_count": 38,
   "metadata": {},
   "outputs": [
    {
     "name": "stdout",
     "output_type": "stream",
     "text": [
      "Read author failed.\n"
     ]
    }
   ],
   "source": [
    "if my_auth.read(client):\n",
    "    print (\"my_auth.full_name: \", my_auth.full_name)\n",
    "    my_auth.write()\n",
    "else:\n",
    "    print (\"Read author failed.\")"
   ]
  },
  {
   "cell_type": "code",
   "execution_count": 39,
   "metadata": {},
   "outputs": [
    {
     "name": "stdout",
     "output_type": "stream",
     "text": [
      "Read affiliation failed.\n"
     ]
    }
   ],
   "source": [
    "my_aff = ElsAffil(affil_id = '60101411')\n",
    "if my_aff.read(client):\n",
    "    print (\"my_aff.name: \", my_aff.name)\n",
    "    my_aff.write()\n",
    "else:\n",
    "    print (\"Read affiliation failed.\")"
   ]
  },
  {
   "cell_type": "code",
   "execution_count": 40,
   "metadata": {},
   "outputs": [
    {
     "name": "stdout",
     "output_type": "stream",
     "text": [
      "scp_doc.title:  Control of somatic tissue differentiation by the long non-coding RNA TINCR\n"
     ]
    }
   ],
   "source": [
    "scp_doc = AbsDoc(scp_id = 84872135457)\n",
    "if scp_doc.read(client):\n",
    "    print (\"scp_doc.title: \", scp_doc.title)\n",
    "    scp_doc.write()   \n",
    "else:\n",
    "    print (\"Read document failed.\")"
   ]
  },
  {
   "cell_type": "code",
   "execution_count": 47,
   "metadata": {},
   "outputs": [
    {
     "name": "stdout",
     "output_type": "stream",
     "text": [
      "pii_doc.title:  Establishing the fair allocation of international aviation carbon emission rights\n"
     ]
    }
   ],
   "source": [
    "pii_doc = FullDoc(sd_pii = 'S1674927814000082')\n",
    "if pii_doc.read(client):\n",
    "    print (\"pii_doc.title: \", pii_doc.title)\n",
    "    pii_doc.write()   \n",
    "else:\n",
    "    print (\"Read document failed.\")"
   ]
  },
  {
   "cell_type": "code",
   "execution_count": 42,
   "metadata": {},
   "outputs": [
    {
     "name": "stdout",
     "output_type": "stream",
     "text": [
      "doi_doc.title:  Sensitive Sequencing Method for KRAS Mutation Detection by Pyrosequencing \n"
     ]
    }
   ],
   "source": [
    "doi_doc = FullDoc(doi = '10.1016/S1525-1578(10)60571-5')\n",
    "if doi_doc.read(client):\n",
    "    print (\"doi_doc.title: \", doi_doc.title)\n",
    "    doi_doc.write()   \n",
    "else:\n",
    "    print (\"Read document failed.\")"
   ]
  },
  {
   "cell_type": "code",
   "execution_count": 44,
   "metadata": {},
   "outputs": [
    {
     "name": "stdout",
     "output_type": "stream",
     "text": [
      "Load documents (Y/N)?\n",
      "Read docs for author failed.\n",
      "Read docs for affiliation failed.\n"
     ]
    }
   ],
   "source": [
    "print (\"Load documents (Y/N)?\")\n",
    "s = input('--> ')\n",
    "\n",
    "if (s == \"y\" or s == \"Y\"):\n",
    "\n",
    "    ## Read all documents for example author, then write to disk\n",
    "    if my_auth.read_docs(client):\n",
    "        print (\"my_auth.doc_list has \" + str(len(my_auth.doc_list)) + \" items.\")\n",
    "        my_auth.write_docs()\n",
    "    else:\n",
    "        print (\"Read docs for author failed.\")\n",
    "\n",
    "    ## Read all documents for example affiliation, then write to disk\n",
    "    if my_aff.read_docs(client):\n",
    "        print (\"my_aff.doc_list has \" + str(len(my_aff.doc_list)) + \" items.\")\n",
    "        my_aff.write_docs()\n",
    "    else:\n",
    "        print (\"Read docs for affiliation failed.\")"
   ]
  },
  {
   "cell_type": "code",
   "execution_count": 45,
   "metadata": {},
   "outputs": [
    {
     "ename": "HTTPError",
     "evalue": "HTTP 401 Error from https://api.elsevier.com/content/search/author?query=authlast%28keuskamp%29\nand using headers {'X-ELS-APIKey': 'ec35f663ecf6501d66550e2b2d63591b', 'User-Agent': 'elsapy-v0.5.1', 'Accept': 'application/json'}:\n{\"service-error\":{\"status\":{\"statusCode\":\"AUTHORIZATION_ERROR\",\"statusText\":\"The requestor is not authorized to access the requested view or fields of the resource\"}}}",
     "output_type": "error",
     "traceback": [
      "\u001b[0;31m---------------------------------------------------------------------------\u001b[0m",
      "\u001b[0;31mHTTPError\u001b[0m                                 Traceback (most recent call last)",
      "\u001b[1;32m/workspaces/Wikistim-Summarization/Playground/pubmed_package_test.ipynb Cell 25\u001b[0m line \u001b[0;36m2\n\u001b[1;32m      <a href='vscode-notebook-cell://codespaces%2Bfictional-space-guacamole-wpx7rggr4pjh5vpv/workspaces/Wikistim-Summarization/Playground/pubmed_package_test.ipynb#X32sdnNjb2RlLXJlbW90ZQ%3D%3D?line=0'>1</a>\u001b[0m auth_srch \u001b[39m=\u001b[39m ElsSearch(\u001b[39m'\u001b[39m\u001b[39mauthlast(keuskamp)\u001b[39m\u001b[39m'\u001b[39m,\u001b[39m'\u001b[39m\u001b[39mauthor\u001b[39m\u001b[39m'\u001b[39m)\n\u001b[0;32m----> <a href='vscode-notebook-cell://codespaces%2Bfictional-space-guacamole-wpx7rggr4pjh5vpv/workspaces/Wikistim-Summarization/Playground/pubmed_package_test.ipynb#X32sdnNjb2RlLXJlbW90ZQ%3D%3D?line=1'>2</a>\u001b[0m auth_srch\u001b[39m.\u001b[39;49mexecute(client)\n\u001b[1;32m      <a href='vscode-notebook-cell://codespaces%2Bfictional-space-guacamole-wpx7rggr4pjh5vpv/workspaces/Wikistim-Summarization/Playground/pubmed_package_test.ipynb#X32sdnNjb2RlLXJlbW90ZQ%3D%3D?line=2'>3</a>\u001b[0m \u001b[39mprint\u001b[39m (\u001b[39m\"\u001b[39m\u001b[39mauth_srch has\u001b[39m\u001b[39m\"\u001b[39m, \u001b[39mlen\u001b[39m(auth_srch\u001b[39m.\u001b[39mresults), \u001b[39m\"\u001b[39m\u001b[39mresults.\u001b[39m\u001b[39m\"\u001b[39m)\n",
      "File \u001b[0;32m~/.python/current/lib/python3.10/site-packages/elsapy/elssearch.py:108\u001b[0m, in \u001b[0;36mElsSearch.execute\u001b[0;34m(self, els_client, get_all, use_cursor, view, count, fields)\u001b[0m\n\u001b[1;32m    106\u001b[0m \u001b[39mif\u001b[39;00m view:\n\u001b[1;32m    107\u001b[0m     url \u001b[39m+\u001b[39m\u001b[39m=\u001b[39m \u001b[39m\"\u001b[39m\u001b[39m&view=\u001b[39m\u001b[39m{}\u001b[39;00m\u001b[39m\"\u001b[39m\u001b[39m.\u001b[39mformat(view)\n\u001b[0;32m--> 108\u001b[0m api_response \u001b[39m=\u001b[39m els_client\u001b[39m.\u001b[39;49mexec_request(url)\n\u001b[1;32m    109\u001b[0m \u001b[39mself\u001b[39m\u001b[39m.\u001b[39m_tot_num_res \u001b[39m=\u001b[39m \u001b[39mint\u001b[39m(api_response[\u001b[39m'\u001b[39m\u001b[39msearch-results\u001b[39m\u001b[39m'\u001b[39m][\u001b[39m'\u001b[39m\u001b[39mopensearch:totalResults\u001b[39m\u001b[39m'\u001b[39m])\n\u001b[1;32m    110\u001b[0m \u001b[39mself\u001b[39m\u001b[39m.\u001b[39m_results \u001b[39m=\u001b[39m api_response[\u001b[39m'\u001b[39m\u001b[39msearch-results\u001b[39m\u001b[39m'\u001b[39m][\u001b[39m'\u001b[39m\u001b[39mentry\u001b[39m\u001b[39m'\u001b[39m]\n",
      "File \u001b[0;32m~/.python/current/lib/python3.10/site-packages/elsapy/elsclient.py:121\u001b[0m, in \u001b[0;36mElsClient.exec_request\u001b[0;34m(self, URL)\u001b[0m\n\u001b[1;32m    119\u001b[0m \u001b[39melse\u001b[39;00m:\n\u001b[1;32m    120\u001b[0m     \u001b[39mself\u001b[39m\u001b[39m.\u001b[39m_status_msg\u001b[39m=\u001b[39m\u001b[39m\"\u001b[39m\u001b[39mHTTP \u001b[39m\u001b[39m\"\u001b[39m \u001b[39m+\u001b[39m \u001b[39mstr\u001b[39m(r\u001b[39m.\u001b[39mstatus_code) \u001b[39m+\u001b[39m \u001b[39m\"\u001b[39m\u001b[39m Error from \u001b[39m\u001b[39m\"\u001b[39m \u001b[39m+\u001b[39m URL \u001b[39m+\u001b[39m \u001b[39m\"\u001b[39m\u001b[39m and using headers \u001b[39m\u001b[39m\"\u001b[39m \u001b[39m+\u001b[39m \u001b[39mstr\u001b[39m(headers) \u001b[39m+\u001b[39m \u001b[39m\"\u001b[39m\u001b[39m: \u001b[39m\u001b[39m\"\u001b[39m \u001b[39m+\u001b[39m r\u001b[39m.\u001b[39mtext\n\u001b[0;32m--> 121\u001b[0m     \u001b[39mraise\u001b[39;00m requests\u001b[39m.\u001b[39mHTTPError(\u001b[39m\"\u001b[39m\u001b[39mHTTP \u001b[39m\u001b[39m\"\u001b[39m \u001b[39m+\u001b[39m \u001b[39mstr\u001b[39m(r\u001b[39m.\u001b[39mstatus_code) \u001b[39m+\u001b[39m \u001b[39m\"\u001b[39m\u001b[39m Error from \u001b[39m\u001b[39m\"\u001b[39m \u001b[39m+\u001b[39m URL \u001b[39m+\u001b[39m \u001b[39m\"\u001b[39m\u001b[39m\\n\u001b[39;00m\u001b[39mand using headers \u001b[39m\u001b[39m\"\u001b[39m \u001b[39m+\u001b[39m \u001b[39mstr\u001b[39m(headers) \u001b[39m+\u001b[39m \u001b[39m\"\u001b[39m\u001b[39m:\u001b[39m\u001b[39m\\n\u001b[39;00m\u001b[39m\"\u001b[39m \u001b[39m+\u001b[39m r\u001b[39m.\u001b[39mtext)\n",
      "\u001b[0;31mHTTPError\u001b[0m: HTTP 401 Error from https://api.elsevier.com/content/search/author?query=authlast%28keuskamp%29\nand using headers {'X-ELS-APIKey': 'ec35f663ecf6501d66550e2b2d63591b', 'User-Agent': 'elsapy-v0.5.1', 'Accept': 'application/json'}:\n{\"service-error\":{\"status\":{\"statusCode\":\"AUTHORIZATION_ERROR\",\"statusText\":\"The requestor is not authorized to access the requested view or fields of the resource\"}}}"
     ]
    }
   ],
   "source": [
    "auth_srch = ElsSearch('authlast(keuskamp)','author')\n",
    "auth_srch.execute(client)\n",
    "print (\"auth_srch has\", len(auth_srch.results), \"results.\")"
   ]
  },
  {
   "cell_type": "code",
   "execution_count": 1,
   "metadata": {},
   "outputs": [
    {
     "name": "stdout",
     "output_type": "stream",
     "text": [
      "Collecting tabula\n",
      "  Downloading tabula-1.0.5.tar.gz (9.5 kB)\n",
      "  Preparing metadata (setup.py) ... \u001b[?25ldone\n",
      "\u001b[?25hRequirement already satisfied: setuptools in /home/codespace/.local/lib/python3.10/site-packages (from tabula) (68.0.0)\n",
      "Requirement already satisfied: numpy in /home/codespace/.local/lib/python3.10/site-packages (from tabula) (1.25.2)\n",
      "Building wheels for collected packages: tabula\n",
      "  Building wheel for tabula (setup.py) ... \u001b[?25ldone\n",
      "\u001b[?25h  Created wheel for tabula: filename=tabula-1.0.5-py3-none-any.whl size=10587 sha256=2d8afc4aaa67b2a4d6ef44e3d279906cb2793617f5ff46fe70156b0dda1d79de\n",
      "  Stored in directory: /home/codespace/.cache/pip/wheels/3c/5d/6a/bd13fe26e73e2170dfea1f6ccb69a69e824735e04b73192b39\n",
      "Successfully built tabula\n",
      "Installing collected packages: tabula\n",
      "Successfully installed tabula-1.0.5\n",
      "Note: you may need to restart the kernel to use updated packages.\n"
     ]
    }
   ],
   "source": [
    "%pip install tabula"
   ]
  },
  {
   "cell_type": "code",
   "execution_count": 2,
   "metadata": {},
   "outputs": [
    {
     "name": "stdout",
     "output_type": "stream",
     "text": [
      "Collecting pypdf2\n",
      "  Downloading pypdf2-3.0.1-py3-none-any.whl (232 kB)\n",
      "\u001b[2K     \u001b[90m━━━━━━━━━━━━━━━━━━━━━━━━━━━━━━━━━━━━━━━\u001b[0m \u001b[32m232.6/232.6 kB\u001b[0m \u001b[31m4.2 MB/s\u001b[0m eta \u001b[36m0:00:00\u001b[0ma \u001b[36m0:00:01\u001b[0m\n",
      "\u001b[?25hInstalling collected packages: pypdf2\n",
      "Successfully installed pypdf2-3.0.1\n",
      "Note: you may need to restart the kernel to use updated packages.\n"
     ]
    }
   ],
   "source": [
    "%pip install pypdf2\n"
   ]
  },
  {
   "cell_type": "code",
   "execution_count": null,
   "metadata": {},
   "outputs": [],
   "source": [
    "# Import library\n",
    "import pypdf2\n",
    "\n",
    "# Create a file object for a pdf file.\n",
    "pdfFile = open(\"example.pdf\", \"rb\")\n",
    "\n",
    "# Create an object for reading a file.\n",
    "pdfReader = pypdf2.PdfFileReader(pdfFile)\n",
    "\n",
    "# Get the number of pages in the pdf file.\n",
    "numPages = pdfReader.numPages\n",
    "\n",
    "# Create an object to get the text from page 0.\n",
    "page = pdfReader.getPage(0)\n",
    "\n",
    "# Get text from the created object.\n",
    "text = page.extractText()\n",
    "\n",
    "# Print the number of pages and text data.\n",
    "print(\"Number of Pages:\", numPages)"
   ]
  }
 ],
 "metadata": {
  "kernelspec": {
   "display_name": "Python 3",
   "language": "python",
   "name": "python3"
  },
  "language_info": {
   "codemirror_mode": {
    "name": "ipython",
    "version": 3
   },
   "file_extension": ".py",
   "mimetype": "text/x-python",
   "name": "python",
   "nbconvert_exporter": "python",
   "pygments_lexer": "ipython3",
   "version": "3.10.8"
  },
  "orig_nbformat": 4
 },
 "nbformat": 4,
 "nbformat_minor": 2
}
